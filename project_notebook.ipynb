{
 "cells": [
  {
   "cell_type": "markdown",
   "id": "896217a2",
   "metadata": {},
   "source": [
    "# MOVIE MARKET ANALYTICS \n",
    " **SEEKING INSIGHTS FOR NEW FILM STUDIO**"
   ]
  },
  {
   "cell_type": "markdown",
   "id": "1fb924cf",
   "metadata": {},
   "source": [
    "*GROUP 4-B*\n",
    "\n",
    "*DSF-FT12-HYBRID*\n",
    "\n",
    "*TECHNICAL MENTOR : SAMUEL KARU*"
   ]
  },
  {
   "cell_type": "markdown",
   "id": "447eb60b",
   "metadata": {},
   "source": [
    "## INTRODUCTION"
   ]
  },
  {
   "cell_type": "markdown",
   "id": "c478d627",
   "metadata": {},
   "source": [
    "In the rapidly growing world of cinema,there has been an noticeable rise in the originality and creativity of films as seen amongst the leading movie production studios.Recognizing this trend,our company developed a profound interest in entering the film industry.However,succeeding in this highly competitive space does not only require creative ambition but demands data-driven insights to identify the most profitable and successful genres in the industry to persue. "
   ]
  },
  {
   "cell_type": "markdown",
   "id": "60703008",
   "metadata": {},
   "source": [
    "## BUSINESS UNDERSTANDING"
   ]
  },
  {
   "cell_type": "markdown",
   "id": "99747224",
   "metadata": {},
   "source": [
    "Our company is intrested in venturing into the film industry.The key business problem we want to find the solution to is **determining what types of films are most likely to succeed at the box office**.To do this we have come up with clear objectives that will be a guide to this project to solve the problem at hand. \n",
    "\n",
    "The primary objectives are as follows:\n",
    "1. **Analyze different genre performance based on ratings and votes** to determine and understand what types of movies have historically performed well at the box office.\n",
    "\n",
    "2. **Examine the influence of directors on movie ratings**.By identifying succesfull directors whose styles or approaches may inspire the new studio's productions.\n",
    "\n",
    "3. **Uncover key patterns and actionable trends in films success over time**. By comparing release years of films alongside rating data to uncover patterns of diferent genres over the years.\n",
    "\n",
    "4. **Recommend concrete strategies the business should take in order for them to succeed in the industry**. These recommendation will be based on the insights got after analysing the data we have.\n"
   ]
  },
  {
   "cell_type": "markdown",
   "id": "2efa36b3",
   "metadata": {},
   "source": [
    "## DATA PREPROCESSING"
   ]
  },
  {
   "cell_type": "markdown",
   "id": "c4218f44",
   "metadata": {},
   "source": [
    "The data used for this project is sourced from multiple platforms which are: **Internet Movie Database(IMDb)** , \n",
    "**Box offic Mojo** , **Rotten Tomatoes** , **TheMovieDB** and **The Numbers**. A thorough Exploratory Data Analysis(EDA) will be performed with a focus on  data from **IMdb**, **Rotten Tomatoes**,**Box office Mojo** and **ThemovieDB**.\n",
    "As part of the data preprocessing process, we will:\n",
    "\n",
    "> Clean the data by handling missing values and correcting inconsistencies(Duplicates e.t.c)\n",
    "\n",
    "> Merge relevant datasets to create a unified dataset that can be analysed easily.\n",
    " \n",
    "> Explore relationships between movie attributes and success metrics through visualizations and descriptive statistics\n",
    "\n",
    "Through insightful visualizations and statistical exploration, we aim to uncover key patterns and trends that will inform the final business recommendations and help achieve the above stated project objectives."
   ]
  },
  {
   "cell_type": "markdown",
   "id": "ef8a55e0",
   "metadata": {},
   "source": [
    "## DATA PREPARATION(BOX OFFICE MOJO/THE NUMBERS)"
   ]
  },
  {
   "cell_type": "markdown",
   "id": "e9ab2d5e",
   "metadata": {},
   "source": [
    "## 【1】*Data Exploration*  "
   ]
  },
  {
   "cell_type": "code",
   "execution_count": 75,
   "id": "148bb5af",
   "metadata": {},
   "outputs": [],
   "source": [
    "# Import neccesary libraries\n",
    "import numpy as np\n",
    "import matplotlib.pyplot as plt\n",
    "import pandas as pd\n",
    "import seaborn as sns\n",
    "from scipy.stats import ttest_rel\n",
    "from scipy.stats import ttest_ind\n",
    "from scipy.stats import pearsonr"
   ]
  },
  {
   "cell_type": "code",
   "execution_count": 76,
   "id": "5b5dfe98",
   "metadata": {},
   "outputs": [
    {
     "data": {
      "text/html": [
       "<div>\n",
       "<style scoped>\n",
       "    .dataframe tbody tr th:only-of-type {\n",
       "        vertical-align: middle;\n",
       "    }\n",
       "\n",
       "    .dataframe tbody tr th {\n",
       "        vertical-align: top;\n",
       "    }\n",
       "\n",
       "    .dataframe thead th {\n",
       "        text-align: right;\n",
       "    }\n",
       "</style>\n",
       "<table border=\"1\" class=\"dataframe\">\n",
       "  <thead>\n",
       "    <tr style=\"text-align: right;\">\n",
       "      <th></th>\n",
       "      <th>title</th>\n",
       "      <th>studio</th>\n",
       "      <th>domestic_gross</th>\n",
       "      <th>foreign_gross</th>\n",
       "      <th>year</th>\n",
       "    </tr>\n",
       "  </thead>\n",
       "  <tbody>\n",
       "    <tr>\n",
       "      <th>0</th>\n",
       "      <td>Toy Story 3</td>\n",
       "      <td>BV</td>\n",
       "      <td>415000000.0</td>\n",
       "      <td>652000000</td>\n",
       "      <td>2010</td>\n",
       "    </tr>\n",
       "    <tr>\n",
       "      <th>1</th>\n",
       "      <td>Alice in Wonderland (2010)</td>\n",
       "      <td>BV</td>\n",
       "      <td>334200000.0</td>\n",
       "      <td>691300000</td>\n",
       "      <td>2010</td>\n",
       "    </tr>\n",
       "    <tr>\n",
       "      <th>2</th>\n",
       "      <td>Harry Potter and the Deathly Hallows Part 1</td>\n",
       "      <td>WB</td>\n",
       "      <td>296000000.0</td>\n",
       "      <td>664300000</td>\n",
       "      <td>2010</td>\n",
       "    </tr>\n",
       "    <tr>\n",
       "      <th>3</th>\n",
       "      <td>Inception</td>\n",
       "      <td>WB</td>\n",
       "      <td>292600000.0</td>\n",
       "      <td>535700000</td>\n",
       "      <td>2010</td>\n",
       "    </tr>\n",
       "    <tr>\n",
       "      <th>4</th>\n",
       "      <td>Shrek Forever After</td>\n",
       "      <td>P/DW</td>\n",
       "      <td>238700000.0</td>\n",
       "      <td>513900000</td>\n",
       "      <td>2010</td>\n",
       "    </tr>\n",
       "  </tbody>\n",
       "</table>\n",
       "</div>"
      ],
      "text/plain": [
       "                                         title studio  domestic_gross  \\\n",
       "0                                  Toy Story 3     BV     415000000.0   \n",
       "1                   Alice in Wonderland (2010)     BV     334200000.0   \n",
       "2  Harry Potter and the Deathly Hallows Part 1     WB     296000000.0   \n",
       "3                                    Inception     WB     292600000.0   \n",
       "4                          Shrek Forever After   P/DW     238700000.0   \n",
       "\n",
       "  foreign_gross  year  \n",
       "0     652000000  2010  \n",
       "1     691300000  2010  \n",
       "2     664300000  2010  \n",
       "3     535700000  2010  \n",
       "4     513900000  2010  "
      ]
     },
     "execution_count": 76,
     "metadata": {},
     "output_type": "execute_result"
    }
   ],
   "source": [
    "# Load the dataset\n",
    "Gross_df = pd.read_csv('./Data/bom.movie_gross.csv.gz', compression='gzip')\n",
    "Gross_df.head()"
   ]
  },
  {
   "cell_type": "code",
   "execution_count": 77,
   "id": "08bf693e",
   "metadata": {},
   "outputs": [
    {
     "data": {
      "text/html": [
       "<div>\n",
       "<style scoped>\n",
       "    .dataframe tbody tr th:only-of-type {\n",
       "        vertical-align: middle;\n",
       "    }\n",
       "\n",
       "    .dataframe tbody tr th {\n",
       "        vertical-align: top;\n",
       "    }\n",
       "\n",
       "    .dataframe thead th {\n",
       "        text-align: right;\n",
       "    }\n",
       "</style>\n",
       "<table border=\"1\" class=\"dataframe\">\n",
       "  <thead>\n",
       "    <tr style=\"text-align: right;\">\n",
       "      <th></th>\n",
       "      <th>id</th>\n",
       "      <th>release_date</th>\n",
       "      <th>movie</th>\n",
       "      <th>production_budget</th>\n",
       "      <th>domestic_gross</th>\n",
       "      <th>worldwide_gross</th>\n",
       "    </tr>\n",
       "  </thead>\n",
       "  <tbody>\n",
       "    <tr>\n",
       "      <th>0</th>\n",
       "      <td>1</td>\n",
       "      <td>Dec 18, 2009</td>\n",
       "      <td>Avatar</td>\n",
       "      <td>$425,000,000</td>\n",
       "      <td>$760,507,625</td>\n",
       "      <td>$2,776,345,279</td>\n",
       "    </tr>\n",
       "    <tr>\n",
       "      <th>1</th>\n",
       "      <td>2</td>\n",
       "      <td>May 20, 2011</td>\n",
       "      <td>Pirates of the Caribbean: On Stranger Tides</td>\n",
       "      <td>$410,600,000</td>\n",
       "      <td>$241,063,875</td>\n",
       "      <td>$1,045,663,875</td>\n",
       "    </tr>\n",
       "    <tr>\n",
       "      <th>2</th>\n",
       "      <td>3</td>\n",
       "      <td>Jun 7, 2019</td>\n",
       "      <td>Dark Phoenix</td>\n",
       "      <td>$350,000,000</td>\n",
       "      <td>$42,762,350</td>\n",
       "      <td>$149,762,350</td>\n",
       "    </tr>\n",
       "    <tr>\n",
       "      <th>3</th>\n",
       "      <td>4</td>\n",
       "      <td>May 1, 2015</td>\n",
       "      <td>Avengers: Age of Ultron</td>\n",
       "      <td>$330,600,000</td>\n",
       "      <td>$459,005,868</td>\n",
       "      <td>$1,403,013,963</td>\n",
       "    </tr>\n",
       "    <tr>\n",
       "      <th>4</th>\n",
       "      <td>5</td>\n",
       "      <td>Dec 15, 2017</td>\n",
       "      <td>Star Wars Ep. VIII: The Last Jedi</td>\n",
       "      <td>$317,000,000</td>\n",
       "      <td>$620,181,382</td>\n",
       "      <td>$1,316,721,747</td>\n",
       "    </tr>\n",
       "  </tbody>\n",
       "</table>\n",
       "</div>"
      ],
      "text/plain": [
       "   id  release_date                                        movie  \\\n",
       "0   1  Dec 18, 2009                                       Avatar   \n",
       "1   2  May 20, 2011  Pirates of the Caribbean: On Stranger Tides   \n",
       "2   3   Jun 7, 2019                                 Dark Phoenix   \n",
       "3   4   May 1, 2015                      Avengers: Age of Ultron   \n",
       "4   5  Dec 15, 2017            Star Wars Ep. VIII: The Last Jedi   \n",
       "\n",
       "  production_budget domestic_gross worldwide_gross  \n",
       "0      $425,000,000   $760,507,625  $2,776,345,279  \n",
       "1      $410,600,000   $241,063,875  $1,045,663,875  \n",
       "2      $350,000,000    $42,762,350    $149,762,350  \n",
       "3      $330,600,000   $459,005,868  $1,403,013,963  \n",
       "4      $317,000,000   $620,181,382  $1,316,721,747  "
      ]
     },
     "execution_count": 77,
     "metadata": {},
     "output_type": "execute_result"
    }
   ],
   "source": [
    "# Load the dataset\n",
    "Number_df = pd.read_csv(\"./Data/tn.movie_budgets.csv.gz\", compression='gzip')\n",
    "Number_df.head()"
   ]
  },
  {
   "cell_type": "markdown",
   "id": "8a49a09a",
   "metadata": {},
   "source": [
    "## 【2】*Data Cleaning* "
   ]
  },
  {
   "cell_type": "markdown",
   "id": "dcae15d4",
   "metadata": {},
   "source": [
    "> BOX OFFICE MOJO"
   ]
  },
  {
   "cell_type": "code",
   "execution_count": 78,
   "id": "814710b7",
   "metadata": {},
   "outputs": [
    {
     "name": "stdout",
     "output_type": "stream",
     "text": [
      "<class 'pandas.core.frame.DataFrame'>\n",
      "RangeIndex: 3387 entries, 0 to 3386\n",
      "Data columns (total 5 columns):\n",
      " #   Column          Non-Null Count  Dtype  \n",
      "---  ------          --------------  -----  \n",
      " 0   title           3387 non-null   object \n",
      " 1   studio          3382 non-null   object \n",
      " 2   domestic_gross  3359 non-null   float64\n",
      " 3   foreign_gross   2037 non-null   object \n",
      " 4   year            3387 non-null   int64  \n",
      "dtypes: float64(1), int64(1), object(3)\n",
      "memory usage: 132.4+ KB\n"
     ]
    }
   ],
   "source": [
    "# Check info\n",
    "Gross_df.info()"
   ]
  },
  {
   "cell_type": "code",
   "execution_count": 79,
   "id": "3b3c813d",
   "metadata": {},
   "outputs": [
    {
     "data": {
      "text/plain": [
       "(3387, 5)"
      ]
     },
     "execution_count": 79,
     "metadata": {},
     "output_type": "execute_result"
    }
   ],
   "source": [
    "# Check shape of the dataset\n",
    "Gross_df.shape"
   ]
  },
  {
   "cell_type": "code",
   "execution_count": 80,
   "id": "bd81a447",
   "metadata": {},
   "outputs": [
    {
     "data": {
      "text/plain": [
       "title                0\n",
       "studio               5\n",
       "domestic_gross      28\n",
       "foreign_gross     1350\n",
       "year                 0\n",
       "dtype: int64"
      ]
     },
     "execution_count": 80,
     "metadata": {},
     "output_type": "execute_result"
    }
   ],
   "source": [
    "# check for number of missing values\n",
    "Gross_df.isna().sum()"
   ]
  },
  {
   "cell_type": "code",
   "execution_count": 81,
   "id": "aa343ab4",
   "metadata": {},
   "outputs": [],
   "source": [
    "# Drop rows with missing values \n",
    "Gross_df = Gross_df.dropna(subset=['studio' , 'domestic_gross' , 'foreign_gross'])"
   ]
  },
  {
   "cell_type": "code",
   "execution_count": 82,
   "id": "8a036ec6",
   "metadata": {},
   "outputs": [
    {
     "data": {
      "text/plain": [
       "title             0\n",
       "studio            0\n",
       "domestic_gross    0\n",
       "foreign_gross     0\n",
       "year              0\n",
       "dtype: int64"
      ]
     },
     "execution_count": 82,
     "metadata": {},
     "output_type": "execute_result"
    }
   ],
   "source": [
    "# Check for missing values again\n",
    "Gross_df.isna().sum()"
   ]
  },
  {
   "cell_type": "code",
   "execution_count": 83,
   "id": "d4a4153c",
   "metadata": {},
   "outputs": [
    {
     "name": "stdout",
     "output_type": "stream",
     "text": [
      "<class 'pandas.core.frame.DataFrame'>\n",
      "Int64Index: 2007 entries, 0 to 3353\n",
      "Data columns (total 5 columns):\n",
      " #   Column          Non-Null Count  Dtype  \n",
      "---  ------          --------------  -----  \n",
      " 0   title           2007 non-null   object \n",
      " 1   studio          2007 non-null   object \n",
      " 2   domestic_gross  2007 non-null   float64\n",
      " 3   foreign_gross   2007 non-null   object \n",
      " 4   year            2007 non-null   int64  \n",
      "dtypes: float64(1), int64(1), object(3)\n",
      "memory usage: 94.1+ KB\n"
     ]
    }
   ],
   "source": [
    "# Check info\n",
    "Gross_df.info()"
   ]
  },
  {
   "cell_type": "code",
   "execution_count": 84,
   "id": "9c7b4bc5",
   "metadata": {},
   "outputs": [
    {
     "data": {
      "text/plain": [
       "0"
      ]
     },
     "execution_count": 84,
     "metadata": {},
     "output_type": "execute_result"
    }
   ],
   "source": [
    "# Check for dupicated values\n",
    "Gross_df.duplicated().sum()"
   ]
  },
  {
   "cell_type": "code",
   "execution_count": 85,
   "id": "7a5ed094",
   "metadata": {},
   "outputs": [
    {
     "data": {
      "text/plain": [
       "(2007, 5)"
      ]
     },
     "execution_count": 85,
     "metadata": {},
     "output_type": "execute_result"
    }
   ],
   "source": [
    "# Check the shape\n",
    "Gross_df.shape"
   ]
  },
  {
   "cell_type": "code",
   "execution_count": 86,
   "id": "957e8b09",
   "metadata": {},
   "outputs": [],
   "source": [
    "# Replacing missing or dash values with NaN, and remove commas\n",
    "for col in ['domestic_gross', 'foreign_gross']:\n",
    "    Gross_df[col] = Gross_df[col].astype(str)  # Convert to string first\n",
    "    Gross_df[col] = Gross_df[col].replace({'—': None, '': None})\n",
    "    Gross_df[col] = Gross_df[col].str.replace(',', '', regex=False)\n",
    "    Gross_df[col] = pd.to_numeric(Gross_df[col], errors='coerce')  # Final conversion to numbers"
   ]
  },
  {
   "cell_type": "code",
   "execution_count": 87,
   "id": "d0678774",
   "metadata": {},
   "outputs": [],
   "source": [
    "# Save cleaned version of dataset\n",
    "Gross_df.to_csv('Cleaned_bom.movie_gross.csv')"
   ]
  },
  {
   "cell_type": "markdown",
   "id": "698d577a",
   "metadata": {},
   "source": [
    "### *Data exploration and cleaning conclusion(BOM)*"
   ]
  },
  {
   "cell_type": "markdown",
   "id": "9b166b9f",
   "metadata": {},
   "source": [
    "> Data shape was initially, (3387, 5), However after cleaning and removal of missing values the data shape changes to,(2007, 5),There were no duplicated values,there the data can proceed to analysis and visualizations."
   ]
  },
  {
   "cell_type": "markdown",
   "id": "c1d1b3cb",
   "metadata": {},
   "source": [
    "> THE NUMBERS"
   ]
  },
  {
   "cell_type": "code",
   "execution_count": 88,
   "id": "fc889c67",
   "metadata": {},
   "outputs": [
    {
     "name": "stdout",
     "output_type": "stream",
     "text": [
      "<class 'pandas.core.frame.DataFrame'>\n",
      "RangeIndex: 5782 entries, 0 to 5781\n",
      "Data columns (total 6 columns):\n",
      " #   Column             Non-Null Count  Dtype \n",
      "---  ------             --------------  ----- \n",
      " 0   id                 5782 non-null   int64 \n",
      " 1   release_date       5782 non-null   object\n",
      " 2   movie              5782 non-null   object\n",
      " 3   production_budget  5782 non-null   object\n",
      " 4   domestic_gross     5782 non-null   object\n",
      " 5   worldwide_gross    5782 non-null   object\n",
      "dtypes: int64(1), object(5)\n",
      "memory usage: 271.2+ KB\n"
     ]
    }
   ],
   "source": [
    "# Check info\n",
    "Number_df.info()"
   ]
  },
  {
   "cell_type": "code",
   "execution_count": 89,
   "id": "0dd7d171",
   "metadata": {},
   "outputs": [
    {
     "data": {
      "text/plain": [
       "(5782, 6)"
      ]
     },
     "execution_count": 89,
     "metadata": {},
     "output_type": "execute_result"
    }
   ],
   "source": [
    "# check shape\n",
    "Number_df.shape"
   ]
  },
  {
   "cell_type": "code",
   "execution_count": 90,
   "id": "9449d8e3",
   "metadata": {},
   "outputs": [
    {
     "data": {
      "text/plain": [
       "0"
      ]
     },
     "execution_count": 90,
     "metadata": {},
     "output_type": "execute_result"
    }
   ],
   "source": [
    "# Check for Duplicates\n",
    "Number_df.duplicated().sum()"
   ]
  },
  {
   "cell_type": "code",
   "execution_count": 91,
   "id": "3f847302",
   "metadata": {},
   "outputs": [],
   "source": [
    "# Save the data\n",
    "Number_df.to_csv('Cleaned_tn_movie_budgets.csv')"
   ]
  },
  {
   "cell_type": "markdown",
   "id": "01141e43",
   "metadata": {},
   "source": [
    "### *Data exploration and cleaning conclusion(The Numbers)*"
   ]
  },
  {
   "cell_type": "markdown",
   "id": "942f5dcd",
   "metadata": {},
   "source": [
    "> The data from The numbers dataset is in quite mint condition with no missing values or Duplicated values, it has a shape of (5782, 6),showcasing rows and columns respectively."
   ]
  },
  {
   "cell_type": "markdown",
   "id": "e8d6f492",
   "metadata": {},
   "source": [
    "## 【3】*Data Analysis and Visualization* "
   ]
  },
  {
   "cell_type": "markdown",
   "id": "3e8e9920",
   "metadata": {},
   "source": [
    "> 1.TOP PERFORMING STUDIOS(OUR COMPETITORS)"
   ]
  },
  {
   "cell_type": "code",
   "execution_count": 92,
   "id": "4cde916b",
   "metadata": {},
   "outputs": [
    {
     "data": {
      "image/png": "[encoded data removed]",
      "text/plain": [
       "<Figure size 720x432 with 1 Axes>"
      ]
     },
     "metadata": {},
     "output_type": "display_data"
    }
   ],
   "source": [
    "# Calculate worldwide gross\n",
    "Gross_df['worldwide_gross'] = Gross_df['domestic_gross'] + Gross_df['foreign_gross']\n",
    "\n",
    "# Group by studio and sum worldwide gross\n",
    "top_studios = Gross_df.groupby('studio')['worldwide_gross'].sum().sort_values(ascending=False).head(10)\n",
    "\n",
    "# Plot\n",
    "plt.figure(figsize=(10, 6))\n",
    "sns.barplot(x= top_studios.values, y= top_studios.index, palette=\"viridis\")\n",
    "plt.title('Top 10 Performing Studios by Worldwide Gross')\n",
    "plt.xlabel('Worldwide Gross ($)')\n",
    "plt.ylabel('Studio')\n",
    "plt.tight_layout()\n",
    "plt.show()"
   ]
  },
  {
   "cell_type": "markdown",
   "id": "4d20009c",
   "metadata": {},
   "source": [
    "> 2. Domestics vs foreign revenue split"
   ]
  },
  {
   "cell_type": "code",
   "execution_count": 93,
   "id": "5d8844a7",
   "metadata": {},
   "outputs": [
    {
     "data": {
      "image/png": "[encoded data removed]",
      "text/plain": [
       "<Figure size 576x288 with 1 Axes>"
      ]
     },
     "metadata": {},
     "output_type": "display_data"
    }
   ],
   "source": [
    "# Sum up total domestic and foreign gross\n",
    "revenue_split = pd.DataFrame({\n",
    "    'Revenue': ['Domestic', 'Foreign'],\n",
    "    'Amount': [Gross_df['domestic_gross'].sum(), Gross_df['foreign_gross'].sum()]\n",
    "})\n",
    "# Horizontal bar chart\n",
    "plt.figure(figsize=(8, 4))\n",
    "sns.barplot(x='Amount', y='Revenue', data=revenue_split, palette=['skyblue', 'salmon'])\n",
    "plt.title('Domestic vs. Foreign Revenue')\n",
    "plt.xlabel('Revenue ($)')\n",
    "plt.ylabel('')\n",
    "plt.tight_layout()\n",
    "plt.show()\n"
   ]
  },
  {
   "cell_type": "markdown",
   "id": "e108ca99",
   "metadata": {},
   "source": [
    "> 3. Genre trends vs Gross"
   ]
  },
  {
   "cell_type": "code",
   "execution_count": 94,
   "id": "cff7d460",
   "metadata": {},
   "outputs": [
    {
     "data": {
      "image/png": "[encoded data removed]",
      "text/plain": [
       "<Figure size 720x432 with 1 Axes>"
      ]
     },
     "metadata": {},
     "output_type": "display_data"
    }
   ],
   "source": [
    "# Load movie_basics dataframe\n",
    "movie_basics = pd.read_csv('./UnzippedCleanedData/Cleaned_movie_basics.csv')\n",
    "# Clean and merge data\n",
    "Gross_df['clean_title'] = Gross_df['title'].str.lower().str.strip()\n",
    "movie_basics['clean_title'] = movie_basics['primary_title'].str.lower().str.strip()\n",
    "merged = pd.merge(Gross_df, movie_basics[['clean_title', 'genres']], on='clean_title', how='inner')\n",
    "\n",
    "# Prepare and plot genre revenue\n",
    "merged = merged.dropna(subset=['genres', 'worldwide_gross'])\n",
    "merged['genres'] = merged['genres'].str.split(',')\n",
    "merged = merged.explode('genres')\n",
    "merged['genres'] = merged['genres'].str.strip()\n",
    "genre_gross = merged.groupby('genres')['worldwide_gross'].sum().sort_values(ascending=False).head(10)\n",
    "\n",
    "# Plot\n",
    "plt.figure(figsize=(10, 6))\n",
    "sns.barplot(x=genre_gross.values, y=genre_gross.index, palette='magma')\n",
    "plt.title('Top 10 Genres by Worldwide Gross')\n",
    "plt.xlabel('Worldwide Gross ($)')\n",
    "plt.ylabel('Genre')\n",
    "plt.tight_layout()\n",
    "plt.show()\n"
   ]
  },
  {
   "cell_type": "markdown",
   "id": "3483c2ab",
   "metadata": {},
   "source": [
    "> 4.Budget vs Gross"
   ]
  },
  {
   "cell_type": "code",
   "execution_count": 95,
   "id": "72651621",
   "metadata": {},
   "outputs": [
    {
     "data": {
      "image/png": "[encoded data removed]",
      "text/plain": [
       "<Figure size 720x432 with 1 Axes>"
      ]
     },
     "metadata": {},
     "output_type": "display_data"
    }
   ],
   "source": [
    "# Load budget data \n",
    "budget_df = pd.read_csv(\"./UnzippedCleanedData/Cleaned_tn_movie_budgets.csv\")\n",
    "# Clean and convert currency columns\n",
    "for col in ['production_budget', 'domestic_gross', 'worldwide_gross']:\n",
    "    budget_df[col] = budget_df[col].replace('[\\$,]', '', regex=True).astype(float)\n",
    "\n",
    "# Scatter plot: Budget vs. Worldwide Gross\n",
    "plt.figure(figsize=(10, 6))\n",
    "sns.scatterplot(data=budget_df, x='production_budget', y='worldwide_gross', alpha=0.6)\n",
    "plt.title('Budget vs Worldwide Gross')\n",
    "plt.xlabel('Production Budget ($)')\n",
    "plt.ylabel('Worldwide Gross ($)')\n",
    "plt.grid(True)\n",
    "plt.tight_layout()\n",
    "plt.show()\n"
   ]
  },
  {
   "cell_type": "markdown",
   "id": "ad24572c",
   "metadata": {},
   "source": [
    "> ## *Data Analytics and visualization conclusion*"
   ]
  },
  {
   "cell_type": "markdown",
   "id": "a0ed5857",
   "metadata": {},
   "source": [
    "- Explanations for created visualizations:\n",
    "\n",
    "1. **TOP PERFORMING STUDIOS(OUR COMPETITORS)**\n",
    "- VISUALIZATION: Bar Plot of Total Worldwide Gross by Studio\n",
    "\n",
    "- EXPLANATION:This bar plot highlights the top 10 movie studios by total worldwide gross revenue. It helps identify the dominant studios in the film industry, showcasing which studios consistently produce high-grossing films. These studios represent our key competitors in terms of global reach and box office performance.\n",
    "2. **DOMESTIC VS FOREIGN REVENUE SPLIT**\n",
    "- VISUALIZATION: Horizontal side-by-side bar chart.\n",
    "\n",
    "- EXPLANATION: The chart shows how studios earn revenue across domestic markets and foreign ones. It reveals whether a studio relies more heavily on local audiences or global audiences. For instance, some studios may earn the majority of their box office from international audiences, indicating strong overseas marketing and localization strategies. Understanding this split can guide our own studio's distribution and marketing priorities.\n",
    "3. **GENRE VS GROSS**\n",
    "- VISUALIZATION: Horizontal bar plot of Worldwide Gross vs Genre \n",
    "\n",
    "- EXPLANATION:This visualization shows which genres generate the highest total worldwide gross. By splitting and aggregating multi-genre entries, we get a clear view of the most profitable film types (e.g., action, adventure, animation).This insight helps align production strategies with market demand, allowing our studio to focus on genres that resonate with large audiences and maximize revenue potential.\n",
    "4. **BUDGET VS GROSS**\n",
    "- VISUALIZATION: Scatter Plot of Production Budget vs Worldwide Gross\n",
    "\n",
    "- EXPLANATION: The scatter plot compares production budgets to worldwide gross revenue, showing the relationship between investment and returns.A positive correlation is usually visible, where higher-budget films tend to earn more, though not always proportionally.Outliers (low-budget, high-gross films) can reveal high ROI opportunities. This chart helps assess risk vs reward, guiding smarter budgeting decisions based on historical performance.\n"
   ]
  },
  {
   "cell_type": "markdown",
   "id": "4ccd7d61",
   "metadata": {},
   "source": [
    " ## 【4】*Hypothesis Testing* "
   ]
  },
  {
   "cell_type": "markdown",
   "id": "9ab072ff",
   "metadata": {},
   "source": [
    "> 1.**Domestic vs Foreign Revenue Split (Paired T-Test)**"
   ]
  },
  {
   "cell_type": "markdown",
   "id": "bb9d6082",
   "metadata": {},
   "source": [
    "Null Hypothesis(H0): The averages of both Domestic and Foreign revenue are equal.\n",
    "\n",
    "Alternative Hypothesis(H1): There is a significant difference between the averages of Domestic and foreign revenue."
   ]
  },
  {
   "cell_type": "code",
   "execution_count": 96,
   "id": "e1a9c5f1",
   "metadata": {},
   "outputs": [],
   "source": [
    "# loading  the cleaned datasets\n",
    "Gross_df = pd.read_csv('./UnzippedCleanedData/Cleaned_bom.movie_gross.csv')\n",
    "budget_df = pd.read_csv('./UnzippedCleanedData/Cleaned_tn_movie_budgets.csv')\n",
    "\n",
    "# Clean titles to help with merging\n",
    "Gross_df['clean_title'] = Gross_df['title'].str.lower().str.strip()\n",
    "budget_df['clean_title'] = budget_df['movie'].str.lower().str.strip()\n",
    "\n",
    "# Merge on clean title\n",
    "merged_df = pd.merge(budget_df, Gross_df, on='clean_title', how='inner')\n",
    "\n",
    "# Fix column names \n",
    "merged_df.rename(columns={\n",
    "    'domestic_gross_y': 'domestic_gross',\n",
    "    'foreign_gross_y': 'foreign_gross'\n",
    "}, inplace=True)\n",
    "\n",
    "# Convert gross columns to numeric\n",
    "merged_df['domestic_gross'] = pd.to_numeric(merged_df['domestic_gross'], errors='coerce')\n",
    "merged_df['foreign_gross'] = pd.to_numeric(merged_df['foreign_gross'], errors='coerce')\n",
    "\n",
    "# Drop rows where gross values are NaN or zero\n",
    "rev_df = merged_df.dropna(subset=['domestic_gross', 'foreign_gross']).copy()\n",
    "rev_df = rev_df[(rev_df['domestic_gross'] > 0) & (rev_df['foreign_gross'] > 0)]"
   ]
  },
  {
   "cell_type": "code",
   "execution_count": 97,
   "id": "b5090944",
   "metadata": {},
   "outputs": [
    {
     "name": "stdout",
     "output_type": "stream",
     "text": [
      "Paired T-statistic: -10.71, P-value: 0.0000\n",
      "The Domestic and foreign grosses are significantly different (reject H₀).\n"
     ]
    }
   ],
   "source": [
    "# Paired t-test\n",
    "t_stat, p_val = ttest_rel(rev_df['domestic_gross'], rev_df['foreign_gross'])\n",
    "print(f\"Paired T-statistic: {t_stat:.2f}, P-value: {p_val:.4f}\")\n",
    "\n",
    "if p_val < 0.05:\n",
    "    print(\"The Domestic and foreign grosses are significantly different (reject H₀).\")\n",
    "else:\n",
    "    print(\"There is no significant difference between domestic and foreign revenue (fail to reject H₀).\")\n"
   ]
  },
  {
   "cell_type": "markdown",
   "id": "3ddbe210",
   "metadata": {},
   "source": [
    "Since the p-value(rounded) < 0.05 , We are cleared to reject the null hypothesis.There is a statistically significant difference between domestic and foreign revenue. On average, one outperforms the other."
   ]
  },
  {
   "cell_type": "markdown",
   "id": "9b4db649",
   "metadata": {},
   "source": [
    "> 2.High vs Low Budget ROI Comparison (T-Test)"
   ]
  },
  {
   "cell_type": "markdown",
   "id": "346886b8",
   "metadata": {},
   "source": [
    "Null Hypothesis(H0): ROI is the same regardless if the film is high budget or low budget.\n",
    "\n",
    "Alternative Hypothesis(H1): ROI differs significantly between high budget and low budget films"
   ]
  },
  {
   "cell_type": "code",
   "execution_count": 98,
   "id": "861b1f21",
   "metadata": {},
   "outputs": [],
   "source": [
    "# Loading cleaned datasets\n",
    "Gross_df = pd.read_csv('./UnzippedCleanedData/Cleaned_bom.movie_gross.csv')\n",
    "budget_df = pd.read_csv('./UnzippedCleanedData/Cleaned_tn_movie_budgets.csv')\n",
    "\n",
    "# Clean titles to help with merging\n",
    "Gross_df['clean_title'] = Gross_df['title'].str.lower().str.strip()\n",
    "budget_df['clean_title'] = budget_df['movie'].str.lower().str.strip()\n",
    "\n",
    "# Merge datasets on clean title\n",
    "merged_df = pd.merge(budget_df, Gross_df, on='clean_title', how='inner')\n",
    "\n",
    "# Fix column names\n",
    "merged_df.rename(columns={\n",
    "    'domestic_gross_y': 'domestic_gross',\n",
    "    'foreign_gross_y': 'foreign_gross'\n",
    "}, inplace=True)\n",
    "\n",
    "# Convert relevant columns to numeric (removing $ and commas)\n",
    "merged_df['production_budget'] = merged_df['production_budget'].replace('[\\$,]', '', regex=True).astype(float)\n",
    "merged_df['worldwide_gross'] = merged_df['worldwide_gross'].replace('[\\$,]', '', regex=True).astype(float)\n",
    "\n",
    "# Drop rows with missing or zero budget/gross\n",
    "roi_df = merged_df.dropna(subset=['production_budget', 'worldwide_gross']).copy()\n",
    "roi_df = roi_df[(roi_df['production_budget'] > 0) & (roi_df['worldwide_gross'] > 0)]"
   ]
  },
  {
   "cell_type": "code",
   "execution_count": 99,
   "id": "459b0e94",
   "metadata": {},
   "outputs": [
    {
     "name": "stdout",
     "output_type": "stream",
     "text": [
      "T-statistic: -3.60, P-value: 0.0004\n",
      "There is a significant difference in ROI between high and low budget films (reject H₀).\n"
     ]
    }
   ],
   "source": [
    "# Calculate ROI = Gross / Budget\n",
    "roi_df['ROI'] = roi_df['worldwide_gross'] / roi_df['production_budget']\n",
    "\n",
    "# Median split into high and low budget\n",
    "median_budget = roi_df['production_budget'].median()\n",
    "high_budget = roi_df[roi_df['production_budget'] >= median_budget]\n",
    "low_budget = roi_df[roi_df['production_budget'] < median_budget]\n",
    "\n",
    "# Run independent t-test on ROI\n",
    "t_stat, p_val = ttest_ind(high_budget['ROI'], low_budget['ROI'], equal_var=False)\n",
    "print(f\"T-statistic: {t_stat:.2f}, P-value: {p_val:.4f}\")\n",
    "\n",
    "if p_val < 0.05:\n",
    "    print(\"There is a significant difference in ROI between high and low budget films (reject H₀).\")\n",
    "else:\n",
    "    print(\"No significant difference in ROI between high and low budget films (fail to reject H₀).\")\n"
   ]
  },
  {
   "cell_type": "markdown",
   "id": "496c8220",
   "metadata": {},
   "source": [
    "The T-statistic(-3.60),indicates that the mean ROI for low-budget films is significantly higher than that for high-budget films (the negative value suggests the direction).\n",
    "\n",
    "The p-value < 0.05 therefore we have a clear to reject the null hypothesis.\n",
    "\n",
    "Low-budget films, on average, tend to have a higher return on investment than high-budget films.This suggests that while big-budget films often bring in large gross revenues, they don't necessarily yield proportionally higher returns relative to their cost."
   ]
  },
  {
   "cell_type": "markdown",
   "id": "061832f7",
   "metadata": {},
   "source": [
    "> 3. Budget Impact on Gross(Correlation Test)"
   ]
  },
  {
   "cell_type": "markdown",
   "id": "67221c29",
   "metadata": {},
   "source": [
    "Null Hypothesis(H0): There is no correlation between Budget and Worldwide Gross.\n",
    "\n",
    "Alternative Hypothesis(H1): There is a significant correlation between Budget and worldwide Gross."
   ]
  },
  {
   "cell_type": "code",
   "execution_count": 100,
   "id": "8ad3f4db",
   "metadata": {},
   "outputs": [],
   "source": [
    "# Loading cleaned datasets\n",
    "Gross_df = pd.read_csv('./UnzippedCleanedData/Cleaned_bom.movie_gross.csv')\n",
    "budget_df = pd.read_csv('./UnzippedCleanedData/Cleaned_tn_movie_budgets.csv')\n",
    "\n",
    "# Clean titles to help with merging\n",
    "Gross_df['clean_title'] = Gross_df['title'].str.lower().str.strip()\n",
    "budget_df['clean_title'] = budget_df['movie'].str.lower().str.strip()\n",
    "\n",
    "# Merge datasets on clean title\n",
    "merged_df = pd.merge(budget_df, Gross_df, on='clean_title', how='inner')\n",
    "\n",
    "# Fix column names\n",
    "merged_df.rename(columns={\n",
    "    'domestic_gross_y': 'domestic_gross',\n",
    "    'foreign_gross_y': 'foreign_gross'\n",
    "}, inplace=True)\n",
    "\n",
    "# Convert relevant columns to numeric (removing $ and commas)\n",
    "merged_df['production_budget'] = merged_df['production_budget'].replace('[\\$,]', '', regex=True).astype(float)\n",
    "merged_df['worldwide_gross'] = merged_df['worldwide_gross'].replace('[\\$,]', '', regex=True).astype(float)\n",
    "\n",
    "# Drop rows with missing or zero budget/gross\n",
    "df_corr = merged_df.dropna(subset=['production_budget', 'worldwide_gross'])"
   ]
  },
  {
   "cell_type": "code",
   "execution_count": 101,
   "id": "ed8fc6bc",
   "metadata": {},
   "outputs": [
    {
     "data": {
      "image/png": "[encoded data removed]",
      "text/plain": [
       "<Figure size 576x432 with 1 Axes>"
      ]
     },
     "metadata": {},
     "output_type": "display_data"
    },
    {
     "name": "stdout",
     "output_type": "stream",
     "text": [
      "Pearson Correlation: 0.77, P-value: 0.0000\n",
      "There is significant correlation between budget and gross (reject H₀).\n"
     ]
    }
   ],
   "source": [
    "# Scatter plot\n",
    "plt.figure(figsize=(8, 6))\n",
    "sns.scatterplot(data=df_corr, x='production_budget', y='worldwide_gross')\n",
    "plt.title('Budget vs Worldwide Gross')\n",
    "plt.xlabel('Production Budget ($)')\n",
    "plt.ylabel('Worldwide Gross ($)')\n",
    "plt.tight_layout()\n",
    "plt.show()\n",
    "\n",
    "# Pearson correlation test\n",
    "corr, p_value = pearsonr(df_corr['production_budget'], df_corr['worldwide_gross'])\n",
    "print(f\"Pearson Correlation: {corr:.2f}, P-value: {p_value:.4f}\")\n",
    "\n",
    "if p_value < 0.05:\n",
    "    print(\"There is significant correlation between budget and gross (reject H₀).\")\n",
    "else:\n",
    "    print(\"There is no significant correlation found between budget and gross (fail to reject H₀).\")"
   ]
  },
  {
   "cell_type": "markdown",
   "id": "1ed844b9",
   "metadata": {},
   "source": [
    "The pearson correlation coefficient = 0.77, which indicates that there is a strong positive correlation between budget and Gross, suggesting that as production budget increases, the worldwide gross also tends to increase significantly.\n",
    "The p-value < 0.05,Since the p-value is far below 0.05, you can reject the null hypothesis. The result is statistically significant and unlikely due to random chance."
   ]
  },
  {
   "cell_type": "markdown",
   "id": "ffb10994",
   "metadata": {},
   "source": [
    "## CONCLUSION"
   ]
  },
  {
   "cell_type": "markdown",
   "id": "68359527",
   "metadata": {},
   "source": [
    "Through a series of statistical tests and visualizations, we derived meaningful business insights from historical movie data:"
   ]
  },
  {
   "cell_type": "markdown",
   "id": "9d5df4f6",
   "metadata": {},
   "source": [
    "> **BUSINESS RECOMMENDATIONS**"
   ]
  },
  {
   "cell_type": "markdown",
   "id": "273f3f6c",
   "metadata": {},
   "source": [
    "> 1. Domestic VS Foreign Market Gross"
   ]
  },
  {
   "cell_type": "markdown",
   "id": "0bc6b7dc",
   "metadata": {},
   "source": [
    "The Paired t-test revealed a significant difference between domestic and foreign grosses (t = -10.71, p < 0.0001).Indicating that Foreign markets often contribute more to a film’s revenue than domestic markets, underlining the importance of global distribution strategies."
   ]
  },
  {
   "cell_type": "markdown",
   "id": "3576ab67",
   "metadata": {},
   "source": [
    "> 2. Budget VS Return On Investment(ROI)"
   ]
  },
  {
   "cell_type": "markdown",
   "id": "cb2c3226",
   "metadata": {},
   "source": [
    "The T-test between high-budget and low-budget films showed that low-budget films have significantly higher ROI (t = -3.60, p = 0.0004).While big budgets can generate high gross, lower-budget films tend to be more efficient in converting investment into profit. This supports the value of lean(What the customer is willing to pay for), targeted productions."
   ]
  },
  {
   "cell_type": "markdown",
   "id": "4b6dc911",
   "metadata": {},
   "source": [
    " >   3. Budget VS Worldwide Gross"
   ]
  },
  {
   "cell_type": "markdown",
   "id": "5113e38f",
   "metadata": {},
   "source": [
    "We got a strong positive Pearson correlation between budget and worldwide gross: r = 0.77, p < 0.0001.Bigger budgets are associated with higher gross, indicating the effectiveness of investment in production and marketing."
   ]
  },
  {
   "cell_type": "markdown",
   "id": "a6039d92",
   "metadata": {},
   "source": [
    "> 4. Benchmark against Top Studios"
   ]
  },
  {
   "cell_type": "markdown",
   "id": "e7bc0e58",
   "metadata": {},
   "source": [
    "We identified the top-performing studios based on box office revenue. Analyzing their business models, marketing strategies, and production choices can offer valuable insights into industry best practices. By understanding how these successful studios operate, we can refine our own strategies and position ourselves more competitively in the market."
   ]
  },
  {
   "cell_type": "markdown",
   "id": "4435803f",
   "metadata": {},
   "source": [
    "## DATA PREPARATION(THE MOVIE DB)"
   ]
  },
  {
   "cell_type": "markdown",
   "id": "991f95b0",
   "metadata": {},
   "source": [
    "###  **OBJECTIVES**\n",
    "\n",
    "i). **To identify the most successful genres**- Check for the most common and popular genre & which genres have the highest audience ratings and popularity scores\n",
    "\n",
    "Key takeaway:*Inorder to help the studio choose the right type of movies to produce*\n",
    "\n",
    "ii). **To understand what factors make a movie popular**- Check how factors like release date, language, vote average, and vote count relate to a movie's success\n",
    "\n",
    "Key takeaway:*Inorder to help us understand what elements drive a hit*\n",
    "\n",
    "iii). **To provide actionable insights for strategic movie production**-Based on the data, give recommendations what type of movies(genre, language,release date) the studio should focus on\n",
    "\n",
    "Key takeaway: *Inorder to directly support business decisions with significant strategies*"
   ]
  },
  {
   "cell_type": "markdown",
   "id": "f5269904",
   "metadata": {},
   "source": [
    "## 【1】*Data Exploration* "
   ]
  },
  {
   "cell_type": "code",
   "execution_count": 102,
   "id": "b99a0af6",
   "metadata": {},
   "outputs": [],
   "source": [
    "# Import necessary libraries\n",
    "import pandas as pd\n",
    "import numpy as np \n",
    "import matplotlib.pyplot as plt\n",
    "import seaborn as sns   \n",
    "%matplotlib inline"
   ]
  },
  {
   "cell_type": "code",
   "execution_count": 103,
   "id": "9d2f3ec1",
   "metadata": {},
   "outputs": [
    {
     "data": {
      "text/html": [
       "<div>\n",
       "<style scoped>\n",
       "    .dataframe tbody tr th:only-of-type {\n",
       "        vertical-align: middle;\n",
       "    }\n",
       "\n",
       "    .dataframe tbody tr th {\n",
       "        vertical-align: top;\n",
       "    }\n",
       "\n",
       "    .dataframe thead th {\n",
       "        text-align: right;\n",
       "    }\n",
       "</style>\n",
       "<table border=\"1\" class=\"dataframe\">\n",
       "  <thead>\n",
       "    <tr style=\"text-align: right;\">\n",
       "      <th></th>\n",
       "      <th>genre_ids</th>\n",
       "      <th>id</th>\n",
       "      <th>original_language</th>\n",
       "      <th>original_title</th>\n",
       "      <th>popularity</th>\n",
       "      <th>release_date</th>\n",
       "      <th>title</th>\n",
       "      <th>vote_average</th>\n",
       "      <th>vote_count</th>\n",
       "    </tr>\n",
       "  </thead>\n",
       "  <tbody>\n",
       "    <tr>\n",
       "      <th>0</th>\n",
       "      <td>[12, 14, 10751]</td>\n",
       "      <td>12444</td>\n",
       "      <td>en</td>\n",
       "      <td>Harry Potter and the Deathly Hallows: Part 1</td>\n",
       "      <td>33.533</td>\n",
       "      <td>2010-11-19</td>\n",
       "      <td>Harry Potter and the Deathly Hallows: Part 1</td>\n",
       "      <td>7.7</td>\n",
       "      <td>10788</td>\n",
       "    </tr>\n",
       "    <tr>\n",
       "      <th>1</th>\n",
       "      <td>[14, 12, 16, 10751]</td>\n",
       "      <td>10191</td>\n",
       "      <td>en</td>\n",
       "      <td>How to Train Your Dragon</td>\n",
       "      <td>28.734</td>\n",
       "      <td>2010-03-26</td>\n",
       "      <td>How to Train Your Dragon</td>\n",
       "      <td>7.7</td>\n",
       "      <td>7610</td>\n",
       "    </tr>\n",
       "    <tr>\n",
       "      <th>2</th>\n",
       "      <td>[12, 28, 878]</td>\n",
       "      <td>10138</td>\n",
       "      <td>en</td>\n",
       "      <td>Iron Man 2</td>\n",
       "      <td>28.515</td>\n",
       "      <td>2010-05-07</td>\n",
       "      <td>Iron Man 2</td>\n",
       "      <td>6.8</td>\n",
       "      <td>12368</td>\n",
       "    </tr>\n",
       "    <tr>\n",
       "      <th>3</th>\n",
       "      <td>[16, 35, 10751]</td>\n",
       "      <td>862</td>\n",
       "      <td>en</td>\n",
       "      <td>Toy Story</td>\n",
       "      <td>28.005</td>\n",
       "      <td>1995-11-22</td>\n",
       "      <td>Toy Story</td>\n",
       "      <td>7.9</td>\n",
       "      <td>10174</td>\n",
       "    </tr>\n",
       "    <tr>\n",
       "      <th>4</th>\n",
       "      <td>[28, 878, 12]</td>\n",
       "      <td>27205</td>\n",
       "      <td>en</td>\n",
       "      <td>Inception</td>\n",
       "      <td>27.920</td>\n",
       "      <td>2010-07-16</td>\n",
       "      <td>Inception</td>\n",
       "      <td>8.3</td>\n",
       "      <td>22186</td>\n",
       "    </tr>\n",
       "    <tr>\n",
       "      <th>5</th>\n",
       "      <td>[12, 14, 10751]</td>\n",
       "      <td>32657</td>\n",
       "      <td>en</td>\n",
       "      <td>Percy Jackson &amp; the Olympians: The Lightning T...</td>\n",
       "      <td>26.691</td>\n",
       "      <td>2010-02-11</td>\n",
       "      <td>Percy Jackson &amp; the Olympians: The Lightning T...</td>\n",
       "      <td>6.1</td>\n",
       "      <td>4229</td>\n",
       "    </tr>\n",
       "    <tr>\n",
       "      <th>6</th>\n",
       "      <td>[28, 12, 14, 878]</td>\n",
       "      <td>19995</td>\n",
       "      <td>en</td>\n",
       "      <td>Avatar</td>\n",
       "      <td>26.526</td>\n",
       "      <td>2009-12-18</td>\n",
       "      <td>Avatar</td>\n",
       "      <td>7.4</td>\n",
       "      <td>18676</td>\n",
       "    </tr>\n",
       "    <tr>\n",
       "      <th>7</th>\n",
       "      <td>[16, 10751, 35]</td>\n",
       "      <td>10193</td>\n",
       "      <td>en</td>\n",
       "      <td>Toy Story 3</td>\n",
       "      <td>24.445</td>\n",
       "      <td>2010-06-17</td>\n",
       "      <td>Toy Story 3</td>\n",
       "      <td>7.7</td>\n",
       "      <td>8340</td>\n",
       "    </tr>\n",
       "    <tr>\n",
       "      <th>8</th>\n",
       "      <td>[16, 10751, 35]</td>\n",
       "      <td>20352</td>\n",
       "      <td>en</td>\n",
       "      <td>Despicable Me</td>\n",
       "      <td>23.673</td>\n",
       "      <td>2010-07-09</td>\n",
       "      <td>Despicable Me</td>\n",
       "      <td>7.2</td>\n",
       "      <td>10057</td>\n",
       "    </tr>\n",
       "    <tr>\n",
       "      <th>9</th>\n",
       "      <td>[16, 28, 35, 10751, 878]</td>\n",
       "      <td>38055</td>\n",
       "      <td>en</td>\n",
       "      <td>Megamind</td>\n",
       "      <td>22.855</td>\n",
       "      <td>2010-11-04</td>\n",
       "      <td>Megamind</td>\n",
       "      <td>6.8</td>\n",
       "      <td>3635</td>\n",
       "    </tr>\n",
       "  </tbody>\n",
       "</table>\n",
       "</div>"
      ],
      "text/plain": [
       "                  genre_ids     id original_language  \\\n",
       "0           [12, 14, 10751]  12444                en   \n",
       "1       [14, 12, 16, 10751]  10191                en   \n",
       "2             [12, 28, 878]  10138                en   \n",
       "3           [16, 35, 10751]    862                en   \n",
       "4             [28, 878, 12]  27205                en   \n",
       "5           [12, 14, 10751]  32657                en   \n",
       "6         [28, 12, 14, 878]  19995                en   \n",
       "7           [16, 10751, 35]  10193                en   \n",
       "8           [16, 10751, 35]  20352                en   \n",
       "9  [16, 28, 35, 10751, 878]  38055                en   \n",
       "\n",
       "                                      original_title  popularity release_date  \\\n",
       "0       Harry Potter and the Deathly Hallows: Part 1      33.533   2010-11-19   \n",
       "1                           How to Train Your Dragon      28.734   2010-03-26   \n",
       "2                                         Iron Man 2      28.515   2010-05-07   \n",
       "3                                          Toy Story      28.005   1995-11-22   \n",
       "4                                          Inception      27.920   2010-07-16   \n",
       "5  Percy Jackson & the Olympians: The Lightning T...      26.691   2010-02-11   \n",
       "6                                             Avatar      26.526   2009-12-18   \n",
       "7                                        Toy Story 3      24.445   2010-06-17   \n",
       "8                                      Despicable Me      23.673   2010-07-09   \n",
       "9                                           Megamind      22.855   2010-11-04   \n",
       "\n",
       "                                               title  vote_average  vote_count  \n",
       "0       Harry Potter and the Deathly Hallows: Part 1           7.7       10788  \n",
       "1                           How to Train Your Dragon           7.7        7610  \n",
       "2                                         Iron Man 2           6.8       12368  \n",
       "3                                          Toy Story           7.9       10174  \n",
       "4                                          Inception           8.3       22186  \n",
       "5  Percy Jackson & the Olympians: The Lightning T...           6.1        4229  \n",
       "6                                             Avatar           7.4       18676  \n",
       "7                                        Toy Story 3           7.7        8340  \n",
       "8                                      Despicable Me           7.2       10057  \n",
       "9                                           Megamind           6.8        3635  "
      ]
     },
     "execution_count": 103,
     "metadata": {},
     "output_type": "execute_result"
    }
   ],
   "source": [
    "# Load the dataset\n",
    "df = pd.read_csv(\"./Data/tmdb.movies.csv.gz\", compression='gzip', index_col=0)\n",
    "\n",
    "# Display the first 10 rows of the dataset\n",
    "df.head(10)"
   ]
  },
  {
   "cell_type": "code",
   "execution_count": 104,
   "id": "ece58a06",
   "metadata": {},
   "outputs": [
    {
     "name": "stdout",
     "output_type": "stream",
     "text": [
      "<class 'pandas.core.frame.DataFrame'>\n",
      "Int64Index: 26517 entries, 0 to 26516\n",
      "Data columns (total 9 columns):\n",
      " #   Column             Non-Null Count  Dtype  \n",
      "---  ------             --------------  -----  \n",
      " 0   genre_ids          26517 non-null  object \n",
      " 1   id                 26517 non-null  int64  \n",
      " 2   original_language  26517 non-null  object \n",
      " 3   original_title     26517 non-null  object \n",
      " 4   popularity         26517 non-null  float64\n",
      " 5   release_date       26517 non-null  object \n",
      " 6   title              26517 non-null  object \n",
      " 7   vote_average       26517 non-null  float64\n",
      " 8   vote_count         26517 non-null  int64  \n",
      "dtypes: float64(2), int64(2), object(5)\n",
      "memory usage: 2.0+ MB\n"
     ]
    }
   ],
   "source": [
    "# show basic information about the dataset\n",
    "df.info()"
   ]
  },
  {
   "cell_type": "markdown",
   "id": "351cc7cd",
   "metadata": {},
   "source": [
    ".info() helps us see missing values, column types, number of rows and the total number of columns.  Our data frame has 26517 Rows and 9 columns"
   ]
  },
  {
   "cell_type": "code",
   "execution_count": 105,
   "id": "54d5305c",
   "metadata": {},
   "outputs": [
    {
     "data": {
      "text/plain": [
       "(26517, 9)"
      ]
     },
     "execution_count": 105,
     "metadata": {},
     "output_type": "execute_result"
    }
   ],
   "source": [
    "# Check for the shape of the dataset\n",
    "df.shape"
   ]
  },
  {
   "cell_type": "code",
   "execution_count": 106,
   "id": "68034ea8",
   "metadata": {},
   "outputs": [
    {
     "data": {
      "text/html": [
       "<div>\n",
       "<style scoped>\n",
       "    .dataframe tbody tr th:only-of-type {\n",
       "        vertical-align: middle;\n",
       "    }\n",
       "\n",
       "    .dataframe tbody tr th {\n",
       "        vertical-align: top;\n",
       "    }\n",
       "\n",
       "    .dataframe thead th {\n",
       "        text-align: right;\n",
       "    }\n",
       "</style>\n",
       "<table border=\"1\" class=\"dataframe\">\n",
       "  <thead>\n",
       "    <tr style=\"text-align: right;\">\n",
       "      <th></th>\n",
       "      <th>id</th>\n",
       "      <th>popularity</th>\n",
       "      <th>vote_average</th>\n",
       "      <th>vote_count</th>\n",
       "    </tr>\n",
       "  </thead>\n",
       "  <tbody>\n",
       "    <tr>\n",
       "      <th>count</th>\n",
       "      <td>26517.000000</td>\n",
       "      <td>26517.000000</td>\n",
       "      <td>26517.000000</td>\n",
       "      <td>26517.000000</td>\n",
       "    </tr>\n",
       "    <tr>\n",
       "      <th>mean</th>\n",
       "      <td>295050.153260</td>\n",
       "      <td>3.130912</td>\n",
       "      <td>5.991281</td>\n",
       "      <td>194.224837</td>\n",
       "    </tr>\n",
       "    <tr>\n",
       "      <th>std</th>\n",
       "      <td>153661.615648</td>\n",
       "      <td>4.355229</td>\n",
       "      <td>1.852946</td>\n",
       "      <td>960.961095</td>\n",
       "    </tr>\n",
       "    <tr>\n",
       "      <th>min</th>\n",
       "      <td>27.000000</td>\n",
       "      <td>0.600000</td>\n",
       "      <td>0.000000</td>\n",
       "      <td>1.000000</td>\n",
       "    </tr>\n",
       "    <tr>\n",
       "      <th>25%</th>\n",
       "      <td>157851.000000</td>\n",
       "      <td>0.600000</td>\n",
       "      <td>5.000000</td>\n",
       "      <td>2.000000</td>\n",
       "    </tr>\n",
       "    <tr>\n",
       "      <th>50%</th>\n",
       "      <td>309581.000000</td>\n",
       "      <td>1.374000</td>\n",
       "      <td>6.000000</td>\n",
       "      <td>5.000000</td>\n",
       "    </tr>\n",
       "    <tr>\n",
       "      <th>75%</th>\n",
       "      <td>419542.000000</td>\n",
       "      <td>3.694000</td>\n",
       "      <td>7.000000</td>\n",
       "      <td>28.000000</td>\n",
       "    </tr>\n",
       "    <tr>\n",
       "      <th>max</th>\n",
       "      <td>608444.000000</td>\n",
       "      <td>80.773000</td>\n",
       "      <td>10.000000</td>\n",
       "      <td>22186.000000</td>\n",
       "    </tr>\n",
       "  </tbody>\n",
       "</table>\n",
       "</div>"
      ],
      "text/plain": [
       "                  id    popularity  vote_average    vote_count\n",
       "count   26517.000000  26517.000000  26517.000000  26517.000000\n",
       "mean   295050.153260      3.130912      5.991281    194.224837\n",
       "std    153661.615648      4.355229      1.852946    960.961095\n",
       "min        27.000000      0.600000      0.000000      1.000000\n",
       "25%    157851.000000      0.600000      5.000000      2.000000\n",
       "50%    309581.000000      1.374000      6.000000      5.000000\n",
       "75%    419542.000000      3.694000      7.000000     28.000000\n",
       "max    608444.000000     80.773000     10.000000  22186.000000"
      ]
     },
     "execution_count": 106,
     "metadata": {},
     "output_type": "execute_result"
    }
   ],
   "source": [
    "# Summary Statistics\n",
    "df.describe()"
   ]
  },
  {
   "cell_type": "markdown",
   "id": "46742163",
   "metadata": {},
   "source": [
    ".describe() shows the averages, medians, minimum, maximum, standard deviation and upper&lower quartiles for the numeric columns."
   ]
  },
  {
   "cell_type": "code",
   "execution_count": 107,
   "id": "4c2f7972",
   "metadata": {},
   "outputs": [
    {
     "data": {
      "text/plain": [
       "genre_ids            0\n",
       "id                   0\n",
       "original_language    0\n",
       "original_title       0\n",
       "popularity           0\n",
       "release_date         0\n",
       "title                0\n",
       "vote_average         0\n",
       "vote_count           0\n",
       "dtype: int64"
      ]
     },
     "execution_count": 107,
     "metadata": {},
     "output_type": "execute_result"
    }
   ],
   "source": [
    "# Check for missing values\n",
    "df.isnull().sum()"
   ]
  },
  {
   "cell_type": "markdown",
   "id": "ac55f908",
   "metadata": {},
   "source": [
    "## 【2】*Data Cleaning* "
   ]
  },
  {
   "cell_type": "code",
   "execution_count": 108,
   "id": "83d0247d",
   "metadata": {},
   "outputs": [
    {
     "data": {
      "text/plain": [
       "0       2010-11-19\n",
       "1       2010-03-26\n",
       "2       2010-05-07\n",
       "3       1995-11-22\n",
       "4       2010-07-16\n",
       "           ...    \n",
       "26512   2018-10-13\n",
       "26513   2018-05-01\n",
       "26514   2018-10-01\n",
       "26515   2018-06-22\n",
       "26516   2018-10-05\n",
       "Name: release_date, Length: 26517, dtype: datetime64[ns]"
      ]
     },
     "execution_count": 108,
     "metadata": {},
     "output_type": "execute_result"
    }
   ],
   "source": [
    "# Convert 'release_date' to datetime format\n",
    "df['release_date'] = pd.to_datetime(df['release_date'], errors='coerce')\n",
    "df['release_date']"
   ]
  },
  {
   "cell_type": "markdown",
   "id": "040ae53b",
   "metadata": {},
   "source": [
    "converting the column ensures that all dates are in a consistent format and that you can perform operations like extracting the year, month or day, filtering data by specific date ranges and Sorting or Grouping data by time periods. \n",
    "\n",
    "errors=`coerce` converts invalid/missing dates to Not a time making it easier to handle data"
   ]
  },
  {
   "cell_type": "code",
   "execution_count": 109,
   "id": "b59b5c6c",
   "metadata": {},
   "outputs": [
    {
     "data": {
      "text/plain": [
       "0             [12, 14, 10751]\n",
       "1         [14, 12, 16, 10751]\n",
       "2               [12, 28, 878]\n",
       "3             [16, 35, 10751]\n",
       "4               [28, 878, 12]\n",
       "5             [12, 14, 10751]\n",
       "6           [28, 12, 14, 878]\n",
       "7             [16, 10751, 35]\n",
       "8             [16, 10751, 35]\n",
       "9    [16, 28, 35, 10751, 878]\n",
       "Name: genre_ids, dtype: object"
      ]
     },
     "execution_count": 109,
     "metadata": {},
     "output_type": "execute_result"
    }
   ],
   "source": [
    "# Convert 'genre_ids' from string to list of integers\n",
    "# import ast because the genre_ids are stored as text that looks like a list\n",
    "# use the ast.literal_eval() because it safely converts a string into real python objects(list,dict,etc)\n",
    "import ast\n",
    "df['genre_ids'] = df['genre_ids'].apply(ast.literal_eval)\n",
    "df['genre_ids'].head(10)"
   ]
  },
  {
   "cell_type": "code",
   "execution_count": 110,
   "id": "9ec3f166",
   "metadata": {},
   "outputs": [
    {
     "name": "stdout",
     "output_type": "stream",
     "text": [
      "<class 'pandas.core.frame.DataFrame'>\n",
      "Int64Index: 26517 entries, 0 to 26516\n",
      "Data columns (total 9 columns):\n",
      " #   Column             Non-Null Count  Dtype         \n",
      "---  ------             --------------  -----         \n",
      " 0   genre_ids          26517 non-null  object        \n",
      " 1   id                 26517 non-null  int64         \n",
      " 2   original_language  26517 non-null  object        \n",
      " 3   original_title     26517 non-null  object        \n",
      " 4   popularity         26517 non-null  float64       \n",
      " 5   release_date       26517 non-null  datetime64[ns]\n",
      " 6   title              26517 non-null  object        \n",
      " 7   vote_average       26517 non-null  float64       \n",
      " 8   vote_count         26517 non-null  int64         \n",
      "dtypes: datetime64[ns](1), float64(2), int64(2), object(4)\n",
      "memory usage: 2.0+ MB\n"
     ]
    }
   ],
   "source": [
    "# Confirm changes\n",
    "df.info()"
   ]
  },
  {
   "cell_type": "code",
   "execution_count": 111,
   "id": "bfaa66bb",
   "metadata": {},
   "outputs": [
    {
     "data": {
      "text/html": [
       "<div>\n",
       "<style scoped>\n",
       "    .dataframe tbody tr th:only-of-type {\n",
       "        vertical-align: middle;\n",
       "    }\n",
       "\n",
       "    .dataframe tbody tr th {\n",
       "        vertical-align: top;\n",
       "    }\n",
       "\n",
       "    .dataframe thead th {\n",
       "        text-align: right;\n",
       "    }\n",
       "</style>\n",
       "<table border=\"1\" class=\"dataframe\">\n",
       "  <thead>\n",
       "    <tr style=\"text-align: right;\">\n",
       "      <th></th>\n",
       "      <th>genre_ids</th>\n",
       "      <th>id</th>\n",
       "      <th>original_language</th>\n",
       "      <th>original_title</th>\n",
       "      <th>popularity</th>\n",
       "      <th>release_date</th>\n",
       "      <th>title</th>\n",
       "      <th>vote_average</th>\n",
       "      <th>vote_count</th>\n",
       "    </tr>\n",
       "  </thead>\n",
       "  <tbody>\n",
       "    <tr>\n",
       "      <th>0</th>\n",
       "      <td>[12, 14, 10751]</td>\n",
       "      <td>12444</td>\n",
       "      <td>en</td>\n",
       "      <td>Harry Potter and the Deathly Hallows: Part 1</td>\n",
       "      <td>33.533</td>\n",
       "      <td>2010-11-19</td>\n",
       "      <td>Harry Potter and the Deathly Hallows: Part 1</td>\n",
       "      <td>7.7</td>\n",
       "      <td>10788</td>\n",
       "    </tr>\n",
       "    <tr>\n",
       "      <th>1</th>\n",
       "      <td>[14, 12, 16, 10751]</td>\n",
       "      <td>10191</td>\n",
       "      <td>en</td>\n",
       "      <td>How to Train Your Dragon</td>\n",
       "      <td>28.734</td>\n",
       "      <td>2010-03-26</td>\n",
       "      <td>How to Train Your Dragon</td>\n",
       "      <td>7.7</td>\n",
       "      <td>7610</td>\n",
       "    </tr>\n",
       "    <tr>\n",
       "      <th>2</th>\n",
       "      <td>[12, 28, 878]</td>\n",
       "      <td>10138</td>\n",
       "      <td>en</td>\n",
       "      <td>Iron Man 2</td>\n",
       "      <td>28.515</td>\n",
       "      <td>2010-05-07</td>\n",
       "      <td>Iron Man 2</td>\n",
       "      <td>6.8</td>\n",
       "      <td>12368</td>\n",
       "    </tr>\n",
       "    <tr>\n",
       "      <th>3</th>\n",
       "      <td>[16, 35, 10751]</td>\n",
       "      <td>862</td>\n",
       "      <td>en</td>\n",
       "      <td>Toy Story</td>\n",
       "      <td>28.005</td>\n",
       "      <td>1995-11-22</td>\n",
       "      <td>Toy Story</td>\n",
       "      <td>7.9</td>\n",
       "      <td>10174</td>\n",
       "    </tr>\n",
       "    <tr>\n",
       "      <th>4</th>\n",
       "      <td>[28, 878, 12]</td>\n",
       "      <td>27205</td>\n",
       "      <td>en</td>\n",
       "      <td>Inception</td>\n",
       "      <td>27.920</td>\n",
       "      <td>2010-07-16</td>\n",
       "      <td>Inception</td>\n",
       "      <td>8.3</td>\n",
       "      <td>22186</td>\n",
       "    </tr>\n",
       "  </tbody>\n",
       "</table>\n",
       "</div>"
      ],
      "text/plain": [
       "             genre_ids     id original_language  \\\n",
       "0      [12, 14, 10751]  12444                en   \n",
       "1  [14, 12, 16, 10751]  10191                en   \n",
       "2        [12, 28, 878]  10138                en   \n",
       "3      [16, 35, 10751]    862                en   \n",
       "4        [28, 878, 12]  27205                en   \n",
       "\n",
       "                                 original_title  popularity release_date  \\\n",
       "0  Harry Potter and the Deathly Hallows: Part 1      33.533   2010-11-19   \n",
       "1                      How to Train Your Dragon      28.734   2010-03-26   \n",
       "2                                    Iron Man 2      28.515   2010-05-07   \n",
       "3                                     Toy Story      28.005   1995-11-22   \n",
       "4                                     Inception      27.920   2010-07-16   \n",
       "\n",
       "                                          title  vote_average  vote_count  \n",
       "0  Harry Potter and the Deathly Hallows: Part 1           7.7       10788  \n",
       "1                      How to Train Your Dragon           7.7        7610  \n",
       "2                                    Iron Man 2           6.8       12368  \n",
       "3                                     Toy Story           7.9       10174  \n",
       "4                                     Inception           8.3       22186  "
      ]
     },
     "execution_count": 111,
     "metadata": {},
     "output_type": "execute_result"
    }
   ],
   "source": [
    "# Display the first 5 rows of the dataset\n",
    "df.head()"
   ]
  },
  {
   "cell_type": "code",
   "execution_count": 112,
   "id": "7326e568",
   "metadata": {},
   "outputs": [
    {
     "data": {
      "text/html": [
       "<div>\n",
       "<style scoped>\n",
       "    .dataframe tbody tr th:only-of-type {\n",
       "        vertical-align: middle;\n",
       "    }\n",
       "\n",
       "    .dataframe tbody tr th {\n",
       "        vertical-align: top;\n",
       "    }\n",
       "\n",
       "    .dataframe thead th {\n",
       "        text-align: right;\n",
       "    }\n",
       "</style>\n",
       "<table border=\"1\" class=\"dataframe\">\n",
       "  <thead>\n",
       "    <tr style=\"text-align: right;\">\n",
       "      <th></th>\n",
       "      <th>genre_name</th>\n",
       "      <th>movie_count</th>\n",
       "      <th>avg_popularity</th>\n",
       "      <th>avg_vote</th>\n",
       "      <th>total_votes</th>\n",
       "    </tr>\n",
       "  </thead>\n",
       "  <tbody>\n",
       "    <tr>\n",
       "      <th>0</th>\n",
       "      <td>Drama</td>\n",
       "      <td>8303</td>\n",
       "      <td>3.978203</td>\n",
       "      <td>6.112200</td>\n",
       "      <td>2064637</td>\n",
       "    </tr>\n",
       "    <tr>\n",
       "      <th>1</th>\n",
       "      <td>Comedy</td>\n",
       "      <td>5652</td>\n",
       "      <td>3.863435</td>\n",
       "      <td>5.942074</td>\n",
       "      <td>1403883</td>\n",
       "    </tr>\n",
       "    <tr>\n",
       "      <th>2</th>\n",
       "      <td>Documentary</td>\n",
       "      <td>4965</td>\n",
       "      <td>1.348202</td>\n",
       "      <td>6.817946</td>\n",
       "      <td>62283</td>\n",
       "    </tr>\n",
       "    <tr>\n",
       "      <th>3</th>\n",
       "      <td>Thriller</td>\n",
       "      <td>4207</td>\n",
       "      <td>4.840918</td>\n",
       "      <td>5.354433</td>\n",
       "      <td>1342877</td>\n",
       "    </tr>\n",
       "    <tr>\n",
       "      <th>4</th>\n",
       "      <td>Horror</td>\n",
       "      <td>3683</td>\n",
       "      <td>3.245644</td>\n",
       "      <td>4.847624</td>\n",
       "      <td>502490</td>\n",
       "    </tr>\n",
       "    <tr>\n",
       "      <th>5</th>\n",
       "      <td>Action</td>\n",
       "      <td>2612</td>\n",
       "      <td>6.495047</td>\n",
       "      <td>5.578560</td>\n",
       "      <td>1912290</td>\n",
       "    </tr>\n",
       "    <tr>\n",
       "      <th>6</th>\n",
       "      <td>Romance</td>\n",
       "      <td>2321</td>\n",
       "      <td>4.162464</td>\n",
       "      <td>5.981603</td>\n",
       "      <td>621223</td>\n",
       "    </tr>\n",
       "    <tr>\n",
       "      <th>7</th>\n",
       "      <td>Science Fiction</td>\n",
       "      <td>1762</td>\n",
       "      <td>5.238197</td>\n",
       "      <td>5.442736</td>\n",
       "      <td>1222644</td>\n",
       "    </tr>\n",
       "    <tr>\n",
       "      <th>8</th>\n",
       "      <td>Family</td>\n",
       "      <td>1565</td>\n",
       "      <td>4.735889</td>\n",
       "      <td>5.990479</td>\n",
       "      <td>652585</td>\n",
       "    </tr>\n",
       "    <tr>\n",
       "      <th>9</th>\n",
       "      <td>Crime</td>\n",
       "      <td>1515</td>\n",
       "      <td>5.416396</td>\n",
       "      <td>5.852475</td>\n",
       "      <td>632691</td>\n",
       "    </tr>\n",
       "    <tr>\n",
       "      <th>10</th>\n",
       "      <td>Animation</td>\n",
       "      <td>1486</td>\n",
       "      <td>4.584240</td>\n",
       "      <td>6.464805</td>\n",
       "      <td>506612</td>\n",
       "    </tr>\n",
       "    <tr>\n",
       "      <th>11</th>\n",
       "      <td>Adventure</td>\n",
       "      <td>1400</td>\n",
       "      <td>7.557082</td>\n",
       "      <td>5.930071</td>\n",
       "      <td>1645828</td>\n",
       "    </tr>\n",
       "    <tr>\n",
       "      <th>12</th>\n",
       "      <td>Music</td>\n",
       "      <td>1267</td>\n",
       "      <td>2.023713</td>\n",
       "      <td>6.952407</td>\n",
       "      <td>87434</td>\n",
       "    </tr>\n",
       "    <tr>\n",
       "      <th>13</th>\n",
       "      <td>Mystery</td>\n",
       "      <td>1237</td>\n",
       "      <td>4.821546</td>\n",
       "      <td>5.730315</td>\n",
       "      <td>442671</td>\n",
       "    </tr>\n",
       "    <tr>\n",
       "      <th>14</th>\n",
       "      <td>Fantasy</td>\n",
       "      <td>1139</td>\n",
       "      <td>6.387318</td>\n",
       "      <td>5.952327</td>\n",
       "      <td>902816</td>\n",
       "    </tr>\n",
       "    <tr>\n",
       "      <th>15</th>\n",
       "      <td>TV Movie</td>\n",
       "      <td>1084</td>\n",
       "      <td>2.703941</td>\n",
       "      <td>5.806827</td>\n",
       "      <td>33383</td>\n",
       "    </tr>\n",
       "    <tr>\n",
       "      <th>16</th>\n",
       "      <td>History</td>\n",
       "      <td>622</td>\n",
       "      <td>4.425600</td>\n",
       "      <td>6.661415</td>\n",
       "      <td>195600</td>\n",
       "    </tr>\n",
       "    <tr>\n",
       "      <th>17</th>\n",
       "      <td>War</td>\n",
       "      <td>330</td>\n",
       "      <td>5.320197</td>\n",
       "      <td>6.229394</td>\n",
       "      <td>141336</td>\n",
       "    </tr>\n",
       "    <tr>\n",
       "      <th>18</th>\n",
       "      <td>Western</td>\n",
       "      <td>205</td>\n",
       "      <td>4.162166</td>\n",
       "      <td>5.955610</td>\n",
       "      <td>92667</td>\n",
       "    </tr>\n",
       "  </tbody>\n",
       "</table>\n",
       "</div>"
      ],
      "text/plain": [
       "         genre_name  movie_count  avg_popularity  avg_vote  total_votes\n",
       "0             Drama         8303        3.978203  6.112200      2064637\n",
       "1            Comedy         5652        3.863435  5.942074      1403883\n",
       "2       Documentary         4965        1.348202  6.817946        62283\n",
       "3          Thriller         4207        4.840918  5.354433      1342877\n",
       "4            Horror         3683        3.245644  4.847624       502490\n",
       "5            Action         2612        6.495047  5.578560      1912290\n",
       "6           Romance         2321        4.162464  5.981603       621223\n",
       "7   Science Fiction         1762        5.238197  5.442736      1222644\n",
       "8            Family         1565        4.735889  5.990479       652585\n",
       "9             Crime         1515        5.416396  5.852475       632691\n",
       "10        Animation         1486        4.584240  6.464805       506612\n",
       "11        Adventure         1400        7.557082  5.930071      1645828\n",
       "12            Music         1267        2.023713  6.952407        87434\n",
       "13          Mystery         1237        4.821546  5.730315       442671\n",
       "14          Fantasy         1139        6.387318  5.952327       902816\n",
       "15         TV Movie         1084        2.703941  5.806827        33383\n",
       "16          History          622        4.425600  6.661415       195600\n",
       "17              War          330        5.320197  6.229394       141336\n",
       "18          Western          205        4.162166  5.955610        92667"
      ]
     },
     "execution_count": 112,
     "metadata": {},
     "output_type": "execute_result"
    }
   ],
   "source": [
    "# Standard TMDB genre ID to name mapping\n",
    "genre_id_to_name = {\n",
    "    28: \"Action\",\n",
    "    12: \"Adventure\",\n",
    "    16: \"Animation\",\n",
    "    35: \"Comedy\",\n",
    "    80: \"Crime\",\n",
    "    99: \"Documentary\",\n",
    "    18: \"Drama\",\n",
    "    10751: \"Family\",\n",
    "    14: \"Fantasy\",\n",
    "    36: \"History\",\n",
    "    27: \"Horror\",\n",
    "    10402: \"Music\",\n",
    "    9648: \"Mystery\",\n",
    "    10749: \"Romance\",\n",
    "    878: \"Science Fiction\",\n",
    "    10770: \"TV Movie\",\n",
    "    53: \"Thriller\",\n",
    "    10752: \"War\",\n",
    "    37: \"Western\"\n",
    "}\n",
    "\n",
    "# Expand genre_ids into individual rows for analysis\n",
    "df_exploded = df.explode('genre_ids')\n",
    "df_exploded['genre_name'] = df_exploded['genre_ids'].map(genre_id_to_name)\n",
    "\n",
    "# Drop rows where genre_id didn't match a known genre\n",
    "df_exploded = df_exploded.dropna(subset=['genre_name'])\n",
    "\n",
    "# Calculate genre statistics\n",
    "genre_stats = df_exploded.groupby('genre_name').agg(\n",
    "    movie_count=('id', 'count'),\n",
    "    avg_popularity=('popularity', 'mean'),\n",
    "    avg_vote=('vote_average', 'mean'),\n",
    "    total_votes=('vote_count', 'sum')\n",
    ").sort_values(by='movie_count', ascending=False)\n",
    "\n",
    "genre_stats.reset_index()\n"
   ]
  },
  {
   "cell_type": "markdown",
   "id": "97c5a189",
   "metadata": {},
   "source": [
    "`.explode()` separates list items into individual rows. In our dataset, each movie can belong to multiple genres. Therefore, if you don't split them apart, you can't analyze genres one-by-one. You'll be stuck treating [12,14,10751] as one \"***thing***\".\n",
    "\n",
    "Key takeaway; \n",
    "with `.explode()` one movie=many rows,one genre per row which can be easy to analyze\n",
    "without `.explode()` one movie=one row with many genres which can be hard to analyze genres separately"
   ]
  },
  {
   "cell_type": "markdown",
   "id": "5dd0ddba",
   "metadata": {},
   "source": [
    "-  Drama and Comedy dominate in quantity.\n",
    "\n",
    "-  Adventure is the most popular genre on average.\n",
    "\n",
    "-  Animation, Music and History get higher average ratings.\n",
    "\n",
    "-  For wide appeal and strong fan response, Action + Adventure is a potent combination."
   ]
  },
  {
   "cell_type": "markdown",
   "id": "0c9ba219",
   "metadata": {},
   "source": [
    "## 【3】*Data Analysis and Visualization* "
   ]
  },
  {
   "cell_type": "markdown",
   "id": "4890590c",
   "metadata": {},
   "source": [
    ">#### Objective 1. ***Identify the most successful genres***"
   ]
  },
  {
   "cell_type": "code",
   "execution_count": 113,
   "id": "c79f87dd",
   "metadata": {},
   "outputs": [
    {
     "data": {
      "text/html": [
       "<div>\n",
       "<style scoped>\n",
       "    .dataframe tbody tr th:only-of-type {\n",
       "        vertical-align: middle;\n",
       "    }\n",
       "\n",
       "    .dataframe tbody tr th {\n",
       "        vertical-align: top;\n",
       "    }\n",
       "\n",
       "    .dataframe thead th {\n",
       "        text-align: right;\n",
       "    }\n",
       "</style>\n",
       "<table border=\"1\" class=\"dataframe\">\n",
       "  <thead>\n",
       "    <tr style=\"text-align: right;\">\n",
       "      <th></th>\n",
       "      <th>genre_name</th>\n",
       "      <th>movie_count</th>\n",
       "      <th>avg_popularity</th>\n",
       "      <th>avg_vote</th>\n",
       "      <th>total_votes</th>\n",
       "    </tr>\n",
       "  </thead>\n",
       "  <tbody>\n",
       "    <tr>\n",
       "      <th>0</th>\n",
       "      <td>Adventure</td>\n",
       "      <td>1400</td>\n",
       "      <td>7.557082</td>\n",
       "      <td>5.930071</td>\n",
       "      <td>1645828</td>\n",
       "    </tr>\n",
       "    <tr>\n",
       "      <th>1</th>\n",
       "      <td>Action</td>\n",
       "      <td>2612</td>\n",
       "      <td>6.495047</td>\n",
       "      <td>5.578560</td>\n",
       "      <td>1912290</td>\n",
       "    </tr>\n",
       "    <tr>\n",
       "      <th>2</th>\n",
       "      <td>Fantasy</td>\n",
       "      <td>1139</td>\n",
       "      <td>6.387318</td>\n",
       "      <td>5.952327</td>\n",
       "      <td>902816</td>\n",
       "    </tr>\n",
       "    <tr>\n",
       "      <th>3</th>\n",
       "      <td>Crime</td>\n",
       "      <td>1515</td>\n",
       "      <td>5.416396</td>\n",
       "      <td>5.852475</td>\n",
       "      <td>632691</td>\n",
       "    </tr>\n",
       "    <tr>\n",
       "      <th>4</th>\n",
       "      <td>War</td>\n",
       "      <td>330</td>\n",
       "      <td>5.320197</td>\n",
       "      <td>6.229394</td>\n",
       "      <td>141336</td>\n",
       "    </tr>\n",
       "    <tr>\n",
       "      <th>5</th>\n",
       "      <td>Science Fiction</td>\n",
       "      <td>1762</td>\n",
       "      <td>5.238197</td>\n",
       "      <td>5.442736</td>\n",
       "      <td>1222644</td>\n",
       "    </tr>\n",
       "    <tr>\n",
       "      <th>6</th>\n",
       "      <td>Thriller</td>\n",
       "      <td>4207</td>\n",
       "      <td>4.840918</td>\n",
       "      <td>5.354433</td>\n",
       "      <td>1342877</td>\n",
       "    </tr>\n",
       "    <tr>\n",
       "      <th>7</th>\n",
       "      <td>Mystery</td>\n",
       "      <td>1237</td>\n",
       "      <td>4.821546</td>\n",
       "      <td>5.730315</td>\n",
       "      <td>442671</td>\n",
       "    </tr>\n",
       "    <tr>\n",
       "      <th>8</th>\n",
       "      <td>Family</td>\n",
       "      <td>1565</td>\n",
       "      <td>4.735889</td>\n",
       "      <td>5.990479</td>\n",
       "      <td>652585</td>\n",
       "    </tr>\n",
       "    <tr>\n",
       "      <th>9</th>\n",
       "      <td>Animation</td>\n",
       "      <td>1486</td>\n",
       "      <td>4.584240</td>\n",
       "      <td>6.464805</td>\n",
       "      <td>506612</td>\n",
       "    </tr>\n",
       "    <tr>\n",
       "      <th>10</th>\n",
       "      <td>History</td>\n",
       "      <td>622</td>\n",
       "      <td>4.425600</td>\n",
       "      <td>6.661415</td>\n",
       "      <td>195600</td>\n",
       "    </tr>\n",
       "    <tr>\n",
       "      <th>11</th>\n",
       "      <td>Romance</td>\n",
       "      <td>2321</td>\n",
       "      <td>4.162464</td>\n",
       "      <td>5.981603</td>\n",
       "      <td>621223</td>\n",
       "    </tr>\n",
       "    <tr>\n",
       "      <th>12</th>\n",
       "      <td>Western</td>\n",
       "      <td>205</td>\n",
       "      <td>4.162166</td>\n",
       "      <td>5.955610</td>\n",
       "      <td>92667</td>\n",
       "    </tr>\n",
       "    <tr>\n",
       "      <th>13</th>\n",
       "      <td>Drama</td>\n",
       "      <td>8303</td>\n",
       "      <td>3.978203</td>\n",
       "      <td>6.112200</td>\n",
       "      <td>2064637</td>\n",
       "    </tr>\n",
       "    <tr>\n",
       "      <th>14</th>\n",
       "      <td>Comedy</td>\n",
       "      <td>5652</td>\n",
       "      <td>3.863435</td>\n",
       "      <td>5.942074</td>\n",
       "      <td>1403883</td>\n",
       "    </tr>\n",
       "    <tr>\n",
       "      <th>15</th>\n",
       "      <td>Horror</td>\n",
       "      <td>3683</td>\n",
       "      <td>3.245644</td>\n",
       "      <td>4.847624</td>\n",
       "      <td>502490</td>\n",
       "    </tr>\n",
       "    <tr>\n",
       "      <th>16</th>\n",
       "      <td>TV Movie</td>\n",
       "      <td>1084</td>\n",
       "      <td>2.703941</td>\n",
       "      <td>5.806827</td>\n",
       "      <td>33383</td>\n",
       "    </tr>\n",
       "    <tr>\n",
       "      <th>17</th>\n",
       "      <td>Music</td>\n",
       "      <td>1267</td>\n",
       "      <td>2.023713</td>\n",
       "      <td>6.952407</td>\n",
       "      <td>87434</td>\n",
       "    </tr>\n",
       "    <tr>\n",
       "      <th>18</th>\n",
       "      <td>Documentary</td>\n",
       "      <td>4965</td>\n",
       "      <td>1.348202</td>\n",
       "      <td>6.817946</td>\n",
       "      <td>62283</td>\n",
       "    </tr>\n",
       "  </tbody>\n",
       "</table>\n",
       "</div>"
      ],
      "text/plain": [
       "         genre_name  movie_count  avg_popularity  avg_vote  total_votes\n",
       "0         Adventure         1400        7.557082  5.930071      1645828\n",
       "1            Action         2612        6.495047  5.578560      1912290\n",
       "2           Fantasy         1139        6.387318  5.952327       902816\n",
       "3             Crime         1515        5.416396  5.852475       632691\n",
       "4               War          330        5.320197  6.229394       141336\n",
       "5   Science Fiction         1762        5.238197  5.442736      1222644\n",
       "6          Thriller         4207        4.840918  5.354433      1342877\n",
       "7           Mystery         1237        4.821546  5.730315       442671\n",
       "8            Family         1565        4.735889  5.990479       652585\n",
       "9         Animation         1486        4.584240  6.464805       506612\n",
       "10          History          622        4.425600  6.661415       195600\n",
       "11          Romance         2321        4.162464  5.981603       621223\n",
       "12          Western          205        4.162166  5.955610        92667\n",
       "13            Drama         8303        3.978203  6.112200      2064637\n",
       "14           Comedy         5652        3.863435  5.942074      1403883\n",
       "15           Horror         3683        3.245644  4.847624       502490\n",
       "16         TV Movie         1084        2.703941  5.806827        33383\n",
       "17            Music         1267        2.023713  6.952407        87434\n",
       "18      Documentary         4965        1.348202  6.817946        62283"
      ]
     },
     "execution_count": 113,
     "metadata": {},
     "output_type": "execute_result"
    }
   ],
   "source": [
    "# Sort genres by average popularity in descending order\n",
    "top_genres = genre_stats.sort_values(by='avg_popularity', ascending=False)\n",
    "\n",
    "# Reset the index for better readability\n",
    "top_genres.reset_index()"
   ]
  },
  {
   "cell_type": "code",
   "execution_count": 114,
   "id": "2df3d9df",
   "metadata": {},
   "outputs": [
    {
     "data": {
      "image/png": "[encoded data removed]",
      "text/plain": [
       "<Figure size 864x432 with 1 Axes>"
      ]
     },
     "metadata": {},
     "output_type": "display_data"
    }
   ],
   "source": [
    "# Most Common and popular genre\n",
    "# Set style\n",
    "sns.set(style=\"whitegrid\")\n",
    "plt.figure(figsize=(12, 6))\n",
    "\n",
    "# Bar plot: Top genres by average popularity\n",
    "top_genres = genre_stats.sort_values(by='avg_popularity', ascending=False)\n",
    "\n",
    "sns.barplot(data=top_genres, x=top_genres.index, y='avg_popularity', palette='viridis')\n",
    "plt.title('Average Popularity by Genre')\n",
    "plt.xlabel('Genre')\n",
    "plt.ylabel('Average Popularity')\n",
    "plt.xticks(rotation=45, ha='right') \n",
    "plt.tight_layout()\n",
    "plt.show();\n"
   ]
  },
  {
   "cell_type": "code",
   "execution_count": 115,
   "id": "3770cf06",
   "metadata": {},
   "outputs": [
    {
     "data": {
      "image/png": "[encoded data removed]",
      "text/plain": [
       "<Figure size 864x432 with 1 Axes>"
      ]
     },
     "metadata": {},
     "output_type": "display_data"
    }
   ],
   "source": [
    "# Plot for Genre with highest average vote\n",
    "# Set style \n",
    "plt.figure(figsize=(12, 6)) \n",
    "sns.set(style=\"whitegrid\")\n",
    "\n",
    "# Bar plot: Genres with highest average vote\n",
    "sns.barplot(data=genre_stats.sort_values(by='avg_vote', ascending=False), \n",
    "            x=genre_stats.index, y='avg_vote', palette='coolwarm')\n",
    "plt.title('Genres with Highest Audience Ratings')\n",
    "plt.xlabel('Genre')\n",
    "plt.xticks(rotation=45, ha='right')\n",
    "plt.ylabel('Average Vote')\n",
    "plt.tight_layout()\n",
    "plt.show();"
   ]
  },
  {
   "cell_type": "markdown",
   "id": "6e37f98e",
   "metadata": {},
   "source": [
    "#### ***Actionable Insights From This Analysis***\n",
    ">**Genre-Based Insights**\n",
    "\n",
    "-**Adventure and Action films show the highest average popularity**, making them ideal choices for wide-audience appeal.\n",
    "\n",
    "-**Drama and Comedy dominate in quantity**, offering diverse storytelling potential but require standout narratives to break through.\n",
    "\n",
    "-**Animation, Music and History genres receive higher average ratings**, suggesting they excel in quality and critical reception, albeit often with smaller niche audiences that is;\n",
    "\n",
    "   - *\"receive higher average ratings\"*: When viewers rate movies (on platforms like TMDB), Animation and History movies tend to get higher scores (e.g., 7.5 out of 10), meaning people who watch them generally think they're good.\n",
    "\n",
    "   - *\"suggesting they excel in quality and critical reception\"*: These higher ratings imply that these genres are often well-made — whether in terms of storytelling, visuals, or emotional impact. They’re also more likely to be appreciated by critics or win awards.\n",
    "\n",
    "   - *\"albeit often with smaller niche audiences\"*: However, these genres typically don’t attract huge numbers of viewers like Action or Comedy. Instead, they appeal to specific groups of people who actively seek them out — such as history enthusiasts or animation fans."
   ]
  },
  {
   "cell_type": "markdown",
   "id": "d1d3cacb",
   "metadata": {},
   "source": [
    ">#### Objective 2. ***Factors that make a movie popular*** "
   ]
  },
  {
   "cell_type": "code",
   "execution_count": 116,
   "id": "234309f0",
   "metadata": {},
   "outputs": [
    {
     "data": {
      "image/png": "[encoded data removed]",
      "text/plain": [
       "<Figure size 1008x432 with 2 Axes>"
      ]
     },
     "metadata": {},
     "output_type": "display_data"
    }
   ],
   "source": [
    "# Scatter plots: Vote Count and Vote Average vs. Popularity\n",
    "plt.figure(figsize=(14, 6))\n",
    "\n",
    "# Plot Vote Count vs. Popularity\n",
    "plt.subplot(1, 2, 1)\n",
    "sns.scatterplot(data=df, x='vote_count', y='popularity', alpha=0.5)\n",
    "plt.title('Vote Count vs. Popularity')\n",
    "plt.xlabel('Vote Count')\n",
    "plt.ylabel('Popularity')\n",
    "\n",
    "# Plot Vote Average vs. Popularity\n",
    "plt.subplot(1, 2, 2)\n",
    "sns.scatterplot(data=df, x='vote_average', y='popularity', alpha=0.5, color='orange')\n",
    "plt.title('Vote Average vs. Popularity')\n",
    "plt.xlabel('Vote Average')\n",
    "plt.ylabel('Popularity')\n",
    "\n",
    "plt.tight_layout()\n",
    "plt.show();"
   ]
  },
  {
   "cell_type": "markdown",
   "id": "fb4ff94e",
   "metadata": {},
   "source": [
    "This visualization consists of two scatter plots that explore the relationships between **popularity**, **vote count**, and **vote average**:\n",
    "\n",
    "**i. Vote Count vs. Popularity**\n",
    "- **Observation**:\n",
    "  - There is a **positive correlation** between vote count and popularity.\n",
    "  - Movies with higher vote counts tend to have higher popularity scores.\n",
    "  - However, there is a cluster of movies with low vote counts and low popularity, indicating many movies are not widely popular or voted on.\n",
    "- **Interpretation**:\n",
    "  - Popularity is influenced by the number of votes a movie receives. Movies with more votes are likely to have been seen by a larger audience, contributing to their popularity.\n",
    "  - Outliers with high popularity but low vote counts may represent niche or trending movies that gained attention quickly.\n",
    "\n",
    "**ii. Vote Average vs. Popularity**\n",
    "\n",
    "- **Observation**:\n",
    "  - There is a **weak or no clear correlation** between vote average and popularity.\n",
    "  - Movies with high popularity can have a wide range of vote averages, from low to high.\n",
    "  - Most movies cluster around a vote average of 6–8, regardless of popularity.\n",
    "- **Interpretation**:\n",
    "  - Popularity does not strongly depend on the average rating of a movie. A movie can be popular even if its ratings are average or below average.\n",
    "  - This suggests that factors other than quality (e.g., marketing, star power, or genre) may drive popularity.\n",
    "\n",
    "### **Actionable Insights From This Analysis**\n",
    "> **Factor-Based Insights**\n",
    "1. **Vote Count is a Stronger Predictor of Popularity**: Movies with more votes are generally more popular, indicating audience engagement is a key factor in popularity.\n",
    "2. **Vote Average has Limited Influence on Popularity**: High ratings do not necessarily translate to high popularity. Popularity may be driven by external factors like promotion or cultural trends.\n",
    "3. **Clusters and Outliers**:\n",
    "   - The clustering of movies with low vote counts and low popularity suggests many movies fail to reach a wide audience.\n",
    "   - Outliers with high popularity but low vote counts or low ratings may represent viral or niche movies.\n",
    "\n",
    "This analysis highlights the importance of audience engagement (vote count) over critical acclaim (vote average) in determining a movie's popularity."
   ]
  },
  {
   "cell_type": "code",
   "execution_count": 117,
   "id": "642cb45a",
   "metadata": {},
   "outputs": [
    {
     "data": {
      "image/png": "[encoded data removed]",
      "text/plain": [
       "<Figure size 432x288 with 2 Axes>"
      ]
     },
     "metadata": {},
     "output_type": "display_data"
    }
   ],
   "source": [
    "# Correlation Heatmap among selected numerical features\n",
    "cols = ['popularity', 'vote_average', 'vote_count']\n",
    "corr = df[cols].corr()\n",
    "\n",
    "plt.figure(figsize=(6, 4))\n",
    "sns.heatmap(corr, annot=True, cmap='coolwarm', fmt=\".2f\")\n",
    "plt.title('Correlation Matrix: Popularity, Vote Average, Vote Count')\n",
    "plt.show()"
   ]
  },
  {
   "cell_type": "markdown",
   "id": "6ad1209b",
   "metadata": {},
   "source": [
    "Correlation Heatmap calculates the correlation matrix for popularity, vote_average, and vote_count to quantitatively assess how these factors relate.\n",
    "Therefore, the heatmap offers an intuitive visual representation(direction) and shows strength of these relationships. This makes it easier to identify which factors are most strongly associated with movie popularity.\n",
    "\n",
    "- *Stronger correlation between vote_count and popularity since;*\n",
    "**Diagonal Values (1.00):** The diagonal represents the correlation of each variable with itself, which is always 1.00 (perfect correlation).\n",
    "\n",
    "- *Moderate correlation between popularity and vote_count since;*\n",
    "**Popularity and Vote Count (0.69):** There is a moderately strong positive correlation (0.69) between popularity and vote_count. This suggests that movies with more votes tend to be more popular.\n",
    "\n",
    "- *Weaker or inconsistent link between vote_average and popularity since;*\n",
    "**Popularity and Vote Average (0.07):** There is a very weak positive correlation (0.07) between popularity and vote_average. This indicates that the average rating of a movie has little to no relationship with its popularity."
   ]
  },
  {
   "cell_type": "markdown",
   "id": "9564a5c0",
   "metadata": {},
   "source": [
    ">### **Hypothesis Testing Based on the Correlation Matrix**\n",
    "**A. Define the Hypotheses**\n",
    "\n",
    "**Hypothesis 1: Relationship between Popularity and Vote Count**\n",
    "\n",
    "- **Null Hypothesis (H₀):** There is no significant correlation between `popularity` and `vote_count` (correlation = 0).\n",
    "\n",
    "- **Alternative Hypothesis (H₁):** There is a significant correlation between `popularity` and `vote_count` (correlation ≠ 0).\n",
    "\n",
    "**Hypothesis 2: Relationship between Popularity and Vote Average**\n",
    "\n",
    "- **Null Hypothesis (H₀):** There is no significant correlation between `popularity` and `vote_average` (correlation = 0).\n",
    "\n",
    "- **Alternative Hypothesis (H₁):** There is a significant correlation between `popularity` and `vote_average` (correlation ≠ 0).\n",
    "\n",
    "\n",
    "**B. Select a Statistical Test**\n",
    "\n",
    "To test the significance of the correlations, you can use the **Pearson correlation coefficient test**. This test evaluates whether the observed correlation is significantly different from zero.\n",
    "\n",
    "**C. Perform the Test**\n",
    "\n",
    "Use the `scipy.stats.pearsonr` function to calculate the correlation coefficient and the p-value for each pair of variables.\n",
    "\n"
   ]
  },
  {
   "cell_type": "code",
   "execution_count": 118,
   "id": "fd919577",
   "metadata": {},
   "outputs": [
    {
     "name": "stdout",
     "output_type": "stream",
     "text": [
      "Correlation between Popularity and Vote Count:\n",
      "Correlation Coefficient: 0.69, P-value: 0.0000\n",
      "\n",
      "Correlation between Popularity and Vote Average:\n",
      "Correlation Coefficient: 0.07, P-value: 0.0000\n"
     ]
    }
   ],
   "source": [
    "# Correlation Analysis\n",
    "# Statistical test for correlation between popularity and vote_count, vote_average\n",
    "# Import necessary libraries\n",
    "from scipy.stats import pearsonr\n",
    "\n",
    "# Test correlation between popularity and vote_count\n",
    "corr_popularity_vote_count, p_value_popularity_vote_count = pearsonr(df['popularity'], df['vote_count'])\n",
    "\n",
    "# Test correlation between popularity and vote_average\n",
    "corr_popularity_vote_average, p_value_popularity_vote_average = pearsonr(df['popularity'], df['vote_average'])\n",
    "\n",
    "# Print results\n",
    "print(\"Correlation between Popularity and Vote Count:\")\n",
    "print(f\"Correlation Coefficient: {corr_popularity_vote_count:.2f}, P-value: {p_value_popularity_vote_count:.4f}\")\n",
    "\n",
    "print(\"\\nCorrelation between Popularity and Vote Average:\")\n",
    "print(f\"Correlation Coefficient: {corr_popularity_vote_average:.2f}, P-value: {p_value_popularity_vote_average:.4f}\")\n"
   ]
  },
  {
   "cell_type": "markdown",
   "id": "8a109f16",
   "metadata": {},
   "source": [
    "**D. Results Interpretation**\n",
    "\n",
    "The correlation coefficient between popularity and vote count is 0.69 which indicates a moderately strong positive correlation. Movies with higher vote counts tend to have higher popularity scores which suggests that audience engagement is a key driver of popularity.\n",
    "The P-value<0.05, meaning the correlation is statistically significant therefore, we reject the null hypothesis. We can confidently conclude that there is a meaningful relationship between vote count and popularity\n",
    "\n",
    "The correlation coefficient between popularity and vote average is 0.07 which indicates a very weak positive correlation. The average ratin g of molvie has little to no impact on its popularity. A movie can  be popular regardless of whether it has high or low ratings.\n",
    "The P-value<0.05, meaning the weak correlation is statistically significant therefore, we reject the null hypothesis. However, the strength of the relationship is so small that it is unlikely to have practical importance\n"
   ]
  },
  {
   "cell_type": "markdown",
   "id": "5df13609",
   "metadata": {},
   "source": [
    ">#### Objective 3. ***Provide Insights for Strategic Movie Production***\n"
   ]
  },
  {
   "cell_type": "code",
   "execution_count": 119,
   "id": "3297de4a",
   "metadata": {},
   "outputs": [],
   "source": [
    "# Extract release year\n",
    "df['release_year'] = df['release_date'].dt.year\n",
    "\n",
    "# Group by release year\n",
    "yearly_stats = df.groupby('release_year').agg({\n",
    "    'id': 'count',\n",
    "    'popularity': 'mean',\n",
    "    'vote_average': 'mean'\n",
    "}).rename(columns={'id': 'movie_count'})"
   ]
  },
  {
   "cell_type": "code",
   "execution_count": 120,
   "id": "20304aab",
   "metadata": {},
   "outputs": [
    {
     "data": {
      "image/png": "[encoded data removed]",
      "text/plain": [
       "<Figure size 720x360 with 1 Axes>"
      ]
     },
     "metadata": {},
     "output_type": "display_data"
    }
   ],
   "source": [
    "# Average Vote Average per Year\n",
    "plt.figure(figsize=(10, 5))\n",
    "sns.lineplot(data=yearly_stats, x=yearly_stats.index, y='vote_average', color='orange')\n",
    "plt.title(\"Average Movie Rating (Vote Average) per Year\")\n",
    "plt.xlabel(\"Year\")\n",
    "plt.ylabel(\"Average Rating\")\n",
    "plt.tight_layout()\n",
    "plt.show();"
   ]
  },
  {
   "cell_type": "markdown",
   "id": "42d9007c",
   "metadata": {},
   "source": [
    "#### **Actionable Insights From This Analysis**\n",
    ">**Trends-Based Insights**\n",
    "\n",
    "- *Trends Over Time*:\n",
    "\n",
    "-There’s been a steady increase in movie production over the past few decades, indicating a highly competitive market. However, the sharp drop in 2020 could be due to incomplete data or the impact of the COVID-19 pandemic, which significantly disrupted the movie industry (e.g., fewer releases, limited audience engagement).\n",
    "\n",
    "-Average ratings have remained relatively stable, suggesting that while volume increases, quality (as perceived by audiences) doesn’t fluctuate dramatically.\n",
    "\n"
   ]
  },
  {
   "cell_type": "markdown",
   "id": "77e5c270",
   "metadata": {},
   "source": [
    "## Conclusion\n",
    "\n",
    "**Business Recommendations**: \n",
    "1. **Focus on Consistency**:Since ratings have remained stable, studios should focus on maintaining consistent quality rather than chasing trends that may not significantly impact ratings.\n",
    "\n",
    "2. **Popularity**: Action and Adventure are the most popular making them ideal choices for wide-audience appeal.\n",
    "\n",
    "3. **Focus on Values of lean**: Movies with higher vote counts tend to have higher popularity scores. This suggests that audience engagement is a key driver of popularity therefore, our films should focus on customer's needs to ensure our audience engagement is high."
   ]
  },
  {
   "cell_type": "markdown",
   "id": "3fe401b4",
   "metadata": {},
   "source": [
    "## DATA PREPARATION(Rotten Tomatoes)"
   ]
  },
  {
   "cell_type": "markdown",
   "id": "86b1968b",
   "metadata": {},
   "source": [
    "#  Analyzing Movie Reception Using Rotten Tomatoes Data  \n",
    "\n",
    "## 🧠 **Introduction**  \n",
    "Rotten Tomatoes is one of the most influential movie review platforms, aggregating critic and audience opinions into a **\"Tomatometer\"** and **audience score**. In this section, we explore the relationship between these scores and movie performance. By examining how critical reception aligns with box office success and genres, we aim to uncover whether review scores can be used to predict or inform a movie's commercial potential.  \n",
    "\n",
    "In this project, I will analyze **RottenTomatoes data**:  \n",
    "- **Understand the distribution of critic and audience scores** across movies from recent years.\n",
    "\n",
    "- **Identify which genres tend to receive higher critical acclaim** and whether they align with audience preferences.\n",
    "\n",
    "- **Compare critic vs. audience sentiment** to find genres or films with the biggest discrepancies.\n"
   ]
  },
  {
   "cell_type": "markdown",
   "id": "a0d9a516",
   "metadata": {},
   "source": [
    "## 【1】*Data Exploration*  "
   ]
  },
  {
   "cell_type": "code",
   "execution_count": 121,
   "id": "032287b1",
   "metadata": {},
   "outputs": [],
   "source": [
    "# Import pandas\n",
    "import pandas as pd"
   ]
  },
  {
   "cell_type": "code",
   "execution_count": 122,
   "id": "c9cc358c",
   "metadata": {},
   "outputs": [
    {
     "data": {
      "text/html": [
       "<div>\n",
       "<style scoped>\n",
       "    .dataframe tbody tr th:only-of-type {\n",
       "        vertical-align: middle;\n",
       "    }\n",
       "\n",
       "    .dataframe tbody tr th {\n",
       "        vertical-align: top;\n",
       "    }\n",
       "\n",
       "    .dataframe thead th {\n",
       "        text-align: right;\n",
       "    }\n",
       "</style>\n",
       "<table border=\"1\" class=\"dataframe\">\n",
       "  <thead>\n",
       "    <tr style=\"text-align: right;\">\n",
       "      <th></th>\n",
       "      <th>id</th>\n",
       "      <th>synopsis</th>\n",
       "      <th>rating</th>\n",
       "      <th>genre</th>\n",
       "      <th>director</th>\n",
       "      <th>writer</th>\n",
       "      <th>theater_date</th>\n",
       "      <th>dvd_date</th>\n",
       "      <th>currency</th>\n",
       "      <th>box_office</th>\n",
       "      <th>runtime</th>\n",
       "      <th>studio</th>\n",
       "    </tr>\n",
       "  </thead>\n",
       "  <tbody>\n",
       "    <tr>\n",
       "      <th>0</th>\n",
       "      <td>1</td>\n",
       "      <td>This gritty, fast-paced, and innovative police...</td>\n",
       "      <td>R</td>\n",
       "      <td>Action and Adventure|Classics|Drama</td>\n",
       "      <td>William Friedkin</td>\n",
       "      <td>Ernest Tidyman</td>\n",
       "      <td>Oct 9, 1971</td>\n",
       "      <td>Sep 25, 2001</td>\n",
       "      <td>NaN</td>\n",
       "      <td>NaN</td>\n",
       "      <td>104 minutes</td>\n",
       "      <td>NaN</td>\n",
       "    </tr>\n",
       "    <tr>\n",
       "      <th>1</th>\n",
       "      <td>3</td>\n",
       "      <td>New York City, not-too-distant-future: Eric Pa...</td>\n",
       "      <td>R</td>\n",
       "      <td>Drama|Science Fiction and Fantasy</td>\n",
       "      <td>David Cronenberg</td>\n",
       "      <td>David Cronenberg|Don DeLillo</td>\n",
       "      <td>Aug 17, 2012</td>\n",
       "      <td>Jan 1, 2013</td>\n",
       "      <td>$</td>\n",
       "      <td>600,000</td>\n",
       "      <td>108 minutes</td>\n",
       "      <td>Entertainment One</td>\n",
       "    </tr>\n",
       "    <tr>\n",
       "      <th>2</th>\n",
       "      <td>5</td>\n",
       "      <td>Illeana Douglas delivers a superb performance ...</td>\n",
       "      <td>R</td>\n",
       "      <td>Drama|Musical and Performing Arts</td>\n",
       "      <td>Allison Anders</td>\n",
       "      <td>Allison Anders</td>\n",
       "      <td>Sep 13, 1996</td>\n",
       "      <td>Apr 18, 2000</td>\n",
       "      <td>NaN</td>\n",
       "      <td>NaN</td>\n",
       "      <td>116 minutes</td>\n",
       "      <td>NaN</td>\n",
       "    </tr>\n",
       "    <tr>\n",
       "      <th>3</th>\n",
       "      <td>6</td>\n",
       "      <td>Michael Douglas runs afoul of a treacherous su...</td>\n",
       "      <td>R</td>\n",
       "      <td>Drama|Mystery and Suspense</td>\n",
       "      <td>Barry Levinson</td>\n",
       "      <td>Paul Attanasio|Michael Crichton</td>\n",
       "      <td>Dec 9, 1994</td>\n",
       "      <td>Aug 27, 1997</td>\n",
       "      <td>NaN</td>\n",
       "      <td>NaN</td>\n",
       "      <td>128 minutes</td>\n",
       "      <td>NaN</td>\n",
       "    </tr>\n",
       "    <tr>\n",
       "      <th>4</th>\n",
       "      <td>7</td>\n",
       "      <td>NaN</td>\n",
       "      <td>NR</td>\n",
       "      <td>Drama|Romance</td>\n",
       "      <td>Rodney Bennett</td>\n",
       "      <td>Giles Cooper</td>\n",
       "      <td>NaN</td>\n",
       "      <td>NaN</td>\n",
       "      <td>NaN</td>\n",
       "      <td>NaN</td>\n",
       "      <td>200 minutes</td>\n",
       "      <td>NaN</td>\n",
       "    </tr>\n",
       "  </tbody>\n",
       "</table>\n",
       "</div>"
      ],
      "text/plain": [
       "   id                                           synopsis rating  \\\n",
       "0   1  This gritty, fast-paced, and innovative police...      R   \n",
       "1   3  New York City, not-too-distant-future: Eric Pa...      R   \n",
       "2   5  Illeana Douglas delivers a superb performance ...      R   \n",
       "3   6  Michael Douglas runs afoul of a treacherous su...      R   \n",
       "4   7                                                NaN     NR   \n",
       "\n",
       "                                 genre          director  \\\n",
       "0  Action and Adventure|Classics|Drama  William Friedkin   \n",
       "1    Drama|Science Fiction and Fantasy  David Cronenberg   \n",
       "2    Drama|Musical and Performing Arts    Allison Anders   \n",
       "3           Drama|Mystery and Suspense    Barry Levinson   \n",
       "4                        Drama|Romance    Rodney Bennett   \n",
       "\n",
       "                            writer  theater_date      dvd_date currency  \\\n",
       "0                   Ernest Tidyman   Oct 9, 1971  Sep 25, 2001      NaN   \n",
       "1     David Cronenberg|Don DeLillo  Aug 17, 2012   Jan 1, 2013        $   \n",
       "2                   Allison Anders  Sep 13, 1996  Apr 18, 2000      NaN   \n",
       "3  Paul Attanasio|Michael Crichton   Dec 9, 1994  Aug 27, 1997      NaN   \n",
       "4                     Giles Cooper           NaN           NaN      NaN   \n",
       "\n",
       "  box_office      runtime             studio  \n",
       "0        NaN  104 minutes                NaN  \n",
       "1    600,000  108 minutes  Entertainment One  \n",
       "2        NaN  116 minutes                NaN  \n",
       "3        NaN  128 minutes                NaN  \n",
       "4        NaN  200 minutes                NaN  "
      ]
     },
     "execution_count": 122,
     "metadata": {},
     "output_type": "execute_result"
    }
   ],
   "source": [
    "# Load movies data\n",
    "movies_df = pd.read_csv('Data/rt.movie_info.tsv.gz', sep='\\t', compression='gzip')\n",
    "movies_df.head()"
   ]
  },
  {
   "cell_type": "code",
   "execution_count": 123,
   "id": "c639dcdc",
   "metadata": {},
   "outputs": [
    {
     "data": {
      "text/html": [
       "<div>\n",
       "<style scoped>\n",
       "    .dataframe tbody tr th:only-of-type {\n",
       "        vertical-align: middle;\n",
       "    }\n",
       "\n",
       "    .dataframe tbody tr th {\n",
       "        vertical-align: top;\n",
       "    }\n",
       "\n",
       "    .dataframe thead th {\n",
       "        text-align: right;\n",
       "    }\n",
       "</style>\n",
       "<table border=\"1\" class=\"dataframe\">\n",
       "  <thead>\n",
       "    <tr style=\"text-align: right;\">\n",
       "      <th></th>\n",
       "      <th>id</th>\n",
       "      <th>review</th>\n",
       "      <th>rating</th>\n",
       "      <th>fresh</th>\n",
       "      <th>critic</th>\n",
       "      <th>top_critic</th>\n",
       "      <th>publisher</th>\n",
       "      <th>date</th>\n",
       "    </tr>\n",
       "  </thead>\n",
       "  <tbody>\n",
       "    <tr>\n",
       "      <th>0</th>\n",
       "      <td>3</td>\n",
       "      <td>A distinctly gallows take on contemporary fina...</td>\n",
       "      <td>3/5</td>\n",
       "      <td>fresh</td>\n",
       "      <td>PJ Nabarro</td>\n",
       "      <td>0</td>\n",
       "      <td>Patrick Nabarro</td>\n",
       "      <td>November 10, 2018</td>\n",
       "    </tr>\n",
       "    <tr>\n",
       "      <th>1</th>\n",
       "      <td>3</td>\n",
       "      <td>It's an allegory in search of a meaning that n...</td>\n",
       "      <td>NaN</td>\n",
       "      <td>rotten</td>\n",
       "      <td>Annalee Newitz</td>\n",
       "      <td>0</td>\n",
       "      <td>io9.com</td>\n",
       "      <td>May 23, 2018</td>\n",
       "    </tr>\n",
       "    <tr>\n",
       "      <th>2</th>\n",
       "      <td>3</td>\n",
       "      <td>... life lived in a bubble in financial dealin...</td>\n",
       "      <td>NaN</td>\n",
       "      <td>fresh</td>\n",
       "      <td>Sean Axmaker</td>\n",
       "      <td>0</td>\n",
       "      <td>Stream on Demand</td>\n",
       "      <td>January 4, 2018</td>\n",
       "    </tr>\n",
       "    <tr>\n",
       "      <th>3</th>\n",
       "      <td>3</td>\n",
       "      <td>Continuing along a line introduced in last yea...</td>\n",
       "      <td>NaN</td>\n",
       "      <td>fresh</td>\n",
       "      <td>Daniel Kasman</td>\n",
       "      <td>0</td>\n",
       "      <td>MUBI</td>\n",
       "      <td>November 16, 2017</td>\n",
       "    </tr>\n",
       "    <tr>\n",
       "      <th>4</th>\n",
       "      <td>3</td>\n",
       "      <td>... a perverse twist on neorealism...</td>\n",
       "      <td>NaN</td>\n",
       "      <td>fresh</td>\n",
       "      <td>NaN</td>\n",
       "      <td>0</td>\n",
       "      <td>Cinema Scope</td>\n",
       "      <td>October 12, 2017</td>\n",
       "    </tr>\n",
       "  </tbody>\n",
       "</table>\n",
       "</div>"
      ],
      "text/plain": [
       "   id                                             review rating   fresh  \\\n",
       "0   3  A distinctly gallows take on contemporary fina...    3/5   fresh   \n",
       "1   3  It's an allegory in search of a meaning that n...    NaN  rotten   \n",
       "2   3  ... life lived in a bubble in financial dealin...    NaN   fresh   \n",
       "3   3  Continuing along a line introduced in last yea...    NaN   fresh   \n",
       "4   3             ... a perverse twist on neorealism...     NaN   fresh   \n",
       "\n",
       "           critic  top_critic         publisher               date  \n",
       "0      PJ Nabarro           0   Patrick Nabarro  November 10, 2018  \n",
       "1  Annalee Newitz           0           io9.com       May 23, 2018  \n",
       "2    Sean Axmaker           0  Stream on Demand    January 4, 2018  \n",
       "3   Daniel Kasman           0              MUBI  November 16, 2017  \n",
       "4             NaN           0      Cinema Scope   October 12, 2017  "
      ]
     },
     "execution_count": 123,
     "metadata": {},
     "output_type": "execute_result"
    }
   ],
   "source": [
    "#Load reviews\n",
    "reviews_df = pd.read_csv('data/rt.reviews.tsv.gz', sep='\\t', compression='gzip', encoding='latin1')\n",
    "reviews_df.head()"
   ]
  },
  {
   "cell_type": "code",
   "execution_count": 124,
   "id": "995da758",
   "metadata": {},
   "outputs": [],
   "source": [
    "# Selecting relevant columns from the movie data\n",
    "movies_df = movies_df[['id', 'synopsis', 'rating', 'genre', 'director', 'writer', 'theater_date', 'box_office']]\n",
    "\n",
    "# Selecting relevant columns from the review data\n",
    "reviews_df = reviews_df[['id', 'review', 'rating', 'fresh', 'critic', 'publisher', 'date']]"
   ]
  },
  {
   "cell_type": "code",
   "execution_count": 125,
   "id": "6ddd4534",
   "metadata": {},
   "outputs": [
    {
     "data": {
      "text/plain": [
       "((1560, 8), (54432, 7))"
      ]
     },
     "execution_count": 125,
     "metadata": {},
     "output_type": "execute_result"
    }
   ],
   "source": [
    "# Check the dimensions of the dataset (rows, columns)\n",
    "movies_df.shape , reviews_df.shape"
   ]
  },
  {
   "cell_type": "code",
   "execution_count": 126,
   "id": "ff79c058",
   "metadata": {},
   "outputs": [
    {
     "name": "stdout",
     "output_type": "stream",
     "text": [
      "<class 'pandas.core.frame.DataFrame'>\n",
      "RangeIndex: 1560 entries, 0 to 1559\n",
      "Data columns (total 8 columns):\n",
      " #   Column        Non-Null Count  Dtype \n",
      "---  ------        --------------  ----- \n",
      " 0   id            1560 non-null   int64 \n",
      " 1   synopsis      1498 non-null   object\n",
      " 2   rating        1557 non-null   object\n",
      " 3   genre         1552 non-null   object\n",
      " 4   director      1361 non-null   object\n",
      " 5   writer        1111 non-null   object\n",
      " 6   theater_date  1201 non-null   object\n",
      " 7   box_office    340 non-null    object\n",
      "dtypes: int64(1), object(7)\n",
      "memory usage: 97.6+ KB\n"
     ]
    }
   ],
   "source": [
    "# View a summary of the movies dataset columns\n",
    "movies_df.info()"
   ]
  },
  {
   "cell_type": "code",
   "execution_count": 127,
   "id": "5151eda6",
   "metadata": {},
   "outputs": [
    {
     "data": {
      "text/html": [
       "<div>\n",
       "<style scoped>\n",
       "    .dataframe tbody tr th:only-of-type {\n",
       "        vertical-align: middle;\n",
       "    }\n",
       "\n",
       "    .dataframe tbody tr th {\n",
       "        vertical-align: top;\n",
       "    }\n",
       "\n",
       "    .dataframe thead th {\n",
       "        text-align: right;\n",
       "    }\n",
       "</style>\n",
       "<table border=\"1\" class=\"dataframe\">\n",
       "  <thead>\n",
       "    <tr style=\"text-align: right;\">\n",
       "      <th></th>\n",
       "      <th>id</th>\n",
       "    </tr>\n",
       "  </thead>\n",
       "  <tbody>\n",
       "    <tr>\n",
       "      <th>count</th>\n",
       "      <td>1560.000000</td>\n",
       "    </tr>\n",
       "    <tr>\n",
       "      <th>mean</th>\n",
       "      <td>1007.303846</td>\n",
       "    </tr>\n",
       "    <tr>\n",
       "      <th>std</th>\n",
       "      <td>579.164527</td>\n",
       "    </tr>\n",
       "    <tr>\n",
       "      <th>min</th>\n",
       "      <td>1.000000</td>\n",
       "    </tr>\n",
       "    <tr>\n",
       "      <th>25%</th>\n",
       "      <td>504.750000</td>\n",
       "    </tr>\n",
       "    <tr>\n",
       "      <th>50%</th>\n",
       "      <td>1007.500000</td>\n",
       "    </tr>\n",
       "    <tr>\n",
       "      <th>75%</th>\n",
       "      <td>1503.250000</td>\n",
       "    </tr>\n",
       "    <tr>\n",
       "      <th>max</th>\n",
       "      <td>2000.000000</td>\n",
       "    </tr>\n",
       "  </tbody>\n",
       "</table>\n",
       "</div>"
      ],
      "text/plain": [
       "                id\n",
       "count  1560.000000\n",
       "mean   1007.303846\n",
       "std     579.164527\n",
       "min       1.000000\n",
       "25%     504.750000\n",
       "50%    1007.500000\n",
       "75%    1503.250000\n",
       "max    2000.000000"
      ]
     },
     "execution_count": 127,
     "metadata": {},
     "output_type": "execute_result"
    }
   ],
   "source": [
    "# View statistical information about the dataset\n",
    "movies_df.describe()"
   ]
  },
  {
   "cell_type": "markdown",
   "id": "1d53f8b9",
   "metadata": {},
   "source": [
    "### **Data Exploration Conclusion**  \n",
    "\n",
    "The **movies dataset** contains 1,560 entries, each representing a movie. It includes several columns such as id, synopsis, rating, genre, director, writer, theater_date, and box_office. While the id column ranges from 1 to 2000, some columns have a considerable amount of missing data. For instance, director, writer, and box_office have a significant number of missing values, with only 1,361, 1,111, and 340 non-null entries, respectively. The synopsis and rating columns are relatively complete, with 1,498 and 1,557 non-null entries, respectively. This suggests that while there is enough data to describe most movies, there are gaps in the more specific details like the creators and financial performance. The movie id values have a mean of approximately 1,007, with a standard deviation of 579, indicating a wide range of movie IDs across the dataset."
   ]
  },
  {
   "cell_type": "code",
   "execution_count": 128,
   "id": "2135e4e0",
   "metadata": {},
   "outputs": [
    {
     "name": "stdout",
     "output_type": "stream",
     "text": [
      "<class 'pandas.core.frame.DataFrame'>\n",
      "RangeIndex: 54432 entries, 0 to 54431\n",
      "Data columns (total 7 columns):\n",
      " #   Column     Non-Null Count  Dtype \n",
      "---  ------     --------------  ----- \n",
      " 0   id         54432 non-null  int64 \n",
      " 1   review     48869 non-null  object\n",
      " 2   rating     40915 non-null  object\n",
      " 3   fresh      54432 non-null  object\n",
      " 4   critic     51710 non-null  object\n",
      " 5   publisher  54123 non-null  object\n",
      " 6   date       54432 non-null  object\n",
      "dtypes: int64(1), object(6)\n",
      "memory usage: 2.9+ MB\n"
     ]
    }
   ],
   "source": [
    "# View a summary of the reviews dataset columns\n",
    "reviews_df.info()"
   ]
  },
  {
   "cell_type": "code",
   "execution_count": 129,
   "id": "20e1bfd7",
   "metadata": {},
   "outputs": [
    {
     "data": {
      "text/html": [
       "<div>\n",
       "<style scoped>\n",
       "    .dataframe tbody tr th:only-of-type {\n",
       "        vertical-align: middle;\n",
       "    }\n",
       "\n",
       "    .dataframe tbody tr th {\n",
       "        vertical-align: top;\n",
       "    }\n",
       "\n",
       "    .dataframe thead th {\n",
       "        text-align: right;\n",
       "    }\n",
       "</style>\n",
       "<table border=\"1\" class=\"dataframe\">\n",
       "  <thead>\n",
       "    <tr style=\"text-align: right;\">\n",
       "      <th></th>\n",
       "      <th>id</th>\n",
       "    </tr>\n",
       "  </thead>\n",
       "  <tbody>\n",
       "    <tr>\n",
       "      <th>count</th>\n",
       "      <td>54432.000000</td>\n",
       "    </tr>\n",
       "    <tr>\n",
       "      <th>mean</th>\n",
       "      <td>1045.706882</td>\n",
       "    </tr>\n",
       "    <tr>\n",
       "      <th>std</th>\n",
       "      <td>586.657046</td>\n",
       "    </tr>\n",
       "    <tr>\n",
       "      <th>min</th>\n",
       "      <td>3.000000</td>\n",
       "    </tr>\n",
       "    <tr>\n",
       "      <th>25%</th>\n",
       "      <td>542.000000</td>\n",
       "    </tr>\n",
       "    <tr>\n",
       "      <th>50%</th>\n",
       "      <td>1083.000000</td>\n",
       "    </tr>\n",
       "    <tr>\n",
       "      <th>75%</th>\n",
       "      <td>1541.000000</td>\n",
       "    </tr>\n",
       "    <tr>\n",
       "      <th>max</th>\n",
       "      <td>2000.000000</td>\n",
       "    </tr>\n",
       "  </tbody>\n",
       "</table>\n",
       "</div>"
      ],
      "text/plain": [
       "                 id\n",
       "count  54432.000000\n",
       "mean    1045.706882\n",
       "std      586.657046\n",
       "min        3.000000\n",
       "25%      542.000000\n",
       "50%     1083.000000\n",
       "75%     1541.000000\n",
       "max     2000.000000"
      ]
     },
     "execution_count": 129,
     "metadata": {},
     "output_type": "execute_result"
    }
   ],
   "source": [
    "# View statistical information about the reviews dataset\n",
    "reviews_df.describe()"
   ]
  },
  {
   "cell_type": "markdown",
   "id": "1da18f35",
   "metadata": {},
   "source": [
    "The **reviews dataset** is much larger, containing 54,432 entries. It provides a wealth of information about the reviews for these movies, including the id (which links to the movie dataset), review text, rating, fresh (whether the review is fresh or rotten), critic, publisher, and date. The id column in the reviews dataset matches the id in the movies dataset, making it possible to link the two datasets. However, there are missing values in columns like review and rating, with 48,869 and 40,915 non-null entries, respectively. The fresh and publisher columns are fully populated, providing reliable data on the sentiment of reviews and their sources. The id values in the reviews dataset range from 3 to 2000, with a mean of approximately 1,046, and a standard deviation of 587, indicating a broad distribution of reviews across movies."
   ]
  },
  {
   "cell_type": "code",
   "execution_count": 130,
   "id": "5c0c31ba",
   "metadata": {},
   "outputs": [
    {
     "data": {
      "text/html": [
       "<div>\n",
       "<style scoped>\n",
       "    .dataframe tbody tr th:only-of-type {\n",
       "        vertical-align: middle;\n",
       "    }\n",
       "\n",
       "    .dataframe tbody tr th {\n",
       "        vertical-align: top;\n",
       "    }\n",
       "\n",
       "    .dataframe thead th {\n",
       "        text-align: right;\n",
       "    }\n",
       "</style>\n",
       "<table border=\"1\" class=\"dataframe\">\n",
       "  <thead>\n",
       "    <tr style=\"text-align: right;\">\n",
       "      <th></th>\n",
       "      <th>id</th>\n",
       "      <th>synopsis</th>\n",
       "      <th>rating_x</th>\n",
       "      <th>genre</th>\n",
       "      <th>director</th>\n",
       "      <th>writer</th>\n",
       "      <th>theater_date</th>\n",
       "      <th>box_office</th>\n",
       "      <th>review</th>\n",
       "      <th>rating_y</th>\n",
       "      <th>fresh</th>\n",
       "      <th>critic</th>\n",
       "      <th>publisher</th>\n",
       "      <th>date</th>\n",
       "    </tr>\n",
       "  </thead>\n",
       "  <tbody>\n",
       "    <tr>\n",
       "      <th>0</th>\n",
       "      <td>1</td>\n",
       "      <td>This gritty, fast-paced, and innovative police...</td>\n",
       "      <td>R</td>\n",
       "      <td>Action and Adventure|Classics|Drama</td>\n",
       "      <td>William Friedkin</td>\n",
       "      <td>Ernest Tidyman</td>\n",
       "      <td>Oct 9, 1971</td>\n",
       "      <td>NaN</td>\n",
       "      <td>NaN</td>\n",
       "      <td>NaN</td>\n",
       "      <td>NaN</td>\n",
       "      <td>NaN</td>\n",
       "      <td>NaN</td>\n",
       "      <td>NaN</td>\n",
       "    </tr>\n",
       "    <tr>\n",
       "      <th>1</th>\n",
       "      <td>3</td>\n",
       "      <td>New York City, not-too-distant-future: Eric Pa...</td>\n",
       "      <td>R</td>\n",
       "      <td>Drama|Science Fiction and Fantasy</td>\n",
       "      <td>David Cronenberg</td>\n",
       "      <td>David Cronenberg|Don DeLillo</td>\n",
       "      <td>Aug 17, 2012</td>\n",
       "      <td>600,000</td>\n",
       "      <td>A distinctly gallows take on contemporary fina...</td>\n",
       "      <td>3/5</td>\n",
       "      <td>fresh</td>\n",
       "      <td>PJ Nabarro</td>\n",
       "      <td>Patrick Nabarro</td>\n",
       "      <td>November 10, 2018</td>\n",
       "    </tr>\n",
       "    <tr>\n",
       "      <th>2</th>\n",
       "      <td>3</td>\n",
       "      <td>New York City, not-too-distant-future: Eric Pa...</td>\n",
       "      <td>R</td>\n",
       "      <td>Drama|Science Fiction and Fantasy</td>\n",
       "      <td>David Cronenberg</td>\n",
       "      <td>David Cronenberg|Don DeLillo</td>\n",
       "      <td>Aug 17, 2012</td>\n",
       "      <td>600,000</td>\n",
       "      <td>It's an allegory in search of a meaning that n...</td>\n",
       "      <td>NaN</td>\n",
       "      <td>rotten</td>\n",
       "      <td>Annalee Newitz</td>\n",
       "      <td>io9.com</td>\n",
       "      <td>May 23, 2018</td>\n",
       "    </tr>\n",
       "    <tr>\n",
       "      <th>3</th>\n",
       "      <td>3</td>\n",
       "      <td>New York City, not-too-distant-future: Eric Pa...</td>\n",
       "      <td>R</td>\n",
       "      <td>Drama|Science Fiction and Fantasy</td>\n",
       "      <td>David Cronenberg</td>\n",
       "      <td>David Cronenberg|Don DeLillo</td>\n",
       "      <td>Aug 17, 2012</td>\n",
       "      <td>600,000</td>\n",
       "      <td>... life lived in a bubble in financial dealin...</td>\n",
       "      <td>NaN</td>\n",
       "      <td>fresh</td>\n",
       "      <td>Sean Axmaker</td>\n",
       "      <td>Stream on Demand</td>\n",
       "      <td>January 4, 2018</td>\n",
       "    </tr>\n",
       "    <tr>\n",
       "      <th>4</th>\n",
       "      <td>3</td>\n",
       "      <td>New York City, not-too-distant-future: Eric Pa...</td>\n",
       "      <td>R</td>\n",
       "      <td>Drama|Science Fiction and Fantasy</td>\n",
       "      <td>David Cronenberg</td>\n",
       "      <td>David Cronenberg|Don DeLillo</td>\n",
       "      <td>Aug 17, 2012</td>\n",
       "      <td>600,000</td>\n",
       "      <td>Continuing along a line introduced in last yea...</td>\n",
       "      <td>NaN</td>\n",
       "      <td>fresh</td>\n",
       "      <td>Daniel Kasman</td>\n",
       "      <td>MUBI</td>\n",
       "      <td>November 16, 2017</td>\n",
       "    </tr>\n",
       "  </tbody>\n",
       "</table>\n",
       "</div>"
      ],
      "text/plain": [
       "   id                                           synopsis rating_x  \\\n",
       "0   1  This gritty, fast-paced, and innovative police...        R   \n",
       "1   3  New York City, not-too-distant-future: Eric Pa...        R   \n",
       "2   3  New York City, not-too-distant-future: Eric Pa...        R   \n",
       "3   3  New York City, not-too-distant-future: Eric Pa...        R   \n",
       "4   3  New York City, not-too-distant-future: Eric Pa...        R   \n",
       "\n",
       "                                 genre          director  \\\n",
       "0  Action and Adventure|Classics|Drama  William Friedkin   \n",
       "1    Drama|Science Fiction and Fantasy  David Cronenberg   \n",
       "2    Drama|Science Fiction and Fantasy  David Cronenberg   \n",
       "3    Drama|Science Fiction and Fantasy  David Cronenberg   \n",
       "4    Drama|Science Fiction and Fantasy  David Cronenberg   \n",
       "\n",
       "                         writer  theater_date box_office  \\\n",
       "0                Ernest Tidyman   Oct 9, 1971        NaN   \n",
       "1  David Cronenberg|Don DeLillo  Aug 17, 2012    600,000   \n",
       "2  David Cronenberg|Don DeLillo  Aug 17, 2012    600,000   \n",
       "3  David Cronenberg|Don DeLillo  Aug 17, 2012    600,000   \n",
       "4  David Cronenberg|Don DeLillo  Aug 17, 2012    600,000   \n",
       "\n",
       "                                              review rating_y   fresh  \\\n",
       "0                                                NaN      NaN     NaN   \n",
       "1  A distinctly gallows take on contemporary fina...      3/5   fresh   \n",
       "2  It's an allegory in search of a meaning that n...      NaN  rotten   \n",
       "3  ... life lived in a bubble in financial dealin...      NaN   fresh   \n",
       "4  Continuing along a line introduced in last yea...      NaN   fresh   \n",
       "\n",
       "           critic         publisher               date  \n",
       "0             NaN               NaN                NaN  \n",
       "1      PJ Nabarro   Patrick Nabarro  November 10, 2018  \n",
       "2  Annalee Newitz           io9.com       May 23, 2018  \n",
       "3    Sean Axmaker  Stream on Demand    January 4, 2018  \n",
       "4   Daniel Kasman              MUBI  November 16, 2017  "
      ]
     },
     "execution_count": 130,
     "metadata": {},
     "output_type": "execute_result"
    }
   ],
   "source": [
    "# Merge the datasets on 'id' column\n",
    "merged_df = pd.merge(movies_df, reviews_df, on='id', how='outer')\n",
    "merged_df.head()"
   ]
  },
  {
   "cell_type": "code",
   "execution_count": 131,
   "id": "af99d532",
   "metadata": {},
   "outputs": [
    {
     "data": {
      "text/plain": [
       "(54857, 14)"
      ]
     },
     "execution_count": 131,
     "metadata": {},
     "output_type": "execute_result"
    }
   ],
   "source": [
    "# Check the dimensions of the merged dataset (rows, columns)\n",
    "merged_df.shape"
   ]
  },
  {
   "cell_type": "code",
   "execution_count": 132,
   "id": "d5eca4e5",
   "metadata": {},
   "outputs": [
    {
     "name": "stdout",
     "output_type": "stream",
     "text": [
      "<class 'pandas.core.frame.DataFrame'>\n",
      "Int64Index: 54857 entries, 0 to 54856\n",
      "Data columns (total 14 columns):\n",
      " #   Column        Non-Null Count  Dtype \n",
      "---  ------        --------------  ----- \n",
      " 0   id            54857 non-null  int64 \n",
      " 1   synopsis      54680 non-null  object\n",
      " 2   rating_x      54769 non-null  object\n",
      " 3   genre         54764 non-null  object\n",
      " 4   director      49339 non-null  object\n",
      " 5   writer        45426 non-null  object\n",
      " 6   theater_date  53411 non-null  object\n",
      " 7   box_office    33351 non-null  object\n",
      " 8   review        48869 non-null  object\n",
      " 9   rating_y      40915 non-null  object\n",
      " 10  fresh         54432 non-null  object\n",
      " 11  critic        51710 non-null  object\n",
      " 12  publisher     54123 non-null  object\n",
      " 13  date          54432 non-null  object\n",
      "dtypes: int64(1), object(13)\n",
      "memory usage: 6.3+ MB\n"
     ]
    }
   ],
   "source": [
    "# View a summary of the merged dataset columns\n",
    "merged_df.info()"
   ]
  },
  {
   "cell_type": "code",
   "execution_count": 133,
   "id": "95c12e58",
   "metadata": {},
   "outputs": [
    {
     "data": {
      "text/html": [
       "<div>\n",
       "<style scoped>\n",
       "    .dataframe tbody tr th:only-of-type {\n",
       "        vertical-align: middle;\n",
       "    }\n",
       "\n",
       "    .dataframe tbody tr th {\n",
       "        vertical-align: top;\n",
       "    }\n",
       "\n",
       "    .dataframe thead th {\n",
       "        text-align: right;\n",
       "    }\n",
       "</style>\n",
       "<table border=\"1\" class=\"dataframe\">\n",
       "  <thead>\n",
       "    <tr style=\"text-align: right;\">\n",
       "      <th></th>\n",
       "      <th>id</th>\n",
       "    </tr>\n",
       "  </thead>\n",
       "  <tbody>\n",
       "    <tr>\n",
       "      <th>count</th>\n",
       "      <td>54857.000000</td>\n",
       "    </tr>\n",
       "    <tr>\n",
       "      <th>mean</th>\n",
       "      <td>1045.483749</td>\n",
       "    </tr>\n",
       "    <tr>\n",
       "      <th>std</th>\n",
       "      <td>586.631039</td>\n",
       "    </tr>\n",
       "    <tr>\n",
       "      <th>min</th>\n",
       "      <td>1.000000</td>\n",
       "    </tr>\n",
       "    <tr>\n",
       "      <th>25%</th>\n",
       "      <td>542.000000</td>\n",
       "    </tr>\n",
       "    <tr>\n",
       "      <th>50%</th>\n",
       "      <td>1083.000000</td>\n",
       "    </tr>\n",
       "    <tr>\n",
       "      <th>75%</th>\n",
       "      <td>1541.000000</td>\n",
       "    </tr>\n",
       "    <tr>\n",
       "      <th>max</th>\n",
       "      <td>2000.000000</td>\n",
       "    </tr>\n",
       "  </tbody>\n",
       "</table>\n",
       "</div>"
      ],
      "text/plain": [
       "                 id\n",
       "count  54857.000000\n",
       "mean    1045.483749\n",
       "std      586.631039\n",
       "min        1.000000\n",
       "25%      542.000000\n",
       "50%     1083.000000\n",
       "75%     1541.000000\n",
       "max     2000.000000"
      ]
     },
     "execution_count": 133,
     "metadata": {},
     "output_type": "execute_result"
    }
   ],
   "source": [
    "# View statistical information of the dataset\n",
    "merged_df.describe()"
   ]
  },
  {
   "cell_type": "markdown",
   "id": "f78eb0f3",
   "metadata": {},
   "source": [
    "When examining both datasets, it becomes clear that while the movies dataset is relatively small and suffers from significant gaps in specific columns, the reviews dataset is much larger and provides more complete data in certain areas. The movie dataset contains crucial metadata about the movies, but often lacks detailed financial and creative information. The reviews dataset, although it has some missing review texts and ratings, still offers enough information to perform analysis, especially since the fresh column is fully populated. The id column is common in both datasets, which makes it easy to merge the two, but due to missing values in both, careful handling of these gaps is necessary when conducting further analysis."
   ]
  },
  {
   "cell_type": "code",
   "execution_count": 134,
   "id": "8e344d6b",
   "metadata": {},
   "outputs": [],
   "source": [
    "# Save the merged dataset to a CSV file\n",
    "merged_df.to_csv('merged_movie_reviews.csv', index=False)"
   ]
  },
  {
   "cell_type": "markdown",
   "id": "f1725b66",
   "metadata": {},
   "source": [
    "## 【2】*Data Cleaning*  "
   ]
  },
  {
   "cell_type": "markdown",
   "id": "54c8bcf5",
   "metadata": {},
   "source": [
    "###  Why Cleaning?  \n",
    "- **Ensures Data Accuracy** → Missing values can distort trends and patterns.  \n",
    "- **Improves Visualization** → Charts and graphs require complete data for meaningful insights.   \n",
    "\n",
    "To ensure that final insights are reliable and data-driven, missing values need to be properly handle.  \n",
    "\n",
    "Checklist:  \n",
    "- Drop columns with excessive missing values.  \n",
    "- Fill or impute missing values where necessary.  \n",
    "- Filter and refine the dataset for meaningful analysis. "
   ]
  },
  {
   "cell_type": "markdown",
   "id": "b29d5465",
   "metadata": {},
   "source": [
    "#### Handling Missing Values *Rows*"
   ]
  },
  {
   "cell_type": "code",
   "execution_count": 135,
   "id": "17c0c7e2",
   "metadata": {},
   "outputs": [
    {
     "data": {
      "text/plain": [
       "id                  0\n",
       "synopsis          177\n",
       "rating_x           88\n",
       "genre              93\n",
       "director         5518\n",
       "writer           9431\n",
       "theater_date     1446\n",
       "box_office      21506\n",
       "review           5988\n",
       "rating_y        13942\n",
       "fresh             425\n",
       "critic           3147\n",
       "publisher         734\n",
       "date              425\n",
       "dtype: int64"
      ]
     },
     "execution_count": 135,
     "metadata": {},
     "output_type": "execute_result"
    }
   ],
   "source": [
    "# Check for missing values in each column\n",
    "merged_df.isna().sum()"
   ]
  },
  {
   "cell_type": "code",
   "execution_count": 136,
   "id": "a64c9bef",
   "metadata": {},
   "outputs": [
    {
     "data": {
      "text/plain": [
       "id               0.000000\n",
       "synopsis         0.322657\n",
       "rating_x         0.160417\n",
       "genre            0.169532\n",
       "director        10.058880\n",
       "writer          17.191972\n",
       "theater_date     2.635944\n",
       "box_office      39.203748\n",
       "review          10.915653\n",
       "rating_y        25.415170\n",
       "fresh            0.774742\n",
       "critic           5.736734\n",
       "publisher        1.338024\n",
       "date             0.774742\n",
       "dtype: float64"
      ]
     },
     "execution_count": 136,
     "metadata": {},
     "output_type": "execute_result"
    }
   ],
   "source": [
    "# Calculate the percentage of missing data in each column\n",
    "missing_percent = merged_df.isna().mean()*100\n",
    "missing_percent"
   ]
  },
  {
   "cell_type": "code",
   "execution_count": 137,
   "id": "1308715f",
   "metadata": {},
   "outputs": [],
   "source": [
    "#Drop rows with missing values in essential columns\n",
    "merged_df.dropna(subset=['synopsis','rating_x','genre','director','writer','theater_date','box_office','review','rating_y','fresh','critic','publisher','date'], inplace=True)"
   ]
  },
  {
   "cell_type": "code",
   "execution_count": 138,
   "id": "5713bded",
   "metadata": {},
   "outputs": [
    {
     "data": {
      "text/plain": [
       "id              0\n",
       "synopsis        0\n",
       "rating_x        0\n",
       "genre           0\n",
       "director        0\n",
       "writer          0\n",
       "theater_date    0\n",
       "box_office      0\n",
       "review          0\n",
       "rating_y        0\n",
       "fresh           0\n",
       "critic          0\n",
       "publisher       0\n",
       "date            0\n",
       "dtype: int64"
      ]
     },
     "execution_count": 138,
     "metadata": {},
     "output_type": "execute_result"
    }
   ],
   "source": [
    "#Recheck for missing values in each column\n",
    "merged_df.isna().sum()"
   ]
  },
  {
   "cell_type": "code",
   "execution_count": 139,
   "id": "152d8dbe",
   "metadata": {},
   "outputs": [
    {
     "name": "stdout",
     "output_type": "stream",
     "text": [
      "Number of duplicate IDs: 0\n"
     ]
    }
   ],
   "source": [
    "# Check duplicates based only on 'id' column\n",
    "duplicates = merged_df.duplicated()\n",
    "print(f\"Number of duplicate IDs: {duplicates.sum()}\")"
   ]
  },
  {
   "cell_type": "code",
   "execution_count": 140,
   "id": "3fbc228c",
   "metadata": {},
   "outputs": [
    {
     "name": "stdout",
     "output_type": "stream",
     "text": [
      "<class 'pandas.core.frame.DataFrame'>\n",
      "Int64Index: 18864 entries, 1 to 54309\n",
      "Data columns (total 14 columns):\n",
      " #   Column        Non-Null Count  Dtype \n",
      "---  ------        --------------  ----- \n",
      " 0   id            18864 non-null  int64 \n",
      " 1   synopsis      18864 non-null  object\n",
      " 2   rating_x      18864 non-null  object\n",
      " 3   genre         18864 non-null  object\n",
      " 4   director      18864 non-null  object\n",
      " 5   writer        18864 non-null  object\n",
      " 6   theater_date  18864 non-null  object\n",
      " 7   box_office    18864 non-null  object\n",
      " 8   review        18864 non-null  object\n",
      " 9   rating_y      18864 non-null  object\n",
      " 10  fresh         18864 non-null  object\n",
      " 11  critic        18864 non-null  object\n",
      " 12  publisher     18864 non-null  object\n",
      " 13  date          18864 non-null  object\n",
      "dtypes: int64(1), object(13)\n",
      "memory usage: 2.2+ MB\n"
     ]
    }
   ],
   "source": [
    "# View a summary of the cleaned merged dataset columns\n",
    "merged_df.info()"
   ]
  },
  {
   "cell_type": "markdown",
   "id": "fd9173a5",
   "metadata": {},
   "source": [
    "## 【3】*Data Visualization & Analysis*  "
   ]
  },
  {
   "cell_type": "markdown",
   "id": "6752b280",
   "metadata": {},
   "source": [
    "### 1. **Distribution of Movie Ratings**\n",
    "- Why? See how ratings (like 'R', 'PG-13', etc.) are distributed.\n",
    "\n",
    "- Type: Bar Chart\n",
    "\n",
    "- Useful For Hypothesis Testing: Compare success (box office, reviews) across ratings."
   ]
  },
  {
   "cell_type": "code",
   "execution_count": 141,
   "id": "8bfc6f83",
   "metadata": {},
   "outputs": [
    {
     "data": {
      "image/png": "[encoded data removed]",
      "text/plain": [
       "<Figure size 432x288 with 1 Axes>"
      ]
     },
     "metadata": {},
     "output_type": "display_data"
    }
   ],
   "source": [
    "import seaborn as sns\n",
    "import matplotlib.pyplot as plt\n",
    "\n",
    "#Plot\n",
    "sns.countplot(data=merged_df, x='rating_x', order=merged_df['rating_x'].value_counts().index)\n",
    "plt.xticks(rotation=45)\n",
    "plt.title('Distribution of Movie Ratings')\n",
    "plt.show()"
   ]
  },
  {
   "cell_type": "markdown",
   "id": "ae877dba",
   "metadata": {},
   "source": [
    "## 🧪 Hypothesis:\n",
    "- Null Hypothesis (H₀): At least one rating category has a different average revenue.\n",
    "- Alternative Hypothesis (H₁): No significant difference across rating categories.\n",
    "### Anova Test\n",
    "This is to test whether average box office revenue has a significant difference in regards to movie ratings."
   ]
  },
  {
   "cell_type": "code",
   "execution_count": null,
   "id": "bb3240f2",
   "metadata": {},
   "outputs": [
    {
     "name": "stdout",
     "output_type": "stream",
     "text": [
      "F-statistic: 607.843\n",
      "P-value: 0.00000\n",
      "✅ We reject the null hypothesis: At least one rating category has a different average revenue.\n"
     ]
    }
   ],
   "source": [
    "import scipy.stats as stats\n",
    "\n",
    "# Copy and clean the data\n",
    "df_anova = merged_df.copy()\n",
    "\n",
    "# Clean box_office column\n",
    "df_anova['box_office'] = df_anova['box_office'].replace('[\\$,]', '', regex=True)\n",
    "df_anova['box_office'] = pd.to_numeric(df_anova['box_office'], errors='coerce')\n",
    "\n",
    "# Drop rows with missing box_office or rating_x\n",
    "df_anova = df_anova.dropna(subset=['box_office', 'rating_x'])\n",
    "\n",
    "# Filter to common ratings only (optional, to reduce noise)\n",
    "common_ratings = ['G', 'PG', 'PG-13', 'R', 'NC-17']\n",
    "df_anova = df_anova[df_anova['rating_x'].isin(common_ratings)]\n",
    "\n",
    "# --- Run ANOVA ---\n",
    "groups = [group['box_office'].dropna() for name, group in df_anova.groupby('rating_x')]\n",
    "f_stat, p_val = stats.f_oneway(*groups)\n",
    "\n",
    "print(f\"F-statistic: {f_stat:.3f}\")\n",
    "print(f\"P-value: {p_val:.5f}\")\n",
    "\n",
    "if p_val < 0.05:\n",
    "    print(\"✅ We reject the null hypothesis: At least one rating category has a different average revenue.\")\n",
    "else:\n",
    "    print(\"❌ We fail to reject the null hypothesis: No significant difference across rating categories.\")\n"
   ]
  },
  {
   "cell_type": "markdown",
   "id": "81dd39a2",
   "metadata": {},
   "source": [
    "### 2. **Box Office Revenue vs Freshness**\n",
    "- Type: Box plot\n",
    "\n",
    "- Useful For Hypothesis Testing:Movies with a ‘Fresh’ rating earn more revenue than those with a ‘Rotten’ rating. "
   ]
  },
  {
   "cell_type": "code",
   "execution_count": 143,
   "id": "54469669",
   "metadata": {},
   "outputs": [
    {
     "data": {
      "image/png": "[encoded data removed]",
      "text/plain": [
       "<Figure size 720x432 with 1 Axes>"
      ]
     },
     "metadata": {},
     "output_type": "display_data"
    }
   ],
   "source": [
    "# Make a copy to avoid altering original\n",
    "df = merged_df.copy()\n",
    "\n",
    "# Clean 'box_office' column \n",
    "# Remove currency symbols and commas, convert to numeric\n",
    "df['box_office'] = df['box_office'].replace('[\\$,]', '', regex=True)\n",
    "df['box_office'] = pd.to_numeric(df['box_office'], errors='coerce')\n",
    "\n",
    "# Drop rows with missing values in 'box_office' or 'fresh'\n",
    "df_clean = df.dropna(subset=['box_office', 'fresh'])\n",
    "\n",
    "# Simplify 'fresh' into binary (Fresh vs Rotten)\n",
    "df_clean['fresh_binary'] = df_clean['fresh'].map({'fresh': 'Fresh', 'rotten': 'Rotten'})\n",
    "\n",
    "# Plotting \n",
    "plt.figure(figsize=(10, 6))\n",
    "sns.boxplot(data=df_clean, x='fresh_binary', y='box_office', palette='Set2')\n",
    "plt.title('Box Office Revenue vs Freshness')\n",
    "plt.xlabel('Critic Freshness')\n",
    "plt.ylabel('Box Office Revenue (USD)')\n",
    "plt.yscale('log')  # Optional: log scale to handle skew\n",
    "plt.grid(True, linestyle='--', alpha=0.5)\n",
    "plt.tight_layout()\n",
    "plt.show()"
   ]
  },
  {
   "cell_type": "markdown",
   "id": "ed9a0dbc",
   "metadata": {},
   "source": [
    "## 🧪 Hypothesis:\n",
    "- Null Hypothesis (H₀): There is no significant difference in box office revenue between \"Fresh\" and \"Rotten\" movies.\n",
    "\n",
    "- Alternative Hypothesis (H₁): \"Fresh\" movies earn significantly more than \"Rotten\" movies."
   ]
  },
  {
   "cell_type": "code",
   "execution_count": 144,
   "id": "09d085e6",
   "metadata": {},
   "outputs": [
    {
     "name": "stdout",
     "output_type": "stream",
     "text": [
      "T-statistic: 7.388\n",
      "P-value: 0.00000\n",
      "✅ We reject the null hypothesis: Fresh movies earn significantly more.\n"
     ]
    }
   ],
   "source": [
    "from scipy.stats import ttest_ind\n",
    "\n",
    "# Filter data again for safety\n",
    "df_ttest = df_clean[df_clean['fresh_binary'].isin(['Fresh', 'Rotten'])]\n",
    "\n",
    "# Split into two groups\n",
    "fresh_revenue = df_ttest[df_ttest['fresh_binary'] == 'Fresh']['box_office']\n",
    "rotten_revenue = df_ttest[df_ttest['fresh_binary'] == 'Rotten']['box_office']\n",
    "\n",
    "# Perform independent t-test (Welch’s t-test by default)\n",
    "t_stat, p_value = ttest_ind(fresh_revenue, rotten_revenue, equal_var=False)\n",
    "\n",
    "# Print results\n",
    "print(f\"T-statistic: {t_stat:.3f}\")\n",
    "print(f\"P-value: {p_value:.5f}\")\n",
    "\n",
    "# Interpretation\n",
    "if p_value < 0.05:\n",
    "    print(\"✅ We reject the null hypothesis: Fresh movies earn significantly more.\")\n",
    "else:\n",
    "    print(\"❌ We fail to reject the null hypothesis: No significant revenue difference.\")\n"
   ]
  },
  {
   "cell_type": "markdown",
   "id": "0c30f352",
   "metadata": {},
   "source": [
    "### 3. Genre vs Freshness Analysis\n",
    "- Why? See if certain genres get better (\"fresh\") ratings more often.\n",
    "\n",
    "- Type: Grouped Bar Chart or Proportion Chart"
   ]
  },
  {
   "cell_type": "code",
   "execution_count": 145,
   "id": "222f292a",
   "metadata": {},
   "outputs": [
    {
     "data": {
      "image/png": "[encoded data removed]",
      "text/plain": [
       "<Figure size 864x432 with 1 Axes>"
      ]
     },
     "metadata": {},
     "output_type": "display_data"
    }
   ],
   "source": [
    "# Explode genres if multiple genres are combined with '|'\n",
    "merged_df['genre_exploded'] = merged_df['genre'].str.split('|')\n",
    "\n",
    "# Expand rows for each genre\n",
    "genre_df = merged_df.explode('genre_exploded')\n",
    "\n",
    "# Plot\n",
    "plt.figure(figsize=(12,6))\n",
    "sns.countplot(data=genre_df, x='genre_exploded', hue='fresh', order=genre_df['genre_exploded'].value_counts().index)\n",
    "plt.xticks(rotation=90)\n",
    "plt.title('Freshness by Genre')\n",
    "plt.show()"
   ]
  },
  {
   "cell_type": "markdown",
   "id": "4637b6d4",
   "metadata": {},
   "source": [
    "### 🧪 Hypothesis Statement (for statistical testing):\n",
    "Null Hypothesis (H₀): Freshness (fresh vs. rotten) is independent of movie genre—there’s no association.\n",
    "\n",
    "Alternative Hypothesis (H₁): Freshness is dependent on movie genre—some genres tend to get more fresh reviews than others.\n",
    "\n",
    "This is a chi-square test for independence, since both genre and fresh are categorical variables."
   ]
  },
  {
   "cell_type": "code",
   "execution_count": 146,
   "id": "83edff1d",
   "metadata": {},
   "outputs": [
    {
     "name": "stdout",
     "output_type": "stream",
     "text": [
      "Chi-Square Statistic: 565.22\n",
      "Degrees of Freedom: 16\n",
      "P-value: 0.00000\n",
      "✅ We reject the null hypothesis: Freshness is dependent on genre.\n"
     ]
    }
   ],
   "source": [
    "import scipy.stats as stats\n",
    "\n",
    "# Create a contingency table\n",
    "contingency_table = pd.crosstab(genre_df['genre_exploded'], genre_df['fresh'])\n",
    "\n",
    "# Perform the chi-square test\n",
    "chi2_stat, p_val, dof, expected = stats.chi2_contingency(contingency_table)\n",
    "\n",
    "print(f\"Chi-Square Statistic: {chi2_stat:.2f}\")\n",
    "print(f\"Degrees of Freedom: {dof}\")\n",
    "print(f\"P-value: {p_val:.5f}\")\n",
    "\n",
    "# Conclusion\n",
    "if p_val < 0.05:\n",
    "    print(\"✅ We reject the null hypothesis: Freshness is dependent on genre.\")\n",
    "else:\n",
    "    print(\"❌ We fail to reject the null hypothesis: No significant association between genre and freshness.\")\n"
   ]
  },
  {
   "cell_type": "markdown",
   "id": "2335969a",
   "metadata": {},
   "source": [
    "### **✅ Conclusion**\n",
    "##### The analysis provides strong statistical evidence to guide strategic decisions for the new movie studio. First, the chi-square test confirms that movie freshness is significantly associated with genre. This suggests that certain genres are more likely to receive positive (fresh) ratings, which can be leveraged to target critically acclaimed film production.\n",
    "---------------------------------------------------------------------------------------------------------------------------------\n",
    "\n",
    "##### Second, the t-test indicates that fresh movies earn significantly more at the box office compared to rotten ones. This insight supports investing in higher-quality productions that are more likely to be well-received by critics.\n",
    "------------------------------------------------------------------------------------------------------------------------------------\n",
    "\n",
    "##### Finally, we found that box office revenue significantly varies across rating categories e.g. PG, R, highlighting that audience suitability influences commercial success. This can inform targeted content for specific demographics.\n",
    "--------------------------------------------------------------------------------------------------------------------------------------\n",
    "##### In summary, focusing on genres with a higher likelihood of receiving fresh ratings, aiming for critical acclaim, and strategically choosing film ratings are all actionable strategies the new studio can adopt to maximize box office performance and competitive advantage."
   ]
  },
  {
   "cell_type": "markdown",
   "id": "b21b8ef6",
   "metadata": {},
   "source": []
  }
 ],
 "metadata": {
  "kernelspec": {
   "display_name": "learn-env",
   "language": "python",
   "name": "python3"
  },
  "language_info": {
   "codemirror_mode": {
    "name": "ipython",
    "version": 3
   },
   "file_extension": ".py",
   "mimetype": "text/x-python",
   "name": "python",
   "nbconvert_exporter": "python",
   "pygments_lexer": "ipython3",
   "version": "3.8.5"
  }
 },
 "nbformat": 4,
 "nbformat_minor": 5
}
