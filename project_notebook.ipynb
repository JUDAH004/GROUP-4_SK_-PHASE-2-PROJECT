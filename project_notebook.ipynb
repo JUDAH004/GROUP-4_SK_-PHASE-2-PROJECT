{
 "cells": [
  {
   "cell_type": "markdown",
   "id": "896217a2",
   "metadata": {},
   "source": [
    "# MOVIE MARKET ANALYTICS \n",
    " **SEEKING INSIGHTS FOR NEW FILM STUDIO**"
   ]
  },
  {
   "cell_type": "markdown",
   "id": "1fb924cf",
   "metadata": {},
   "source": [
    "*GROUP 4-B*\n",
    "\n",
    "*DSF-FT12-HYBRID*\n",
    "\n",
    "*TECHNICAL MENTOR : SAMUEL KARU*"
   ]
  },
  {
   "cell_type": "markdown",
   "id": "447eb60b",
   "metadata": {},
   "source": [
    "## INTRODUCTION"
   ]
  },
  {
   "cell_type": "markdown",
   "id": "c478d627",
   "metadata": {},
   "source": [
    "In the rapidly growing world of cinema,there has been an noticeable rise in the originality and creativity of films as seen amongst the leading movie production studios.Recognizing this trend,our company developed a profound interest in entering the film industry.However,succeeding in this highly competitive space does not only require creative ambition but demands data-driven insights to identify the most profitable and successful genres in the industry to persue. "
   ]
  },
  {
   "cell_type": "markdown",
   "id": "60703008",
   "metadata": {},
   "source": [
    "## BUSINESS UNDERSTANDING"
   ]
  },
  {
   "cell_type": "markdown",
   "id": "99747224",
   "metadata": {},
   "source": [
    "Our company is intrested in venturing into the film industry.The key business problem we want to find the solution to is **determining what types of films are most likely to succeed at the box office**.To do this we have come up with clear objectives that will be a guide to this project to solve the problem at hand. \n",
    "\n",
    "The primary objectives are as follows:\n",
    "1. **Analyze different genre performance based on ratings and votes** to determine and understand what types of movies have historically performed well at the box office.\n",
    "\n",
    "2. **Examine the influence of directors on movie ratings**.By identifying succesfull directors whose styles or approaches may inspire the new studio's productions.\n",
    "\n",
    "3. **Uncover key patterns and actionable trends in films success over time**. By comparing release years of films alongside rating data to uncover patterns of diferent genres over the years.\n",
    "\n",
    "4. **Recommend concrete strategies the business should take in order for them to succeed in the industry**. These recommendation will be based on the insights got after analysing the data we have.\n"
   ]
  },
  {
   "cell_type": "markdown",
   "id": "2efa36b3",
   "metadata": {},
   "source": [
    "## DATA PREPROCESSING"
   ]
  },
  {
   "cell_type": "markdown",
   "id": "c4218f44",
   "metadata": {},
   "source": [
    "The data used for this project is sourced from multiple platforms which are: **Internet Movie Database(IMDb)** , \n",
    "**Box offic Mojo** , **Rotten Tomatoes** , **TheMovieDB** and **The Numbers**. A thorough Exploratory Data Analysis(EDA) will be performed with a focus on  data from **IMdb**, **Rotten Tomatoes**,**Box office Mojo** and **ThemovieDB**.\n",
    "As part of the data preprocessing process, we will:\n",
    "\n",
    "> Clean the data by handling missing values and correcting inconsistencies(Duplicates e.t.c)\n",
    "\n",
    "> Merge relevant datasets to create a unified dataset that can be analysed easily.\n",
    " \n",
    "> Explore relationships between movie attributes and success metrics through visualizations and descriptive statistics\n",
    "\n",
    "Through insightful visualizations and statistical exploration, we aim to uncover key patterns and trends that will inform the final business recommendations and help achieve the above stated project objectives."
   ]
  },
  {
   "cell_type": "markdown",
   "id": "ef8a55e0",
   "metadata": {},
   "source": [
    "## DATA PREPARATION(BOX OFFICE MOJO/THE NUMBERS)"
   ]
  },
  {
   "cell_type": "markdown",
   "id": "e9ab2d5e",
   "metadata": {},
   "source": [
    "## 【1】*Data Exploration*  "
   ]
  },
  {
   "cell_type": "code",
   "execution_count": 1,
   "id": "148bb5af",
   "metadata": {},
   "outputs": [],
   "source": [
    "# Import neccesary libraries\n",
    "import numpy as np\n",
    "import matplotlib.pyplot as plt\n",
    "import pandas as pd\n",
    "import seaborn as sns\n",
    "from scipy.stats import ttest_rel\n",
    "from scipy.stats import ttest_ind\n",
    "from scipy.stats import pearsonr"
   ]
  },
  {
   "cell_type": "code",
   "execution_count": 6,
   "id": "5b5dfe98",
   "metadata": {},
   "outputs": [
    {
     "data": {
      "text/html": [
       "<div>\n",
       "<style scoped>\n",
       "    .dataframe tbody tr th:only-of-type {\n",
       "        vertical-align: middle;\n",
       "    }\n",
       "\n",
       "    .dataframe tbody tr th {\n",
       "        vertical-align: top;\n",
       "    }\n",
       "\n",
       "    .dataframe thead th {\n",
       "        text-align: right;\n",
       "    }\n",
       "</style>\n",
       "<table border=\"1\" class=\"dataframe\">\n",
       "  <thead>\n",
       "    <tr style=\"text-align: right;\">\n",
       "      <th></th>\n",
       "      <th>title</th>\n",
       "      <th>studio</th>\n",
       "      <th>domestic_gross</th>\n",
       "      <th>foreign_gross</th>\n",
       "      <th>year</th>\n",
       "    </tr>\n",
       "  </thead>\n",
       "  <tbody>\n",
       "    <tr>\n",
       "      <th>0</th>\n",
       "      <td>Toy Story 3</td>\n",
       "      <td>BV</td>\n",
       "      <td>415000000.0</td>\n",
       "      <td>652000000</td>\n",
       "      <td>2010</td>\n",
       "    </tr>\n",
       "    <tr>\n",
       "      <th>1</th>\n",
       "      <td>Alice in Wonderland (2010)</td>\n",
       "      <td>BV</td>\n",
       "      <td>334200000.0</td>\n",
       "      <td>691300000</td>\n",
       "      <td>2010</td>\n",
       "    </tr>\n",
       "    <tr>\n",
       "      <th>2</th>\n",
       "      <td>Harry Potter and the Deathly Hallows Part 1</td>\n",
       "      <td>WB</td>\n",
       "      <td>296000000.0</td>\n",
       "      <td>664300000</td>\n",
       "      <td>2010</td>\n",
       "    </tr>\n",
       "    <tr>\n",
       "      <th>3</th>\n",
       "      <td>Inception</td>\n",
       "      <td>WB</td>\n",
       "      <td>292600000.0</td>\n",
       "      <td>535700000</td>\n",
       "      <td>2010</td>\n",
       "    </tr>\n",
       "    <tr>\n",
       "      <th>4</th>\n",
       "      <td>Shrek Forever After</td>\n",
       "      <td>P/DW</td>\n",
       "      <td>238700000.0</td>\n",
       "      <td>513900000</td>\n",
       "      <td>2010</td>\n",
       "    </tr>\n",
       "  </tbody>\n",
       "</table>\n",
       "</div>"
      ],
      "text/plain": [
       "                                         title studio  domestic_gross  \\\n",
       "0                                  Toy Story 3     BV     415000000.0   \n",
       "1                   Alice in Wonderland (2010)     BV     334200000.0   \n",
       "2  Harry Potter and the Deathly Hallows Part 1     WB     296000000.0   \n",
       "3                                    Inception     WB     292600000.0   \n",
       "4                          Shrek Forever After   P/DW     238700000.0   \n",
       "\n",
       "  foreign_gross  year  \n",
       "0     652000000  2010  \n",
       "1     691300000  2010  \n",
       "2     664300000  2010  \n",
       "3     535700000  2010  \n",
       "4     513900000  2010  "
      ]
     },
     "execution_count": 6,
     "metadata": {},
     "output_type": "execute_result"
    }
   ],
   "source": [
    "# Load the dataset\n",
    "Gross_df = pd.read_csv('./Data/bom.movie_gross.csv.gz', compression='gzip')\n",
    "Gross_df.head()"
   ]
  },
  {
   "cell_type": "code",
   "execution_count": 7,
   "id": "08bf693e",
   "metadata": {},
   "outputs": [
    {
     "data": {
      "text/html": [
       "<div>\n",
       "<style scoped>\n",
       "    .dataframe tbody tr th:only-of-type {\n",
       "        vertical-align: middle;\n",
       "    }\n",
       "\n",
       "    .dataframe tbody tr th {\n",
       "        vertical-align: top;\n",
       "    }\n",
       "\n",
       "    .dataframe thead th {\n",
       "        text-align: right;\n",
       "    }\n",
       "</style>\n",
       "<table border=\"1\" class=\"dataframe\">\n",
       "  <thead>\n",
       "    <tr style=\"text-align: right;\">\n",
       "      <th></th>\n",
       "      <th>id</th>\n",
       "      <th>release_date</th>\n",
       "      <th>movie</th>\n",
       "      <th>production_budget</th>\n",
       "      <th>domestic_gross</th>\n",
       "      <th>worldwide_gross</th>\n",
       "    </tr>\n",
       "  </thead>\n",
       "  <tbody>\n",
       "    <tr>\n",
       "      <th>0</th>\n",
       "      <td>1</td>\n",
       "      <td>Dec 18, 2009</td>\n",
       "      <td>Avatar</td>\n",
       "      <td>$425,000,000</td>\n",
       "      <td>$760,507,625</td>\n",
       "      <td>$2,776,345,279</td>\n",
       "    </tr>\n",
       "    <tr>\n",
       "      <th>1</th>\n",
       "      <td>2</td>\n",
       "      <td>May 20, 2011</td>\n",
       "      <td>Pirates of the Caribbean: On Stranger Tides</td>\n",
       "      <td>$410,600,000</td>\n",
       "      <td>$241,063,875</td>\n",
       "      <td>$1,045,663,875</td>\n",
       "    </tr>\n",
       "    <tr>\n",
       "      <th>2</th>\n",
       "      <td>3</td>\n",
       "      <td>Jun 7, 2019</td>\n",
       "      <td>Dark Phoenix</td>\n",
       "      <td>$350,000,000</td>\n",
       "      <td>$42,762,350</td>\n",
       "      <td>$149,762,350</td>\n",
       "    </tr>\n",
       "    <tr>\n",
       "      <th>3</th>\n",
       "      <td>4</td>\n",
       "      <td>May 1, 2015</td>\n",
       "      <td>Avengers: Age of Ultron</td>\n",
       "      <td>$330,600,000</td>\n",
       "      <td>$459,005,868</td>\n",
       "      <td>$1,403,013,963</td>\n",
       "    </tr>\n",
       "    <tr>\n",
       "      <th>4</th>\n",
       "      <td>5</td>\n",
       "      <td>Dec 15, 2017</td>\n",
       "      <td>Star Wars Ep. VIII: The Last Jedi</td>\n",
       "      <td>$317,000,000</td>\n",
       "      <td>$620,181,382</td>\n",
       "      <td>$1,316,721,747</td>\n",
       "    </tr>\n",
       "  </tbody>\n",
       "</table>\n",
       "</div>"
      ],
      "text/plain": [
       "   id  release_date                                        movie  \\\n",
       "0   1  Dec 18, 2009                                       Avatar   \n",
       "1   2  May 20, 2011  Pirates of the Caribbean: On Stranger Tides   \n",
       "2   3   Jun 7, 2019                                 Dark Phoenix   \n",
       "3   4   May 1, 2015                      Avengers: Age of Ultron   \n",
       "4   5  Dec 15, 2017            Star Wars Ep. VIII: The Last Jedi   \n",
       "\n",
       "  production_budget domestic_gross worldwide_gross  \n",
       "0      $425,000,000   $760,507,625  $2,776,345,279  \n",
       "1      $410,600,000   $241,063,875  $1,045,663,875  \n",
       "2      $350,000,000    $42,762,350    $149,762,350  \n",
       "3      $330,600,000   $459,005,868  $1,403,013,963  \n",
       "4      $317,000,000   $620,181,382  $1,316,721,747  "
      ]
     },
     "execution_count": 7,
     "metadata": {},
     "output_type": "execute_result"
    }
   ],
   "source": [
    "# Load the dataset\n",
    "Number_df = pd.read_csv(\"./Data/tn.movie_budgets.csv.gz\", compression='gzip')\n",
    "Number_df.head()"
   ]
  },
  {
   "cell_type": "markdown",
   "id": "8a49a09a",
   "metadata": {},
   "source": [
    "## 【2】*Data Cleaning* "
   ]
  },
  {
   "cell_type": "markdown",
   "id": "dcae15d4",
   "metadata": {},
   "source": [
    "> BOX OFFICE MOJO"
   ]
  },
  {
   "cell_type": "code",
   "execution_count": 8,
   "id": "814710b7",
   "metadata": {},
   "outputs": [
    {
     "name": "stdout",
     "output_type": "stream",
     "text": [
      "<class 'pandas.core.frame.DataFrame'>\n",
      "RangeIndex: 3387 entries, 0 to 3386\n",
      "Data columns (total 5 columns):\n",
      " #   Column          Non-Null Count  Dtype  \n",
      "---  ------          --------------  -----  \n",
      " 0   title           3387 non-null   object \n",
      " 1   studio          3382 non-null   object \n",
      " 2   domestic_gross  3359 non-null   float64\n",
      " 3   foreign_gross   2037 non-null   object \n",
      " 4   year            3387 non-null   int64  \n",
      "dtypes: float64(1), int64(1), object(3)\n",
      "memory usage: 132.4+ KB\n"
     ]
    }
   ],
   "source": [
    "# Check info\n",
    "Gross_df.info()"
   ]
  },
  {
   "cell_type": "code",
   "execution_count": 9,
   "id": "3b3c813d",
   "metadata": {},
   "outputs": [
    {
     "data": {
      "text/plain": [
       "(3387, 5)"
      ]
     },
     "execution_count": 9,
     "metadata": {},
     "output_type": "execute_result"
    }
   ],
   "source": [
    "# Check shape of the dataset\n",
    "Gross_df.shape"
   ]
  },
  {
   "cell_type": "code",
   "execution_count": 10,
   "id": "bd81a447",
   "metadata": {},
   "outputs": [
    {
     "data": {
      "text/plain": [
       "title                0\n",
       "studio               5\n",
       "domestic_gross      28\n",
       "foreign_gross     1350\n",
       "year                 0\n",
       "dtype: int64"
      ]
     },
     "execution_count": 10,
     "metadata": {},
     "output_type": "execute_result"
    }
   ],
   "source": [
    "# check for number of missing values\n",
    "Gross_df.isna().sum()"
   ]
  },
  {
   "cell_type": "code",
   "execution_count": 11,
   "id": "aa343ab4",
   "metadata": {},
   "outputs": [],
   "source": [
    "# Drop rows with missing values \n",
    "Gross_df = Gross_df.dropna(subset=['studio' , 'domestic_gross' , 'foreign_gross'])"
   ]
  },
  {
   "cell_type": "code",
   "execution_count": 12,
   "id": "8a036ec6",
   "metadata": {},
   "outputs": [
    {
     "data": {
      "text/plain": [
       "title             0\n",
       "studio            0\n",
       "domestic_gross    0\n",
       "foreign_gross     0\n",
       "year              0\n",
       "dtype: int64"
      ]
     },
     "execution_count": 12,
     "metadata": {},
     "output_type": "execute_result"
    }
   ],
   "source": [
    "# Check for missing values again\n",
    "Gross_df.isna().sum()"
   ]
  },
  {
   "cell_type": "code",
   "execution_count": 13,
   "id": "d4a4153c",
   "metadata": {},
   "outputs": [
    {
     "name": "stdout",
     "output_type": "stream",
     "text": [
      "<class 'pandas.core.frame.DataFrame'>\n",
      "Int64Index: 2007 entries, 0 to 3353\n",
      "Data columns (total 5 columns):\n",
      " #   Column          Non-Null Count  Dtype  \n",
      "---  ------          --------------  -----  \n",
      " 0   title           2007 non-null   object \n",
      " 1   studio          2007 non-null   object \n",
      " 2   domestic_gross  2007 non-null   float64\n",
      " 3   foreign_gross   2007 non-null   object \n",
      " 4   year            2007 non-null   int64  \n",
      "dtypes: float64(1), int64(1), object(3)\n",
      "memory usage: 94.1+ KB\n"
     ]
    }
   ],
   "source": [
    "# Check info\n",
    "Gross_df.info()"
   ]
  },
  {
   "cell_type": "code",
   "execution_count": 14,
   "id": "9c7b4bc5",
   "metadata": {},
   "outputs": [
    {
     "data": {
      "text/plain": [
       "0"
      ]
     },
     "execution_count": 14,
     "metadata": {},
     "output_type": "execute_result"
    }
   ],
   "source": [
    "# Check for dupicated values\n",
    "Gross_df.duplicated().sum()"
   ]
  },
  {
   "cell_type": "code",
   "execution_count": 15,
   "id": "7a5ed094",
   "metadata": {},
   "outputs": [
    {
     "data": {
      "text/plain": [
       "(2007, 5)"
      ]
     },
     "execution_count": 15,
     "metadata": {},
     "output_type": "execute_result"
    }
   ],
   "source": [
    "# Check the shape\n",
    "Gross_df.shape"
   ]
  },
  {
   "cell_type": "code",
   "execution_count": 16,
   "id": "957e8b09",
   "metadata": {},
   "outputs": [],
   "source": [
    "# Replacing missing or dash values with NaN, and remove commas\n",
    "for col in ['domestic_gross', 'foreign_gross']:\n",
    "    Gross_df[col] = Gross_df[col].astype(str)  # Convert to string first\n",
    "    Gross_df[col] = Gross_df[col].replace({'—': None, '': None})\n",
    "    Gross_df[col] = Gross_df[col].str.replace(',', '', regex=False)\n",
    "    Gross_df[col] = pd.to_numeric(Gross_df[col], errors='coerce')  # Final conversion to numbers"
   ]
  },
  {
   "cell_type": "code",
   "execution_count": 21,
   "id": "d0678774",
   "metadata": {},
   "outputs": [],
   "source": [
    "# Save cleaned version of dataset\n",
    "Gross_df.to_csv('Cleaned_bom.movie_gross.csv')"
   ]
  },
  {
   "cell_type": "markdown",
   "id": "698d577a",
   "metadata": {},
   "source": [
    "### *Data exploration and cleaning conclusion(BOM)*"
   ]
  },
  {
   "cell_type": "markdown",
   "id": "9b166b9f",
   "metadata": {},
   "source": [
    "> Data shape was initially, (3387, 5), However after cleaning and removal of missing values the data shape changes to,(2007, 5),There were no duplicated values,there the data can proceed to analysis and visualizations."
   ]
  },
  {
   "cell_type": "markdown",
   "id": "c1d1b3cb",
   "metadata": {},
   "source": [
    "> THE NUMBERS"
   ]
  },
  {
   "cell_type": "code",
   "execution_count": 17,
   "id": "fc889c67",
   "metadata": {},
   "outputs": [
    {
     "name": "stdout",
     "output_type": "stream",
     "text": [
      "<class 'pandas.core.frame.DataFrame'>\n",
      "RangeIndex: 5782 entries, 0 to 5781\n",
      "Data columns (total 6 columns):\n",
      " #   Column             Non-Null Count  Dtype \n",
      "---  ------             --------------  ----- \n",
      " 0   id                 5782 non-null   int64 \n",
      " 1   release_date       5782 non-null   object\n",
      " 2   movie              5782 non-null   object\n",
      " 3   production_budget  5782 non-null   object\n",
      " 4   domestic_gross     5782 non-null   object\n",
      " 5   worldwide_gross    5782 non-null   object\n",
      "dtypes: int64(1), object(5)\n",
      "memory usage: 271.2+ KB\n"
     ]
    }
   ],
   "source": [
    "# Check info\n",
    "Number_df.info()"
   ]
  },
  {
   "cell_type": "code",
   "execution_count": 18,
   "id": "0dd7d171",
   "metadata": {},
   "outputs": [
    {
     "data": {
      "text/plain": [
       "(5782, 6)"
      ]
     },
     "execution_count": 18,
     "metadata": {},
     "output_type": "execute_result"
    }
   ],
   "source": [
    "# check shape\n",
    "Number_df.shape"
   ]
  },
  {
   "cell_type": "code",
   "execution_count": 19,
   "id": "9449d8e3",
   "metadata": {},
   "outputs": [
    {
     "data": {
      "text/plain": [
       "0"
      ]
     },
     "execution_count": 19,
     "metadata": {},
     "output_type": "execute_result"
    }
   ],
   "source": [
    "# Check for Duplicates\n",
    "Number_df.duplicated().sum()"
   ]
  },
  {
   "cell_type": "code",
   "execution_count": 33,
   "id": "3f847302",
   "metadata": {},
   "outputs": [],
   "source": [
    "# Save the data\n",
    "Number_df.to_csv('Cleaned_tn_movie_budgets.csv')"
   ]
  },
  {
   "cell_type": "markdown",
   "id": "01141e43",
   "metadata": {},
   "source": [
    "### *Data exploration and cleaning conclusion(The Numbers)*"
   ]
  },
  {
   "cell_type": "markdown",
   "id": "942f5dcd",
   "metadata": {},
   "source": [
    "> The data from The numbers dataset is in quite mint condition with no missing values or Duplicated values, it has a shape of (5782, 6),showcasing rows and columns respectively."
   ]
  },
  {
   "cell_type": "markdown",
   "id": "e8d6f492",
   "metadata": {},
   "source": [
    "## 【3】*Data Analysis and Visualization* "
   ]
  },
  {
   "cell_type": "markdown",
   "id": "3e8e9920",
   "metadata": {},
   "source": [
    "> 1.TOP PERFORMING STUDIOS(OUR COMPETITORS)"
   ]
  },
  {
   "cell_type": "code",
   "execution_count": 22,
   "id": "4cde916b",
   "metadata": {},
   "outputs": [
    {
     "data": {
      "image/png": "[encoded data removed]",
      "text/plain": [
       "<Figure size 720x432 with 1 Axes>"
      ]
     },
     "metadata": {
      "needs_background": "light"
     },
     "output_type": "display_data"
    }
   ],
   "source": [
    "# Calculate worldwide gross\n",
    "Gross_df['worldwide_gross'] = Gross_df['domestic_gross'] + Gross_df['foreign_gross']\n",
    "\n",
    "# Group by studio and sum worldwide gross\n",
    "top_studios = Gross_df.groupby('studio')['worldwide_gross'].sum().sort_values(ascending=False).head(10)\n",
    "\n",
    "# Plot\n",
    "plt.figure(figsize=(10, 6))\n",
    "sns.barplot(x= top_studios.values, y= top_studios.index, palette=\"viridis\")\n",
    "plt.title('Top 10 Performing Studios by Worldwide Gross')\n",
    "plt.xlabel('Worldwide Gross ($)')\n",
    "plt.ylabel('Studio')\n",
    "plt.tight_layout()\n",
    "plt.show()"
   ]
  },
  {
   "cell_type": "markdown",
   "id": "4d20009c",
   "metadata": {},
   "source": [
    "> 2. Domestics vs foreign revenue split"
   ]
  },
  {
   "cell_type": "code",
   "execution_count": 23,
   "id": "5d8844a7",
   "metadata": {},
   "outputs": [
    {
     "data": {
      "image/png": "[encoded data removed]",
      "text/plain": [
       "<Figure size 576x288 with 1 Axes>"
      ]
     },
     "metadata": {
      "needs_background": "light"
     },
     "output_type": "display_data"
    }
   ],
   "source": [
    "# Sum up total domestic and foreign gross\n",
    "revenue_split = pd.DataFrame({\n",
    "    'Revenue': ['Domestic', 'Foreign'],\n",
    "    'Amount': [Gross_df['domestic_gross'].sum(), Gross_df['foreign_gross'].sum()]\n",
    "})\n",
    "# Horizontal bar chart\n",
    "plt.figure(figsize=(8, 4))\n",
    "sns.barplot(x='Amount', y='Revenue', data=revenue_split, palette=['skyblue', 'salmon'])\n",
    "plt.title('Domestic vs. Foreign Revenue')\n",
    "plt.xlabel('Revenue ($)')\n",
    "plt.ylabel('')\n",
    "plt.tight_layout()\n",
    "plt.show()\n"
   ]
  },
  {
   "cell_type": "markdown",
   "id": "e108ca99",
   "metadata": {},
   "source": [
    "> 3. Genre trends vs Gross"
   ]
  },
  {
   "cell_type": "code",
   "execution_count": 24,
   "id": "cff7d460",
   "metadata": {},
   "outputs": [
    {
     "data": {
      "image/png": "[encoded data removed]",
      "text/plain": [
       "<Figure size 720x432 with 1 Axes>"
      ]
     },
     "metadata": {
      "needs_background": "light"
     },
     "output_type": "display_data"
    }
   ],
   "source": [
    "# Load movie_basics dataframe\n",
    "movie_basics = pd.read_csv('./UnzippedCleanedData/Cleaned_movie_basics.csv')\n",
    "# Clean and merge data\n",
    "Gross_df['clean_title'] = Gross_df['title'].str.lower().str.strip()\n",
    "movie_basics['clean_title'] = movie_basics['primary_title'].str.lower().str.strip()\n",
    "merged = pd.merge(Gross_df, movie_basics[['clean_title', 'genres']], on='clean_title', how='inner')\n",
    "\n",
    "# Prepare and plot genre revenue\n",
    "merged = merged.dropna(subset=['genres', 'worldwide_gross'])\n",
    "merged['genres'] = merged['genres'].str.split(',')\n",
    "merged = merged.explode('genres')\n",
    "merged['genres'] = merged['genres'].str.strip()\n",
    "genre_gross = merged.groupby('genres')['worldwide_gross'].sum().sort_values(ascending=False).head(10)\n",
    "\n",
    "# Plot\n",
    "plt.figure(figsize=(10, 6))\n",
    "sns.barplot(x=genre_gross.values, y=genre_gross.index, palette='magma')\n",
    "plt.title('Top 10 Genres by Worldwide Gross')\n",
    "plt.xlabel('Worldwide Gross ($)')\n",
    "plt.ylabel('Genre')\n",
    "plt.tight_layout()\n",
    "plt.show()\n"
   ]
  },
  {
   "cell_type": "markdown",
   "id": "3483c2ab",
   "metadata": {},
   "source": [
    "> 4.Budget vs Gross"
   ]
  },
  {
   "cell_type": "code",
   "execution_count": 25,
   "id": "72651621",
   "metadata": {},
   "outputs": [
    {
     "data": {
      "image/png": "[encoded data removed]",
      "text/plain": [
       "<Figure size 720x432 with 1 Axes>"
      ]
     },
     "metadata": {
      "needs_background": "light"
     },
     "output_type": "display_data"
    }
   ],
   "source": [
    "# Load budget data \n",
    "budget_df = pd.read_csv(\"./UnzippedCleanedData/Cleaned_tn_movie_budgets.csv\")\n",
    "# Clean and convert currency columns\n",
    "for col in ['production_budget', 'domestic_gross', 'worldwide_gross']:\n",
    "    budget_df[col] = budget_df[col].replace('[\\$,]', '', regex=True).astype(float)\n",
    "\n",
    "# Scatter plot: Budget vs. Worldwide Gross\n",
    "plt.figure(figsize=(10, 6))\n",
    "sns.scatterplot(data=budget_df, x='production_budget', y='worldwide_gross', alpha=0.6)\n",
    "plt.title('Budget vs Worldwide Gross')\n",
    "plt.xlabel('Production Budget ($)')\n",
    "plt.ylabel('Worldwide Gross ($)')\n",
    "plt.grid(True)\n",
    "plt.tight_layout()\n",
    "plt.show()\n"
   ]
  },
  {
   "cell_type": "markdown",
   "id": "ad24572c",
   "metadata": {},
   "source": [
    "> ## *Data Analytics and visualization conclusion*"
   ]
  },
  {
   "cell_type": "markdown",
   "id": "a0ed5857",
   "metadata": {},
   "source": [
    "- Explanations for created visualizations:\n",
    "\n",
    "1. **TOP PERFORMING STUDIOS(OUR COMPETITORS)**\n",
    "- VISUALIZATION: Bar Plot of Total Worldwide Gross by Studio\n",
    "\n",
    "- EXPLANATION:This bar plot highlights the top 10 movie studios by total worldwide gross revenue. It helps identify the dominant studios in the film industry, showcasing which studios consistently produce high-grossing films. These studios represent our key competitors in terms of global reach and box office performance.\n",
    "2. **DOMESTIC VS FOREIGN REVENUE SPLIT**\n",
    "- VISUALIZATION: Horizontal side-by-side bar chart.\n",
    "\n",
    "- EXPLANATION: The chart shows how studios earn revenue across domestic markets and foreign ones. It reveals whether a studio relies more heavily on local audiences or global audiences. For instance, some studios may earn the majority of their box office from international audiences, indicating strong overseas marketing and localization strategies. Understanding this split can guide our own studio's distribution and marketing priorities.\n",
    "3. **GENRE VS GROSS**\n",
    "- VISUALIZATION: Horizontal bar plot of Worldwide Gross vs Genre \n",
    "\n",
    "- EXPLANATION:This visualization shows which genres generate the highest total worldwide gross. By splitting and aggregating multi-genre entries, we get a clear view of the most profitable film types (e.g., action, adventure, animation).This insight helps align production strategies with market demand, allowing our studio to focus on genres that resonate with large audiences and maximize revenue potential.\n",
    "4. **BUDGET VS GROSS**\n",
    "- VISUALIZATION: Scatter Plot of Production Budget vs Worldwide Gross\n",
    "\n",
    "- EXPLANATION: The scatter plot compares production budgets to worldwide gross revenue, showing the relationship between investment and returns.A positive correlation is usually visible, where higher-budget films tend to earn more, though not always proportionally.Outliers (low-budget, high-gross films) can reveal high ROI opportunities. This chart helps assess risk vs reward, guiding smarter budgeting decisions based on historical performance.\n"
   ]
  },
  {
   "cell_type": "markdown",
   "id": "4ccd7d61",
   "metadata": {},
   "source": [
    " ## 【4】*Hypothesis Testing* "
   ]
  },
  {
   "cell_type": "markdown",
   "id": "9ab072ff",
   "metadata": {},
   "source": [
    "> 1.**Domestic vs Foreign Revenue Split (Paired T-Test)**"
   ]
  },
  {
   "cell_type": "markdown",
   "id": "bb9d6082",
   "metadata": {},
   "source": [
    "Null Hypothesis(H0): The averages of both Domestic and Foreign revenue are equal.\n",
    "\n",
    "Alternative Hypothesis(H1): There is a significant difference between the averages of Domestic and foreign revenue."
   ]
  },
  {
   "cell_type": "code",
   "execution_count": 27,
   "id": "e1a9c5f1",
   "metadata": {},
   "outputs": [],
   "source": [
    "# loading  the cleaned datasets\n",
    "Gross_df = pd.read_csv('./UnzippedCleanedData/Cleaned_bom.movie_gross.csv')\n",
    "budget_df = pd.read_csv('./UnzippedCleanedData/Cleaned_tn_movie_budgets.csv')\n",
    "\n",
    "# Clean titles to help with merging\n",
    "Gross_df['clean_title'] = Gross_df['title'].str.lower().str.strip()\n",
    "budget_df['clean_title'] = budget_df['movie'].str.lower().str.strip()\n",
    "\n",
    "# Merge on clean title\n",
    "merged_df = pd.merge(budget_df, Gross_df, on='clean_title', how='inner')\n",
    "\n",
    "# Fix column names \n",
    "merged_df.rename(columns={\n",
    "    'domestic_gross_y': 'domestic_gross',\n",
    "    'foreign_gross_y': 'foreign_gross'\n",
    "}, inplace=True)\n",
    "\n",
    "# Convert gross columns to numeric\n",
    "merged_df['domestic_gross'] = pd.to_numeric(merged_df['domestic_gross'], errors='coerce')\n",
    "merged_df['foreign_gross'] = pd.to_numeric(merged_df['foreign_gross'], errors='coerce')\n",
    "\n",
    "# Drop rows where gross values are NaN or zero\n",
    "rev_df = merged_df.dropna(subset=['domestic_gross', 'foreign_gross']).copy()\n",
    "rev_df = rev_df[(rev_df['domestic_gross'] > 0) & (rev_df['foreign_gross'] > 0)]"
   ]
  },
  {
   "cell_type": "code",
   "execution_count": 28,
   "id": "b5090944",
   "metadata": {},
   "outputs": [
    {
     "name": "stdout",
     "output_type": "stream",
     "text": [
      "Paired T-statistic: -10.71, P-value: 0.0000\n",
      "The Domestic and foreign grosses are significantly different (reject H₀).\n"
     ]
    }
   ],
   "source": [
    "# Paired t-test\n",
    "t_stat, p_val = ttest_rel(rev_df['domestic_gross'], rev_df['foreign_gross'])\n",
    "print(f\"Paired T-statistic: {t_stat:.2f}, P-value: {p_val:.4f}\")\n",
    "\n",
    "if p_val < 0.05:\n",
    "    print(\"The Domestic and foreign grosses are significantly different (reject H₀).\")\n",
    "else:\n",
    "    print(\"There is no significant difference between domestic and foreign revenue (fail to reject H₀).\")\n"
   ]
  },
  {
   "cell_type": "markdown",
   "id": "3ddbe210",
   "metadata": {},
   "source": [
    "Since the p-value(rounded) < 0.05 , We are cleared to reject the null hypothesis.There is a statistically significant difference between domestic and foreign revenue. On average, one outperforms the other."
   ]
  },
  {
   "cell_type": "markdown",
   "id": "9b4db649",
   "metadata": {},
   "source": [
    "> 2.High vs Low Budget ROI Comparison (T-Test)"
   ]
  },
  {
   "cell_type": "markdown",
   "id": "346886b8",
   "metadata": {},
   "source": [
    "Null Hypothesis(H0): ROI is the same regardless if the film is high budget or low budget.\n",
    "\n",
    "Alternative Hypothesis(H1): ROI differs significantly between high budget and low budget films"
   ]
  },
  {
   "cell_type": "code",
   "execution_count": 29,
   "id": "861b1f21",
   "metadata": {},
   "outputs": [],
   "source": [
    "# Loading cleaned datasets\n",
    "Gross_df = pd.read_csv('./UnzippedCleanedData/Cleaned_bom.movie_gross.csv')\n",
    "budget_df = pd.read_csv('./UnzippedCleanedData/Cleaned_tn_movie_budgets.csv')\n",
    "\n",
    "# Clean titles to help with merging\n",
    "Gross_df['clean_title'] = Gross_df['title'].str.lower().str.strip()\n",
    "budget_df['clean_title'] = budget_df['movie'].str.lower().str.strip()\n",
    "\n",
    "# Merge datasets on clean title\n",
    "merged_df = pd.merge(budget_df, Gross_df, on='clean_title', how='inner')\n",
    "\n",
    "# Fix column names\n",
    "merged_df.rename(columns={\n",
    "    'domestic_gross_y': 'domestic_gross',\n",
    "    'foreign_gross_y': 'foreign_gross'\n",
    "}, inplace=True)\n",
    "\n",
    "# Convert relevant columns to numeric (removing $ and commas)\n",
    "merged_df['production_budget'] = merged_df['production_budget'].replace('[\\$,]', '', regex=True).astype(float)\n",
    "merged_df['worldwide_gross'] = merged_df['worldwide_gross'].replace('[\\$,]', '', regex=True).astype(float)\n",
    "\n",
    "# Drop rows with missing or zero budget/gross\n",
    "roi_df = merged_df.dropna(subset=['production_budget', 'worldwide_gross']).copy()\n",
    "roi_df = roi_df[(roi_df['production_budget'] > 0) & (roi_df['worldwide_gross'] > 0)]"
   ]
  },
  {
   "cell_type": "code",
   "execution_count": 30,
   "id": "459b0e94",
   "metadata": {},
   "outputs": [
    {
     "name": "stdout",
     "output_type": "stream",
     "text": [
      "T-statistic: -3.60, P-value: 0.0004\n",
      "There is a significant difference in ROI between high and low budget films (reject H₀).\n"
     ]
    }
   ],
   "source": [
    "# Calculate ROI = Gross / Budget\n",
    "roi_df['ROI'] = roi_df['worldwide_gross'] / roi_df['production_budget']\n",
    "\n",
    "# Median split into high and low budget\n",
    "median_budget = roi_df['production_budget'].median()\n",
    "high_budget = roi_df[roi_df['production_budget'] >= median_budget]\n",
    "low_budget = roi_df[roi_df['production_budget'] < median_budget]\n",
    "\n",
    "# Run independent t-test on ROI\n",
    "t_stat, p_val = ttest_ind(high_budget['ROI'], low_budget['ROI'], equal_var=False)\n",
    "print(f\"T-statistic: {t_stat:.2f}, P-value: {p_val:.4f}\")\n",
    "\n",
    "if p_val < 0.05:\n",
    "    print(\"There is a significant difference in ROI between high and low budget films (reject H₀).\")\n",
    "else:\n",
    "    print(\"No significant difference in ROI between high and low budget films (fail to reject H₀).\")\n"
   ]
  },
  {
   "cell_type": "markdown",
   "id": "496c8220",
   "metadata": {},
   "source": [
    "The T-statistic(-3.60),indicates that the mean ROI for low-budget films is significantly higher than that for high-budget films (the negative value suggests the direction).\n",
    "\n",
    "The p-value < 0.05 therefore we have a clear to reject the null hypothesis.\n",
    "\n",
    "Low-budget films, on average, tend to have a higher return on investment than high-budget films.This suggests that while big-budget films often bring in large gross revenues, they don't necessarily yield proportionally higher returns relative to their cost."
   ]
  },
  {
   "cell_type": "markdown",
   "id": "061832f7",
   "metadata": {},
   "source": [
    "> 3. Budget Impact on Gross(Correlation Test)"
   ]
  },
  {
   "cell_type": "markdown",
   "id": "67221c29",
   "metadata": {},
   "source": [
    "Null Hypothesis(H0): There is no correlation between Budget and Worldwide Gross.\n",
    "\n",
    "Alternative Hypothesis(H1): There is a significant correlation between Budget and worldwide Gross."
   ]
  },
  {
   "cell_type": "code",
   "execution_count": 31,
   "id": "8ad3f4db",
   "metadata": {},
   "outputs": [],
   "source": [
    "# Loading cleaned datasets\n",
    "Gross_df = pd.read_csv('./UnzippedCleanedData/Cleaned_bom.movie_gross.csv')\n",
    "budget_df = pd.read_csv('./UnzippedCleanedData/Cleaned_tn_movie_budgets.csv')\n",
    "\n",
    "# Clean titles to help with merging\n",
    "Gross_df['clean_title'] = Gross_df['title'].str.lower().str.strip()\n",
    "budget_df['clean_title'] = budget_df['movie'].str.lower().str.strip()\n",
    "\n",
    "# Merge datasets on clean title\n",
    "merged_df = pd.merge(budget_df, Gross_df, on='clean_title', how='inner')\n",
    "\n",
    "# Fix column names\n",
    "merged_df.rename(columns={\n",
    "    'domestic_gross_y': 'domestic_gross',\n",
    "    'foreign_gross_y': 'foreign_gross'\n",
    "}, inplace=True)\n",
    "\n",
    "# Convert relevant columns to numeric (removing $ and commas)\n",
    "merged_df['production_budget'] = merged_df['production_budget'].replace('[\\$,]', '', regex=True).astype(float)\n",
    "merged_df['worldwide_gross'] = merged_df['worldwide_gross'].replace('[\\$,]', '', regex=True).astype(float)\n",
    "\n",
    "# Drop rows with missing or zero budget/gross\n",
    "df_corr = merged_df.dropna(subset=['production_budget', 'worldwide_gross'])"
   ]
  },
  {
   "cell_type": "code",
   "execution_count": 32,
   "id": "ed8fc6bc",
   "metadata": {},
   "outputs": [
    {
     "data": {
      "image/png": "[encoded data removed]",
      "text/plain": [
       "<Figure size 576x432 with 1 Axes>"
      ]
     },
     "metadata": {
      "needs_background": "light"
     },
     "output_type": "display_data"
    },
    {
     "name": "stdout",
     "output_type": "stream",
     "text": [
      "Pearson Correlation: 0.77, P-value: 0.0000\n",
      "There is significant correlation between budget and gross (reject H₀).\n"
     ]
    }
   ],
   "source": [
    "# Scatter plot\n",
    "plt.figure(figsize=(8, 6))\n",
    "sns.scatterplot(data=df_corr, x='production_budget', y='worldwide_gross')\n",
    "plt.title('Budget vs Worldwide Gross')\n",
    "plt.xlabel('Production Budget ($)')\n",
    "plt.ylabel('Worldwide Gross ($)')\n",
    "plt.tight_layout()\n",
    "plt.show()\n",
    "\n",
    "# Pearson correlation test\n",
    "corr, p_value = pearsonr(df_corr['production_budget'], df_corr['worldwide_gross'])\n",
    "print(f\"Pearson Correlation: {corr:.2f}, P-value: {p_value:.4f}\")\n",
    "\n",
    "if p_value < 0.05:\n",
    "    print(\"There is significant correlation between budget and gross (reject H₀).\")\n",
    "else:\n",
    "    print(\"There is no significant correlation found between budget and gross (fail to reject H₀).\")"
   ]
  },
  {
   "cell_type": "markdown",
   "id": "1ed844b9",
   "metadata": {},
   "source": [
    "The pearson correlation coefficient = 0.77, which indicates that there is a strong positive correlation between budget and Gross, suggesting that as production budget increases, the worldwide gross also tends to increase significantly.\n",
    "The p-value < 0.05,Since the p-value is far below 0.05, you can reject the null hypothesis. The result is statistically significant and unlikely due to random chance."
   ]
  },
  {
   "cell_type": "markdown",
   "id": "ffb10994",
   "metadata": {},
   "source": [
    "## CONCLUSION"
   ]
  },
  {
   "cell_type": "markdown",
   "id": "68359527",
   "metadata": {},
   "source": [
    "Through a series of statistical tests and visualizations, we derived meaningful business insights from historical movie data:"
   ]
  },
  {
   "cell_type": "markdown",
   "id": "9d5df4f6",
   "metadata": {},
   "source": [
    "> **BUSINESS RECOMMENDATIONS**"
   ]
  },
  {
   "cell_type": "markdown",
   "id": "273f3f6c",
   "metadata": {},
   "source": [
    "> 1. Domestic VS Foreign Market Gross"
   ]
  },
  {
   "cell_type": "markdown",
   "id": "0bc6b7dc",
   "metadata": {},
   "source": [
    "The Paired t-test revealed a significant difference between domestic and foreign grosses (t = -10.71, p < 0.0001).Indicating that Foreign markets often contribute more to a film’s revenue than domestic markets, underlining the importance of global distribution strategies."
   ]
  },
  {
   "cell_type": "markdown",
   "id": "3576ab67",
   "metadata": {},
   "source": [
    "> 2. Budget VS Return On Investment(ROI)"
   ]
  },
  {
   "cell_type": "markdown",
   "id": "cb2c3226",
   "metadata": {},
   "source": [
    "The T-test between high-budget and low-budget films showed that low-budget films have significantly higher ROI (t = -3.60, p = 0.0004).While big budgets can generate high gross, lower-budget films tend to be more efficient in converting investment into profit. This supports the value of lean(What the customer is willing to pay for), targeted productions."
   ]
  },
  {
   "cell_type": "markdown",
   "id": "4b6dc911",
   "metadata": {},
   "source": [
    " >   3. Budget VS Worldwide Gross"
   ]
  },
  {
   "cell_type": "markdown",
   "id": "5113e38f",
   "metadata": {},
   "source": [
    "We got a strong positive Pearson correlation between budget and worldwide gross: r = 0.77, p < 0.0001.Bigger budgets are associated with higher gross, indicating the effectiveness of investment in production and marketing."
   ]
  },
  {
   "cell_type": "markdown",
   "id": "a6039d92",
   "metadata": {},
   "source": [
    "> 4. Benchmark against Top Studios"
   ]
  },
  {
   "cell_type": "markdown",
   "id": "e7bc0e58",
   "metadata": {},
   "source": [
    "We identified the top-performing studios based on box office revenue. Analyzing their business models, marketing strategies, and production choices can offer valuable insights into industry best practices. By understanding how these successful studios operate, we can refine our own strategies and position ourselves more competitively in the market."
   ]
  },
  {
   "cell_type": "markdown",
   "id": "df046c0e",
   "metadata": {},
   "source": []
  }
 ],
 "metadata": {
  "kernelspec": {
   "display_name": "learn-env",
   "language": "python",
   "name": "python3"
  },
  "language_info": {
   "codemirror_mode": {
    "name": "ipython",
    "version": 3
   },
   "file_extension": ".py",
   "mimetype": "text/x-python",
   "name": "python",
   "nbconvert_exporter": "python",
   "pygments_lexer": "ipython3",
   "version": "3.8.5"
  }
 },
 "nbformat": 4,
 "nbformat_minor": 5
}
