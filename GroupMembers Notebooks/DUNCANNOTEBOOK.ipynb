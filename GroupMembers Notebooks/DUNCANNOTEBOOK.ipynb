{
 "cells": [
  {
   "cell_type": "markdown",
   "metadata": {},
   "source": [
    "## Problem Statement"
   ]
  },
  {
   "cell_type": "markdown",
   "metadata": {},
   "source": [
    "Your company now sees all the big companies creating original video content and they want to get in on the fun. They have decided to create a new movie studio, but they don’t know anything about creating movies. You are charged with exploring what types of films are currently doing the best at the box office. You must then translate those findings into actionable insights that the head of your company's new movie studio can use to help decide what type of films to create."
   ]
  },
  {
   "cell_type": "markdown",
   "metadata": {},
   "source": [
    "### Objectives\n",
    "1. Analyze genre performance based on ratings and votes. Determine which genres consistently perform well and are most appealing to audiences, guiding the studio's content strategy.\n",
    "\n",
    "2. Examine the influence of directors on movie ratings. Identify successful directors whose styles or approaches may inspire the studio's productions.\n",
    "\n",
    "3.Evaluate trends in movie success across time. Leverage the release year alongside rating data to uncover patterns- such as whether older movies or recent releases perform better."
   ]
  },
  {
   "cell_type": "code",
   "execution_count": 1,
   "metadata": {},
   "outputs": [],
   "source": [
    "# Import all necessary libraries\n",
    "import numpy as np\n",
    "import matplotlib.pyplot as plt\n",
    "import pandas as pd\n",
    "import seaborn as sns\n",
    "import sqlite3\n",
    "import zipfile\n",
    "import os"
   ]
  },
  {
   "cell_type": "code",
   "execution_count": 2,
   "metadata": {},
   "outputs": [],
   "source": [
    "\n",
    "# Define the path to the zip file\n",
    "zip_file_path = \"zippedData/im.db.zip\"\n",
    "extract_to_path = \"im.db\" \n",
    "\n",
    "# Extract the zip file\n",
    "with zipfile.ZipFile(zip_file_path, 'r') as zip_ref:\n",
    "    zip_ref.extractall(extract_to_path)\n"
   ]
  },
  {
   "cell_type": "code",
   "execution_count": 3,
   "metadata": {},
   "outputs": [],
   "source": [
    "# Path to your extracted SQLite database\n",
    "db_path = \"im.db/im.db\" \n",
    "\n",
    "# Connect to the database\n",
    "conn = sqlite3.connect(db_path)"
   ]
  },
  {
   "cell_type": "markdown",
   "metadata": {},
   "source": [
    "### Data Exploration"
   ]
  },
  {
   "cell_type": "markdown",
   "metadata": {},
   "source": [
    "Let us explore various features in our dataset to help us understand the data we're dealing with better."
   ]
  },
  {
   "cell_type": "code",
   "execution_count": 4,
   "metadata": {},
   "outputs": [
    {
     "name": "stdout",
     "output_type": "stream",
     "text": [
      "Available tables: [('movie_basics',), ('directors',), ('known_for',), ('movie_akas',), ('movie_ratings',), ('persons',), ('principals',), ('writers',)]\n"
     ]
    }
   ],
   "source": [
    "# Fetch and list all table names in the database\n",
    "cursor = conn.cursor()\n",
    "cursor.execute(\"SELECT name FROM sqlite_master WHERE type='table';\")\n",
    "tables = cursor.fetchall()\n",
    "print(\"Available tables:\", tables)"
   ]
  },
  {
   "cell_type": "code",
   "execution_count": 5,
   "metadata": {},
   "outputs": [
    {
     "name": "stdout",
     "output_type": "stream",
     "text": [
      "   cid             name     type  notnull dflt_value  pk\n",
      "0    0         movie_id     TEXT        0       None   0\n",
      "1    1    primary_title     TEXT        0       None   0\n",
      "2    2   original_title     TEXT        0       None   0\n",
      "3    3       start_year  INTEGER        0       None   0\n",
      "4    4  runtime_minutes     REAL        0       None   0\n",
      "5    5           genres     TEXT        0       None   0\n"
     ]
    }
   ],
   "source": [
    "# Inspect the structure of a specific table\n",
    "cursor.execute(\"PRAGMA table_info(movie_basics);\")\n",
    "columns = cursor.fetchall()\n",
    "\n",
    "# Convert the results into a Pandas DataFrame for better readability\n",
    "columns_df = pd.DataFrame(columns, columns=[\"cid\", \"name\", \"type\", \"notnull\", \"dflt_value\", \"pk\"])\n",
    "\n",
    "print(columns_df)"
   ]
  },
  {
   "cell_type": "markdown",
   "metadata": {},
   "source": [
    "### Data Cleaning"
   ]
  },
  {
   "cell_type": "markdown",
   "metadata": {},
   "source": [
    "We're now going to clean our data so that we can; handle missing values and duplicates, filter outliers as well as validate relationships."
   ]
  },
  {
   "cell_type": "code",
   "execution_count": 6,
   "metadata": {},
   "outputs": [
    {
     "name": "stdout",
     "output_type": "stream",
     "text": [
      "Missing values in movie_basics:\n",
      "movie_id               0\n",
      "primary_title          0\n",
      "original_title        21\n",
      "start_year             0\n",
      "runtime_minutes    31739\n",
      "genres              5408\n",
      "dtype: int64\n",
      "\n",
      "Missing values in movie_ratings:\n",
      "movie_id         0\n",
      "averagerating    0\n",
      "numvotes         0\n",
      "dtype: int64\n",
      "\n",
      "Missing values in directors:\n",
      "movie_id     0\n",
      "person_id    0\n",
      "dtype: int64\n"
     ]
    }
   ],
   "source": [
    "# Load the data \n",
    "query = \"SELECT * FROM movie_basics\"\n",
    "movie_basics_df = pd.read_sql_query(query, conn)\n",
    "\n",
    "query = \"SELECT * FROM movie_ratings\"\n",
    "movie_ratings_df = pd.read_sql_query(query, conn)\n",
    "\n",
    "query = \"SELECT * FROM directors\"\n",
    "directors_df = pd.read_sql_query(query, conn)\n",
    "\n",
    "# Check for missing values\n",
    "print(\"Missing values in movie_basics:\")\n",
    "print(movie_basics_df.isnull().sum())\n",
    "\n",
    "print(\"\\nMissing values in movie_ratings:\")\n",
    "print(movie_ratings_df.isnull().sum())\n",
    "\n",
    "print(\"\\nMissing values in directors:\")\n",
    "print(directors_df.isnull().sum())"
   ]
  },
  {
   "cell_type": "markdown",
   "metadata": {},
   "source": [
    "It's only the `movie_basics` table that contains missing values. We'll be ignoring the missing `original_title` as it isn't a crucial feature in our analysis. `runtime_minutes` has a lot of missing values. Here, we'll replace the missing values with the median because it is less affected by outliers. `genres` is a critical column in our analysis and therefore we'll have drop its missing values to avoid compromising the accuracy and validity of the insights we derive from our data."
   ]
  },
  {
   "cell_type": "code",
   "execution_count": 7,
   "metadata": {},
   "outputs": [
    {
     "name": "stdout",
     "output_type": "stream",
     "text": [
      "Missing values after cleaning:\n",
      "movie_id           0\n",
      "primary_title      0\n",
      "original_title     2\n",
      "start_year         0\n",
      "runtime_minutes    0\n",
      "genres             0\n",
      "dtype: int64\n"
     ]
    }
   ],
   "source": [
    "# Replace missing runtime_minutes with the median\n",
    "runtime_median = movie_basics_df['runtime_minutes'].median()\n",
    "movie_basics_df['runtime_minutes'].fillna(runtime_median, inplace=True)\n",
    "\n",
    "# Drop rows with missing genres\n",
    "movie_basics_df = movie_basics_df[movie_basics_df['genres'].notnull()]\n",
    "\n",
    "print(\"Missing values after cleaning:\")\n",
    "print(movie_basics_df.isnull().sum())"
   ]
  },
  {
   "cell_type": "code",
   "execution_count": 8,
   "metadata": {},
   "outputs": [],
   "source": [
    "# Remove duplicates if any\n",
    "movie_basics_df = movie_basics_df.drop_duplicates()\n",
    "movie_ratings_df = movie_ratings_df.drop_duplicates()\n",
    "directors_df = directors_df.drop_duplicates()"
   ]
  },
  {
   "cell_type": "code",
   "execution_count": 9,
   "metadata": {},
   "outputs": [],
   "source": [
    "# Remove movies with very few votes to filter outliers\n",
    "movie_ratings_df = movie_ratings_df[movie_ratings_df['numvotes'] >= 10]"
   ]
  },
  {
   "cell_type": "markdown",
   "metadata": {},
   "source": [
    "## Data Analysis"
   ]
  },
  {
   "cell_type": "markdown",
   "metadata": {},
   "source": [
    "\n",
    "The purpose of this analysis is to generate actionable insights for the company's new movie studio by exploring key factors that contribute to box office success. This will involve:\n",
    "1. Analyzing genre performance based on ratings and votes to identify audience preferences.\n",
    "2. Examining the influence of directors on movie ratings to highlight creative styles worth emulating.\n",
    "3. Evaluating trends in movie success across time to uncover patterns that can guide release strategies.\n",
    "\n",
    "By aligning the findings with these objectives, the studio can make informed decisions to maximize audience appeal and critical acclaim."
   ]
  },
  {
   "cell_type": "markdown",
   "metadata": {},
   "source": [
    "## Objective 1"
   ]
  },
  {
   "cell_type": "markdown",
   "metadata": {},
   "source": [
    "###  Analyze genre performance based on ratings and votes. Determine which genres consistently perform well and are most appealing to audiences, guiding the studio's content strategy."
   ]
  },
  {
   "cell_type": "markdown",
   "metadata": {},
   "source": [
    "Let us group the movies by their specific genres. We'll be aggregating metrics such as `avg_rating` and `total_votes` for each genre using an SQL query."
   ]
  },
  {
   "cell_type": "code",
   "execution_count": 10,
   "metadata": {},
   "outputs": [],
   "source": [
    "# Group movies by genre and analyze aggregated metrics\n",
    "query = \"\"\"\n",
    "SELECT mb.genres, \n",
    "       AVG(mr.averagerating) AS avg_rating, \n",
    "       SUM(mr.numvotes) AS total_votes\n",
    "FROM movie_basics mb\n",
    "JOIN movie_ratings mr\n",
    "ON mb.movie_id = mr.movie_id\n",
    "GROUP BY mb.genres\n",
    "\"\"\"\n",
    "genres_aggregated_df = pd.read_sql_query(query, conn)"
   ]
  },
  {
   "cell_type": "markdown",
   "metadata": {},
   "source": [
    "The `genres` column contains a lot of null values. We therefore need to clean this column to drop rows with None and NaN values.\n",
    "To ensure meaningful insights, we also filtered out genres with low representation (<1000 total votes) to help us focus on genres with significant audience engagement."
   ]
  },
  {
   "cell_type": "code",
   "execution_count": 11,
   "metadata": {},
   "outputs": [
    {
     "data": {
      "text/html": [
       "<div>\n",
       "<style scoped>\n",
       "    .dataframe tbody tr th:only-of-type {\n",
       "        vertical-align: middle;\n",
       "    }\n",
       "\n",
       "    .dataframe tbody tr th {\n",
       "        vertical-align: top;\n",
       "    }\n",
       "\n",
       "    .dataframe thead th {\n",
       "        text-align: right;\n",
       "    }\n",
       "</style>\n",
       "<table border=\"1\" class=\"dataframe\">\n",
       "  <thead>\n",
       "    <tr style=\"text-align: right;\">\n",
       "      <th></th>\n",
       "      <th>genres</th>\n",
       "      <th>avg_rating</th>\n",
       "      <th>total_votes</th>\n",
       "    </tr>\n",
       "  </thead>\n",
       "  <tbody>\n",
       "    <tr>\n",
       "      <th>1</th>\n",
       "      <td>Action</td>\n",
       "      <td>5.757712</td>\n",
       "      <td>329057</td>\n",
       "    </tr>\n",
       "    <tr>\n",
       "      <th>3</th>\n",
       "      <td>Action,Adventure</td>\n",
       "      <td>5.223529</td>\n",
       "      <td>109011</td>\n",
       "    </tr>\n",
       "    <tr>\n",
       "      <th>4</th>\n",
       "      <td>Action,Adventure,Animation</td>\n",
       "      <td>6.562874</td>\n",
       "      <td>3570543</td>\n",
       "    </tr>\n",
       "    <tr>\n",
       "      <th>5</th>\n",
       "      <td>Action,Adventure,Biography</td>\n",
       "      <td>7.061905</td>\n",
       "      <td>999701</td>\n",
       "    </tr>\n",
       "    <tr>\n",
       "      <th>6</th>\n",
       "      <td>Action,Adventure,Comedy</td>\n",
       "      <td>5.554032</td>\n",
       "      <td>7256686</td>\n",
       "    </tr>\n",
       "    <tr>\n",
       "      <th>7</th>\n",
       "      <td>Action,Adventure,Crime</td>\n",
       "      <td>5.755769</td>\n",
       "      <td>1344328</td>\n",
       "    </tr>\n",
       "    <tr>\n",
       "      <th>8</th>\n",
       "      <td>Action,Adventure,Documentary</td>\n",
       "      <td>7.469841</td>\n",
       "      <td>16936</td>\n",
       "    </tr>\n",
       "    <tr>\n",
       "      <th>9</th>\n",
       "      <td>Action,Adventure,Drama</td>\n",
       "      <td>5.691579</td>\n",
       "      <td>4485443</td>\n",
       "    </tr>\n",
       "    <tr>\n",
       "      <th>10</th>\n",
       "      <td>Action,Adventure,Family</td>\n",
       "      <td>5.380000</td>\n",
       "      <td>787657</td>\n",
       "    </tr>\n",
       "    <tr>\n",
       "      <th>11</th>\n",
       "      <td>Action,Adventure,Fantasy</td>\n",
       "      <td>5.371845</td>\n",
       "      <td>9658883</td>\n",
       "    </tr>\n",
       "  </tbody>\n",
       "</table>\n",
       "</div>"
      ],
      "text/plain": [
       "                          genres  avg_rating  total_votes\n",
       "1                         Action    5.757712       329057\n",
       "3               Action,Adventure    5.223529       109011\n",
       "4     Action,Adventure,Animation    6.562874      3570543\n",
       "5     Action,Adventure,Biography    7.061905       999701\n",
       "6        Action,Adventure,Comedy    5.554032      7256686\n",
       "7         Action,Adventure,Crime    5.755769      1344328\n",
       "8   Action,Adventure,Documentary    7.469841        16936\n",
       "9         Action,Adventure,Drama    5.691579      4485443\n",
       "10       Action,Adventure,Family    5.380000       787657\n",
       "11      Action,Adventure,Fantasy    5.371845      9658883"
      ]
     },
     "execution_count": 11,
     "metadata": {},
     "output_type": "execute_result"
    }
   ],
   "source": [
    "# Clean the 'genres' column\n",
    "genres_aggregated_df['genres'] = genres_aggregated_df['genres'].fillna('Invalid') \n",
    "genres_aggregated_df = genres_aggregated_df[~genres_aggregated_df['genres'].isin(['Invalid', 'None'])]\n",
    "\n",
    "# Filter genres with total_votes <1000\n",
    "filtered_genres_df = genres_aggregated_df[genres_aggregated_df['total_votes'] > 1000]\n",
    "filtered_genres_df.head(10)"
   ]
  },
  {
   "cell_type": "markdown",
   "metadata": {},
   "source": [
    "### Ranking Genres Based on Ratings and Votes\n",
    "\n",
    "This analysis ranks movie genres using a balanced **composite score** (50% average ratings, 50% total votes). Steps followed include:\n",
    "1. Normalizing `avg_rating` and `total_votes` for comparability.\n",
    "2. Calculating a composite score to weigh audience engagement and quality.\n",
    "3. Filtering genres with over 1000 total votes for better representation.\n",
    "4. Sorting by composite score to identify top-ranked genres."
   ]
  },
  {
   "cell_type": "code",
   "execution_count": 12,
   "metadata": {},
   "outputs": [
    {
     "data": {
      "text/html": [
       "<div>\n",
       "<style scoped>\n",
       "    .dataframe tbody tr th:only-of-type {\n",
       "        vertical-align: middle;\n",
       "    }\n",
       "\n",
       "    .dataframe tbody tr th {\n",
       "        vertical-align: top;\n",
       "    }\n",
       "\n",
       "    .dataframe thead th {\n",
       "        text-align: right;\n",
       "    }\n",
       "</style>\n",
       "<table border=\"1\" class=\"dataframe\">\n",
       "  <thead>\n",
       "    <tr style=\"text-align: right;\">\n",
       "      <th></th>\n",
       "      <th>genres</th>\n",
       "      <th>avg_rating</th>\n",
       "      <th>total_votes</th>\n",
       "      <th>normalized_rating</th>\n",
       "      <th>normalized_votes</th>\n",
       "      <th>composite_score</th>\n",
       "    </tr>\n",
       "  </thead>\n",
       "  <tbody>\n",
       "    <tr>\n",
       "      <th>0</th>\n",
       "      <td>Action,Adventure,Sci-Fi</td>\n",
       "      <td>5.655906</td>\n",
       "      <td>23023248</td>\n",
       "      <td>0.531988</td>\n",
       "      <td>1.000000</td>\n",
       "      <td>0.765994</td>\n",
       "    </tr>\n",
       "    <tr>\n",
       "      <th>1</th>\n",
       "      <td>Drama</td>\n",
       "      <td>6.494265</td>\n",
       "      <td>8395521</td>\n",
       "      <td>0.636783</td>\n",
       "      <td>0.364654</td>\n",
       "      <td>0.500718</td>\n",
       "    </tr>\n",
       "    <tr>\n",
       "      <th>2</th>\n",
       "      <td>Comedy,Drama,Romance</td>\n",
       "      <td>6.292467</td>\n",
       "      <td>7665463</td>\n",
       "      <td>0.611558</td>\n",
       "      <td>0.332944</td>\n",
       "      <td>0.472251</td>\n",
       "    </tr>\n",
       "    <tr>\n",
       "      <th>3</th>\n",
       "      <td>Adventure,Animation,Comedy</td>\n",
       "      <td>5.936555</td>\n",
       "      <td>8687435</td>\n",
       "      <td>0.567069</td>\n",
       "      <td>0.377333</td>\n",
       "      <td>0.472201</td>\n",
       "    </tr>\n",
       "    <tr>\n",
       "      <th>4</th>\n",
       "      <td>Action,Adventure,Fantasy</td>\n",
       "      <td>5.371845</td>\n",
       "      <td>9658883</td>\n",
       "      <td>0.496481</td>\n",
       "      <td>0.419527</td>\n",
       "      <td>0.458004</td>\n",
       "    </tr>\n",
       "    <tr>\n",
       "      <th>5</th>\n",
       "      <td>Comedy,Drama</td>\n",
       "      <td>6.364119</td>\n",
       "      <td>6462839</td>\n",
       "      <td>0.620515</td>\n",
       "      <td>0.280709</td>\n",
       "      <td>0.450612</td>\n",
       "    </tr>\n",
       "    <tr>\n",
       "      <th>6</th>\n",
       "      <td>Drama,Romance</td>\n",
       "      <td>6.294305</td>\n",
       "      <td>5542760</td>\n",
       "      <td>0.611788</td>\n",
       "      <td>0.240746</td>\n",
       "      <td>0.426267</td>\n",
       "    </tr>\n",
       "    <tr>\n",
       "      <th>7</th>\n",
       "      <td>Animation,Documentary,Mystery</td>\n",
       "      <td>8.200000</td>\n",
       "      <td>1014</td>\n",
       "      <td>0.850000</td>\n",
       "      <td>0.000044</td>\n",
       "      <td>0.425022</td>\n",
       "    </tr>\n",
       "    <tr>\n",
       "      <th>8</th>\n",
       "      <td>Comedy</td>\n",
       "      <td>5.777998</td>\n",
       "      <td>6832037</td>\n",
       "      <td>0.547250</td>\n",
       "      <td>0.296745</td>\n",
       "      <td>0.421997</td>\n",
       "    </tr>\n",
       "    <tr>\n",
       "      <th>9</th>\n",
       "      <td>Action,Adventure,Comedy</td>\n",
       "      <td>5.554032</td>\n",
       "      <td>7256686</td>\n",
       "      <td>0.519254</td>\n",
       "      <td>0.315189</td>\n",
       "      <td>0.417222</td>\n",
       "    </tr>\n",
       "  </tbody>\n",
       "</table>\n",
       "</div>"
      ],
      "text/plain": [
       "                          genres  avg_rating  total_votes  normalized_rating  \\\n",
       "0        Action,Adventure,Sci-Fi    5.655906     23023248           0.531988   \n",
       "1                          Drama    6.494265      8395521           0.636783   \n",
       "2           Comedy,Drama,Romance    6.292467      7665463           0.611558   \n",
       "3     Adventure,Animation,Comedy    5.936555      8687435           0.567069   \n",
       "4       Action,Adventure,Fantasy    5.371845      9658883           0.496481   \n",
       "5                   Comedy,Drama    6.364119      6462839           0.620515   \n",
       "6                  Drama,Romance    6.294305      5542760           0.611788   \n",
       "7  Animation,Documentary,Mystery    8.200000         1014           0.850000   \n",
       "8                         Comedy    5.777998      6832037           0.547250   \n",
       "9        Action,Adventure,Comedy    5.554032      7256686           0.519254   \n",
       "\n",
       "   normalized_votes  composite_score  \n",
       "0          1.000000         0.765994  \n",
       "1          0.364654         0.500718  \n",
       "2          0.332944         0.472251  \n",
       "3          0.377333         0.472201  \n",
       "4          0.419527         0.458004  \n",
       "5          0.280709         0.450612  \n",
       "6          0.240746         0.426267  \n",
       "7          0.000044         0.425022  \n",
       "8          0.296745         0.421997  \n",
       "9          0.315189         0.417222  "
      ]
     },
     "execution_count": 12,
     "metadata": {},
     "output_type": "execute_result"
    }
   ],
   "source": [
    "# Normalize the metrics\n",
    "genres_aggregated_df['normalized_rating'] = (\n",
    "    (genres_aggregated_df['avg_rating'] - genres_aggregated_df['avg_rating'].min()) /\n",
    "    (genres_aggregated_df['avg_rating'].max() - genres_aggregated_df['avg_rating'].min())\n",
    ")\n",
    "\n",
    "genres_aggregated_df['normalized_votes'] = (\n",
    "    (genres_aggregated_df['total_votes'] - genres_aggregated_df['total_votes'].min()) /\n",
    "    (genres_aggregated_df['total_votes'].max() - genres_aggregated_df['total_votes'].min())\n",
    ")\n",
    "\n",
    "# Calculate the composite score (equal weights for ratings and votes)\n",
    "genres_aggregated_df['composite_score'] = (\n",
    "    0.5 * genres_aggregated_df['normalized_rating'] +\n",
    "    0.5 * genres_aggregated_df['normalized_votes']\n",
    ")\n",
    "\n",
    "# Filter genres with few votes\n",
    "filtered_genres_df = genres_aggregated_df[genres_aggregated_df['total_votes'] > 1000]\n",
    "\n",
    "# Sort genres by the composite score in descending order\n",
    "ranked_genres_df = filtered_genres_df.sort_values(by='composite_score', ascending=False)\n",
    "ranked_genres_df.reset_index(drop=True, inplace=True)\n",
    "\n",
    "ranked_genres_df.head(10)"
   ]
  },
  {
   "cell_type": "markdown",
   "metadata": {},
   "source": [
    "We'll use a horizontal bar chart to display the top-ranked genres based on their composite scores."
   ]
  },
  {
   "cell_type": "code",
   "execution_count": 13,
   "metadata": {},
   "outputs": [
    {
     "data": {
      "image/png": "[encoded data removed]",
      "text/plain": [
       "<Figure size 720x432 with 1 Axes>"
      ]
     },
     "metadata": {
      "needs_background": "light"
     },
     "output_type": "display_data"
    }
   ],
   "source": [
    "# Select the top 10 genres for visualization\n",
    "top_genres = ranked_genres_df.head(10)\n",
    "\n",
    "# Create a horizontal bar chart\n",
    "plt.figure(figsize=(10, 6))\n",
    "sns.barplot(\n",
    "    x='composite_score', \n",
    "    y='genres', \n",
    "    data=top_genres, \n",
    "    palette='viridis'\n",
    ")\n",
    "\n",
    "# Add labels and title\n",
    "plt.xlabel('Composite Score', fontsize=12)\n",
    "plt.ylabel('Genres', fontsize=12)\n",
    "plt.title('Top 10 Genres Ranked by Composite Score', fontsize=14)\n",
    "plt.tight_layout()\n",
    "\n",
    "plt.show()"
   ]
  },
  {
   "cell_type": "markdown",
   "metadata": {},
   "source": [
    "\n",
    "### Conclusion\n",
    "\n",
    "- **Dominance of Core Genre Pairings:**  \n",
    "  Our analysis shows that combinations featuring *Action* and *Adventure* (e.g., \"Action, Adventure, Sci-Fi\", \"Action, Adventure, Fantasy\", \"Action, Adventure, Comedy\") consistently rank highly. This indicates that these genres form a robust backbone, resonating strongly with audiences regardless of the additional elements paired with them.\n",
    "\n",
    "- **Versatile Support from Complementary Genres:**  \n",
    "  Frequently appearing alongside others, genres such as *Drama* and *Comedy* (seen in rows like \"Comedy, Drama, Romance\", \"Comedy, Drama\", and \"Drama, Romance\") seem to enhance emotional depth and broaden appeal. Their recurrent presence suggests that while they may not always lead by themselves, they play a crucial role in enriching the overall film experience.\n",
    "\n",
    "Overall, these insights indicate that hybrid genre strategies may be key to achieving both critical acclaim and widespread popularity."
   ]
  },
  {
   "cell_type": "markdown",
   "metadata": {},
   "source": [
    "### Objective 2:"
   ]
  },
  {
   "cell_type": "markdown",
   "metadata": {},
   "source": [
    " **Examine the influence of directors on movie ratings. Identify successful directors whose styles or approaches may inspire the studio's productions.**"
   ]
  },
  {
   "cell_type": "code",
   "execution_count": 14,
   "metadata": {},
   "outputs": [
    {
     "data": {
      "text/html": [
       "<div>\n",
       "<style scoped>\n",
       "    .dataframe tbody tr th:only-of-type {\n",
       "        vertical-align: middle;\n",
       "    }\n",
       "\n",
       "    .dataframe tbody tr th {\n",
       "        vertical-align: top;\n",
       "    }\n",
       "\n",
       "    .dataframe thead th {\n",
       "        text-align: right;\n",
       "    }\n",
       "</style>\n",
       "<table border=\"1\" class=\"dataframe\">\n",
       "  <thead>\n",
       "    <tr style=\"text-align: right;\">\n",
       "      <th></th>\n",
       "      <th>director_id</th>\n",
       "      <th>director_name</th>\n",
       "      <th>avg_rating</th>\n",
       "      <th>total_votes</th>\n",
       "    </tr>\n",
       "  </thead>\n",
       "  <tbody>\n",
       "    <tr>\n",
       "      <th>0</th>\n",
       "      <td>nm6748553</td>\n",
       "      <td>Karzan Kardozi</td>\n",
       "      <td>9.6</td>\n",
       "      <td>1339</td>\n",
       "    </tr>\n",
       "    <tr>\n",
       "      <th>1</th>\n",
       "      <td>nm8961212</td>\n",
       "      <td>Lauren Ross</td>\n",
       "      <td>9.5</td>\n",
       "      <td>2487</td>\n",
       "    </tr>\n",
       "    <tr>\n",
       "      <th>2</th>\n",
       "      <td>nm6213280</td>\n",
       "      <td>Daniel Gabriel</td>\n",
       "      <td>9.5</td>\n",
       "      <td>1234</td>\n",
       "    </tr>\n",
       "    <tr>\n",
       "      <th>3</th>\n",
       "      <td>nm8145653</td>\n",
       "      <td>John Griesser</td>\n",
       "      <td>9.5</td>\n",
       "      <td>2487</td>\n",
       "    </tr>\n",
       "    <tr>\n",
       "      <th>4</th>\n",
       "      <td>nm8359417</td>\n",
       "      <td>Chathra Weeraman</td>\n",
       "      <td>9.5</td>\n",
       "      <td>6509</td>\n",
       "    </tr>\n",
       "    <tr>\n",
       "      <th>5</th>\n",
       "      <td>nm8529623</td>\n",
       "      <td>Bharatha Hettiarachchi</td>\n",
       "      <td>9.5</td>\n",
       "      <td>6509</td>\n",
       "    </tr>\n",
       "    <tr>\n",
       "      <th>6</th>\n",
       "      <td>nm8961211</td>\n",
       "      <td>Jean Griesser</td>\n",
       "      <td>9.5</td>\n",
       "      <td>2487</td>\n",
       "    </tr>\n",
       "    <tr>\n",
       "      <th>7</th>\n",
       "      <td>nm9988436</td>\n",
       "      <td>Amudhavan Karuppiah</td>\n",
       "      <td>9.4</td>\n",
       "      <td>19258</td>\n",
       "    </tr>\n",
       "    <tr>\n",
       "      <th>8</th>\n",
       "      <td>nm6041686</td>\n",
       "      <td>Anjana Krishnakumar</td>\n",
       "      <td>9.4</td>\n",
       "      <td>19258</td>\n",
       "    </tr>\n",
       "    <tr>\n",
       "      <th>9</th>\n",
       "      <td>nm10716125</td>\n",
       "      <td>A.K.S. Nambiar</td>\n",
       "      <td>9.3</td>\n",
       "      <td>1174</td>\n",
       "    </tr>\n",
       "  </tbody>\n",
       "</table>\n",
       "</div>"
      ],
      "text/plain": [
       "  director_id           director_name  avg_rating  total_votes\n",
       "0   nm6748553          Karzan Kardozi         9.6         1339\n",
       "1   nm8961212             Lauren Ross         9.5         2487\n",
       "2   nm6213280          Daniel Gabriel         9.5         1234\n",
       "3   nm8145653           John Griesser         9.5         2487\n",
       "4   nm8359417        Chathra Weeraman         9.5         6509\n",
       "5   nm8529623  Bharatha Hettiarachchi         9.5         6509\n",
       "6   nm8961211           Jean Griesser         9.5         2487\n",
       "7   nm9988436     Amudhavan Karuppiah         9.4        19258\n",
       "8   nm6041686     Anjana Krishnakumar         9.4        19258\n",
       "9  nm10716125          A.K.S. Nambiar         9.3         1174"
      ]
     },
     "execution_count": 14,
     "metadata": {},
     "output_type": "execute_result"
    }
   ],
   "source": [
    "# Link directors with their names, ratings, and votes\n",
    "query = \"\"\"\n",
    "SELECT d.person_id AS director_id, \n",
    "       p.primary_name AS director_name, \n",
    "       AVG(mr.averagerating) AS avg_rating, \n",
    "       SUM(mr.numvotes) AS total_votes\n",
    "FROM directors d\n",
    "JOIN movie_basics mb ON d.movie_id = mb.movie_id\n",
    "JOIN movie_ratings mr ON mb.movie_id = mr.movie_id\n",
    "JOIN persons p ON d.person_id = p.person_id\n",
    "GROUP BY d.person_id, p.primary_name\n",
    "\"\"\"\n",
    "directors_aggregated_df = pd.read_sql_query(query, conn)\n",
    "\n",
    "directors_aggregated_df = directors_aggregated_df[directors_aggregated_df['total_votes'] > 1000]\n",
    "\n",
    "# Sort directors by avg_rating in descending order\n",
    "directors_aggregated_df = directors_aggregated_df.sort_values(by='avg_rating', ascending=False)\n",
    "\n",
    "# Reset the index to remove the unnamed column\n",
    "directors_aggregated_df.reset_index(drop=True, inplace=True)\n",
    "\n",
    "directors_aggregated_df.head(10)"
   ]
  },
  {
   "cell_type": "markdown",
   "metadata": {},
   "source": [
    "Let's introduce a composite score to balance both average ratings and total votes. This ensures that directors with high ratings but low votes and those with high votes but slightly lower ratings are fairly evaluated."
   ]
  },
  {
   "cell_type": "code",
   "execution_count": 15,
   "metadata": {
    "scrolled": true
   },
   "outputs": [
    {
     "data": {
      "text/html": [
       "<div>\n",
       "<style scoped>\n",
       "    .dataframe tbody tr th:only-of-type {\n",
       "        vertical-align: middle;\n",
       "    }\n",
       "\n",
       "    .dataframe tbody tr th {\n",
       "        vertical-align: top;\n",
       "    }\n",
       "\n",
       "    .dataframe thead th {\n",
       "        text-align: right;\n",
       "    }\n",
       "</style>\n",
       "<table border=\"1\" class=\"dataframe\">\n",
       "  <thead>\n",
       "    <tr style=\"text-align: right;\">\n",
       "      <th></th>\n",
       "      <th>director_name</th>\n",
       "      <th>avg_rating</th>\n",
       "      <th>total_votes</th>\n",
       "      <th>composite_score</th>\n",
       "    </tr>\n",
       "  </thead>\n",
       "  <tbody>\n",
       "    <tr>\n",
       "      <th>0</th>\n",
       "      <td>Anthony Russo</td>\n",
       "      <td>8.246667</td>\n",
       "      <td>18421593</td>\n",
       "      <td>0.915447</td>\n",
       "    </tr>\n",
       "    <tr>\n",
       "      <th>1</th>\n",
       "      <td>Joe Russo</td>\n",
       "      <td>8.246667</td>\n",
       "      <td>18421593</td>\n",
       "      <td>0.915447</td>\n",
       "    </tr>\n",
       "    <tr>\n",
       "      <th>2</th>\n",
       "      <td>James Gunn</td>\n",
       "      <td>6.266667</td>\n",
       "      <td>18640459</td>\n",
       "      <td>0.806202</td>\n",
       "    </tr>\n",
       "    <tr>\n",
       "      <th>3</th>\n",
       "      <td>Christopher Nolan</td>\n",
       "      <td>8.437500</td>\n",
       "      <td>10457390</td>\n",
       "      <td>0.712903</td>\n",
       "    </tr>\n",
       "    <tr>\n",
       "      <th>4</th>\n",
       "      <td>Matthew Vaughn</td>\n",
       "      <td>7.500000</td>\n",
       "      <td>9962120</td>\n",
       "      <td>0.645112</td>\n",
       "    </tr>\n",
       "    <tr>\n",
       "      <th>5</th>\n",
       "      <td>Peter Jackson</td>\n",
       "      <td>7.743750</td>\n",
       "      <td>8634677</td>\n",
       "      <td>0.623675</td>\n",
       "    </tr>\n",
       "    <tr>\n",
       "      <th>6</th>\n",
       "      <td>Zack Snyder</td>\n",
       "      <td>6.619231</td>\n",
       "      <td>10576977</td>\n",
       "      <td>0.610398</td>\n",
       "    </tr>\n",
       "    <tr>\n",
       "      <th>7</th>\n",
       "      <td>James Mangold</td>\n",
       "      <td>7.716667</td>\n",
       "      <td>6014842</td>\n",
       "      <td>0.551824</td>\n",
       "    </tr>\n",
       "    <tr>\n",
       "      <th>8</th>\n",
       "      <td>Christopher Miller</td>\n",
       "      <td>7.421053</td>\n",
       "      <td>6565719</td>\n",
       "      <td>0.549414</td>\n",
       "    </tr>\n",
       "    <tr>\n",
       "      <th>9</th>\n",
       "      <td>Phil Lord</td>\n",
       "      <td>7.421053</td>\n",
       "      <td>6565719</td>\n",
       "      <td>0.549414</td>\n",
       "    </tr>\n",
       "  </tbody>\n",
       "</table>\n",
       "</div>"
      ],
      "text/plain": [
       "        director_name  avg_rating  total_votes  composite_score\n",
       "0       Anthony Russo    8.246667     18421593         0.915447\n",
       "1           Joe Russo    8.246667     18421593         0.915447\n",
       "2          James Gunn    6.266667     18640459         0.806202\n",
       "3   Christopher Nolan    8.437500     10457390         0.712903\n",
       "4      Matthew Vaughn    7.500000      9962120         0.645112\n",
       "5       Peter Jackson    7.743750      8634677         0.623675\n",
       "6         Zack Snyder    6.619231     10576977         0.610398\n",
       "7       James Mangold    7.716667      6014842         0.551824\n",
       "8  Christopher Miller    7.421053      6565719         0.549414\n",
       "9           Phil Lord    7.421053      6565719         0.549414"
      ]
     },
     "execution_count": 15,
     "metadata": {},
     "output_type": "execute_result"
    }
   ],
   "source": [
    "# Normalize the metrics\n",
    "directors_aggregated_df['normalized_rating'] = (\n",
    "    (directors_aggregated_df['avg_rating'] - directors_aggregated_df['avg_rating'].min()) /\n",
    "    (directors_aggregated_df['avg_rating'].max() - directors_aggregated_df['avg_rating'].min())\n",
    ")\n",
    "\n",
    "directors_aggregated_df['normalized_votes'] = (\n",
    "    (directors_aggregated_df['total_votes'] - directors_aggregated_df['total_votes'].min()) /\n",
    "    (directors_aggregated_df['total_votes'].max() - directors_aggregated_df['total_votes'].min())\n",
    ")\n",
    "\n",
    "# Calculate the composite score\n",
    "directors_aggregated_df['composite_score'] = (\n",
    "    0.5 * directors_aggregated_df['normalized_rating'] +\n",
    "    0.5 * directors_aggregated_df['normalized_votes']\n",
    ")\n",
    "\n",
    "# Sort directors by the composite score in descending order\n",
    "ranked_directors_df = directors_aggregated_df.sort_values(by='composite_score', ascending=False)\n",
    "ranked_directors_df.reset_index(drop=True, inplace=True)\n",
    "\n",
    "ranked_directors_df[['director_name', 'avg_rating', 'total_votes', 'composite_score']].head(10)"
   ]
  },
  {
   "cell_type": "markdown",
   "metadata": {},
   "source": [
    "We'll use a lollipop chart to visualize our analysis."
   ]
  },
  {
   "cell_type": "code",
   "execution_count": 16,
   "metadata": {},
   "outputs": [
    {
     "data": {
      "image/png": "[encoded data removed]",
      "text/plain": [
       "<Figure size 720x432 with 1 Axes>"
      ]
     },
     "metadata": {
      "needs_background": "light"
     },
     "output_type": "display_data"
    }
   ],
   "source": [
    "# Select the top 10 directors for visualization\n",
    "top_directors = ranked_directors_df.head(10)\n",
    "\n",
    "# Create a lollipop chart\n",
    "plt.figure(figsize=(10, 6))\n",
    "plt.hlines(y=top_directors['director_name'], xmin=0, xmax=top_directors['composite_score'], color='skyblue', linewidth=2)\n",
    "plt.plot(top_directors['composite_score'], top_directors['director_name'], \"o\", markersize=8, color='blue')\n",
    "\n",
    "# Add labels and title\n",
    "plt.xlabel('Composite Score', fontsize=12)\n",
    "plt.ylabel('Director Name', fontsize=12)\n",
    "plt.title('Top 10 Directors Ranked by Composite Score', fontsize=14)\n",
    "plt.tight_layout()\n",
    "\n",
    "plt.show()"
   ]
  },
  {
   "cell_type": "markdown",
   "metadata": {},
   "source": [
    "### Conclusion\n",
    "\n",
    "- **Blockbuster Influence:**  \n",
    "  The Russo brothers lead the rankings with a composite score of 0.92, highlighting that films which not only earn high ratings but also attract a massive audience can significantly elevate a director’s overall performance.\n",
    "\n",
    "- **Performance Trade-offs:**  \n",
    "  While directors like Christopher Nolan receive exceptional ratings (8.44), their composite scores (0.71) suggest that critical acclaim alone may not fully reflect audience reach. Conversely, directors such as James Gunn, with lower average ratings, achieve high composite scores (0.81) by securing extensive audience votes.\n",
    "\n",
    "- **Balanced Evaluation:**  \n",
    "  By combining normalized ratings and vote counts, the composite metric captures a nuanced view of a director's success—rewarding both quality and audience engagement. This balanced perspective underscores the value of considering multiple dimensions when assessing cinematic impact."
   ]
  },
  {
   "cell_type": "markdown",
   "metadata": {},
   "source": [
    "## Objective 3:"
   ]
  },
  {
   "cell_type": "markdown",
   "metadata": {},
   "source": [
    "**Evaluate trends in movie success across time. Leverage the release year alongside rating data to uncover patterns- such as whether older movies or recent releases perform better.**"
   ]
  },
  {
   "cell_type": "code",
   "execution_count": 17,
   "metadata": {},
   "outputs": [
    {
     "data": {
      "text/html": [
       "<div>\n",
       "<style scoped>\n",
       "    .dataframe tbody tr th:only-of-type {\n",
       "        vertical-align: middle;\n",
       "    }\n",
       "\n",
       "    .dataframe tbody tr th {\n",
       "        vertical-align: top;\n",
       "    }\n",
       "\n",
       "    .dataframe thead th {\n",
       "        text-align: right;\n",
       "    }\n",
       "</style>\n",
       "<table border=\"1\" class=\"dataframe\">\n",
       "  <thead>\n",
       "    <tr style=\"text-align: right;\">\n",
       "      <th></th>\n",
       "      <th>release_year</th>\n",
       "      <th>avg_rating</th>\n",
       "      <th>total_votes</th>\n",
       "    </tr>\n",
       "  </thead>\n",
       "  <tbody>\n",
       "    <tr>\n",
       "      <th>0</th>\n",
       "      <td>2010</td>\n",
       "      <td>6.259585</td>\n",
       "      <td>30485759</td>\n",
       "    </tr>\n",
       "    <tr>\n",
       "      <th>1</th>\n",
       "      <td>2011</td>\n",
       "      <td>6.290134</td>\n",
       "      <td>32741501</td>\n",
       "    </tr>\n",
       "    <tr>\n",
       "      <th>2</th>\n",
       "      <td>2012</td>\n",
       "      <td>6.297057</td>\n",
       "      <td>32726315</td>\n",
       "    </tr>\n",
       "    <tr>\n",
       "      <th>3</th>\n",
       "      <td>2013</td>\n",
       "      <td>6.287259</td>\n",
       "      <td>35638577</td>\n",
       "    </tr>\n",
       "    <tr>\n",
       "      <th>4</th>\n",
       "      <td>2014</td>\n",
       "      <td>6.319806</td>\n",
       "      <td>34382294</td>\n",
       "    </tr>\n",
       "    <tr>\n",
       "      <th>5</th>\n",
       "      <td>2015</td>\n",
       "      <td>6.265894</td>\n",
       "      <td>26167370</td>\n",
       "    </tr>\n",
       "    <tr>\n",
       "      <th>6</th>\n",
       "      <td>2016</td>\n",
       "      <td>6.347300</td>\n",
       "      <td>26621703</td>\n",
       "    </tr>\n",
       "    <tr>\n",
       "      <th>7</th>\n",
       "      <td>2017</td>\n",
       "      <td>6.397624</td>\n",
       "      <td>21901644</td>\n",
       "    </tr>\n",
       "    <tr>\n",
       "      <th>8</th>\n",
       "      <td>2018</td>\n",
       "      <td>6.415599</td>\n",
       "      <td>16507889</td>\n",
       "    </tr>\n",
       "    <tr>\n",
       "      <th>9</th>\n",
       "      <td>2019</td>\n",
       "      <td>6.703578</td>\n",
       "      <td>3070541</td>\n",
       "    </tr>\n",
       "  </tbody>\n",
       "</table>\n",
       "</div>"
      ],
      "text/plain": [
       "   release_year  avg_rating  total_votes\n",
       "0          2010    6.259585     30485759\n",
       "1          2011    6.290134     32741501\n",
       "2          2012    6.297057     32726315\n",
       "3          2013    6.287259     35638577\n",
       "4          2014    6.319806     34382294\n",
       "5          2015    6.265894     26167370\n",
       "6          2016    6.347300     26621703\n",
       "7          2017    6.397624     21901644\n",
       "8          2018    6.415599     16507889\n",
       "9          2019    6.703578      3070541"
      ]
     },
     "execution_count": 17,
     "metadata": {},
     "output_type": "execute_result"
    }
   ],
   "source": [
    "# Query to extract release years, ratings, and votes\n",
    "query = \"\"\"\n",
    "SELECT mb.start_year AS release_year, \n",
    "       AVG(mr.averagerating) AS avg_rating, \n",
    "       SUM(mr.numvotes) AS total_votes\n",
    "FROM movie_basics mb\n",
    "JOIN movie_ratings mr ON mb.movie_id = mr.movie_id\n",
    "WHERE mb.start_year IS NOT NULL\n",
    "GROUP BY mb.start_year\n",
    "ORDER BY mb.start_year\n",
    "\"\"\"\n",
    "trends_over_time_df = pd.read_sql_query(query, conn)\n",
    "\n",
    "trends_over_time_df.head(10)"
   ]
  },
  {
   "cell_type": "markdown",
   "metadata": {},
   "source": [
    "Let's visualize our output using a line plot."
   ]
  },
  {
   "cell_type": "code",
   "execution_count": 18,
   "metadata": {},
   "outputs": [
    {
     "data": {
      "image/png": "[encoded data removed]",
      "text/plain": [
       "<Figure size 864x432 with 1 Axes>"
      ]
     },
     "metadata": {
      "needs_background": "light"
     },
     "output_type": "display_data"
    }
   ],
   "source": [
    "# Plot the relationship between release year and average rating\n",
    "plt.figure(figsize=(12, 6))\n",
    "\n",
    "# Create a line plot\n",
    "sns.lineplot(\n",
    "    x='release_year', \n",
    "    y='avg_rating', \n",
    "    data=trends_over_time_df, \n",
    "    color='blue'\n",
    ")\n",
    "\n",
    "# Add labels and title\n",
    "plt.xlabel('Release Year', fontsize=12)\n",
    "plt.ylabel('Average Rating', fontsize=12)\n",
    "plt.title('Trends in Average Ratings Over Release Years', fontsize=14)\n",
    "\n",
    "# Adjust the y-axis limits based on the range of our data\n",
    "plt.ylim(5.5, 7.5) \n",
    "\n",
    "plt.tight_layout()\n",
    "\n",
    "plt.show()"
   ]
  },
  {
   "cell_type": "markdown",
   "metadata": {},
   "source": [
    "### Conclusion\n",
    "\n",
    "- **Minimal Variation in Ratings:**  \n",
    "  Although average ratings show a slight upward trend (from 6.26 in 2010 to 6.70 in 2019), the change is modest, suggesting that films across these years are generally perceived similarly in quality.\n",
    "\n",
    "- **Impact of Time on Votes:**  \n",
    "  The lower total votes for newer films likely stem from less time to accumulate feedback compared to older titles, making it difficult to draw direct performance comparisons solely based on vote counts.\n",
    "\n",
    "- **Overall Insight:**  \n",
    "  The analysis does not provide strong evidence that either older or more recent movies consistently outperform the other in terms of audience reception. Other factors may be needed to fully understand trends in movie success over time."
   ]
  },
  {
   "cell_type": "markdown",
   "metadata": {},
   "source": [
    "### **Hypothesis Testing**"
   ]
  },
  {
   "cell_type": "markdown",
   "metadata": {},
   "source": [
    "**Hypothesis 1**: Movies with higher average ratings tend to receive more votes compared to movies with lower average ratings.\n",
    "\n",
    "**Null Hypothesis**\n",
    "* There is no relationship between average ratings and the number of votes.\n",
    "\n",
    "**Alternative Hypothesis**\n",
    "* Movies with higher average ratings receive significantly more votes.\n"
   ]
  },
  {
   "cell_type": "code",
   "execution_count": 19,
   "metadata": {},
   "outputs": [
    {
     "name": "stdout",
     "output_type": "stream",
     "text": [
      "Correlation coefficient: 0.05862963383194811\n",
      "P-value: 3.950272475901306e-48\n",
      "Reject the null hypothesis: There is a significant relationship between ratings and votes.\n"
     ]
    }
   ],
   "source": [
    "from scipy.stats import pearsonr\n",
    "\n",
    "# Extract relevant columns\n",
    "ratings = movie_ratings_df['averagerating']\n",
    "votes = movie_ratings_df['numvotes']\n",
    "\n",
    "# Perform Pearson correlation test\n",
    "correlation, p_value = pearsonr(ratings, votes)\n",
    "\n",
    "print(f\"Correlation coefficient: {correlation}\")\n",
    "print(f\"P-value: {p_value}\")\n",
    "\n",
    "# Interpret the result\n",
    "if p_value < 0.05:\n",
    "    print(\"Reject the null hypothesis: There is a significant relationship between ratings and votes.\")\n",
    "else:\n",
    "    print(\"Fail to reject the null hypothesis: No significant relationship between ratings and votes.\")"
   ]
  },
  {
   "cell_type": "markdown",
   "metadata": {},
   "source": [
    "While the relationship exists, the weak correlation (0.059) suggests that other factors e.g., marketing, genre, or popularity likely play a much larger role in determining the number of votes a movie receives."
   ]
  },
  {
   "cell_type": "markdown",
   "metadata": {},
   "source": [
    "**Hypothesis 2**: Do movies with shorter runtimes get higher average ratings?\n",
    "\n",
    "**Null Hypothesis (H0)**\n",
    "* There is no relationship between movie runtime and average ratings.\n",
    "\n",
    "**Alternative Hypothesis(H1)**\n",
    "* Movies with shorter runtimes receive higher average ratings.\n"
   ]
  },
  {
   "cell_type": "code",
   "execution_count": 20,
   "metadata": {},
   "outputs": [
    {
     "name": "stdout",
     "output_type": "stream",
     "text": [
      "Spearman Correlation Coefficient: -0.017594638652671135\n",
      "P-value: 1.3301218114501754e-05\n",
      "Reject the null hypothesis: There is a significant relationship between runtime and ratings.\n"
     ]
    }
   ],
   "source": [
    "# Merge the DataFrames to align runtimes and ratings\n",
    "merged_df = pd.merge(movie_basics_df, movie_ratings_df, on='movie_id', how='inner')\n",
    "\n",
    "# Extract relevant columns\n",
    "runtimes = merged_df['runtime_minutes']\n",
    "ratings = merged_df['averagerating']\n",
    "\n",
    "# Perform Spearman correlation test\n",
    "from scipy.stats import spearmanr\n",
    "correlation, p_value = spearmanr(runtimes, ratings)\n",
    "\n",
    "print(f\"Spearman Correlation Coefficient: {correlation}\")\n",
    "print(f\"P-value: {p_value}\")\n",
    "\n",
    "# Interpret the result\n",
    "if p_value < 0.05:\n",
    "    print(\"Reject the null hypothesis: There is a significant relationship between runtime and ratings.\")\n",
    "else:\n",
    "    print(\"Fail to reject the null hypothesis: No significant relationship between runtime and ratings.\")"
   ]
  },
  {
   "cell_type": "markdown",
   "metadata": {},
   "source": [
    "There is a statistically significant but very weak negative correlation between movie runtime and average ratings (Spearman correlation coefficient = -0.018). This suggests that shorter runtimes are slightly associated with higher ratings, but the effect is so small that it's almost negligible."
   ]
  },
  {
   "cell_type": "markdown",
   "metadata": {},
   "source": [
    "### OVERALL CONCLUSION\n",
    "\n",
    "Our analysis provides several actionable insights for the new movie studio:\n",
    "\n",
    "- **Hybrid Genre Strategy:**  \n",
    "  Films that combine robust, high-energy genres like Action and Adventure with complementary elements (such as Sci-Fi, Drama, or Comedy) consistently resonate with audiences. This hybrid approach not only drives broad appeal but also enriches storytelling, making it a promising direction for new content.\n",
    "\n",
    "- **Balanced Director Performance:**  \n",
    "  The success of top directors underscores the importance of balancing critical quality with wide audience engagement. Directors who achieve high composite scores—reflecting both strong ratings and substantial viewer participation (as seen with the Russo brothers)—demonstrate that blockbuster appeal is as much about attracting large audiences as it is about garnering critical acclaim.\n",
    "\n",
    "- **Consistency Across Time:**  \n",
    "  Although there is a modest upward trend in average ratings over recent years, this variation is minimal. The similar levels of film quality across different eras imply that factors such as innovative genre blends and director expertise are likely more significant differentiators than the release year alone.\n",
    "\n",
    "**Actionable Insight:**  \n",
    "For the studio to thrive in a competitive market, the strategy should center on developing hybrid genre films that effectively merge high-energy action with nuanced, supportive elements, while also partnering with directors who can achieve both critical and mass appeal."
   ]
  },
  {
   "cell_type": "markdown",
   "metadata": {},
   "source": []
  }
 ],
 "metadata": {
  "kernelspec": {
   "display_name": "Python 3",
   "language": "python",
   "name": "python3"
  },
  "language_info": {
   "codemirror_mode": {
    "name": "ipython",
    "version": 3
   },
   "file_extension": ".py",
   "mimetype": "text/x-python",
   "name": "python",
   "nbconvert_exporter": "python",
   "pygments_lexer": "ipython3",
   "version": "3.8.5"
  }
 },
 "nbformat": 4,
 "nbformat_minor": 2
}
