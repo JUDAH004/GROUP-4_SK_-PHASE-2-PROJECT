{
 "cells": [
  {
   "cell_type": "markdown",
   "metadata": {},
   "source": [
    "\n",
    "* Blog post URL: https://www.rottentomatoes.com/\n"
   ]
  },
  {
   "cell_type": "markdown",
   "metadata": {},
   "source": [
    "#  Analyzing Movie Reception Using Rotten Tomatoes Data  \n",
    "\n",
    "## 🧠 **Introduction**  \n",
    "Rotten Tomatoes is one of the most influential movie review platforms, aggregating critic and audience opinions into a **\"Tomatometer\"** and **audience score**. In this section, we explore the relationship between these scores and movie performance. By examining how critical reception aligns with box office success and genres, we aim to uncover whether review scores can be used to predict or inform a movie's commercial potential.  \n",
    "\n",
    "In this project, I will analyze **RottenTomatoes data**:  \n",
    "- **Understand the distribution of critic and audience scores** across movies from recent years.\n",
    "\n",
    "-**Identify which genres tend to receive higher critical acclaim** and whether they align with audience preferences.\n",
    "\n",
    "-**Compare critic vs. audience sentiment** to find genres or films with the biggest discrepancies.\n"
   ]
  },
  {
   "cell_type": "markdown",
   "metadata": {},
   "source": [
    "## 【1】*Data Exploration*  "
   ]
  },
  {
   "cell_type": "code",
   "execution_count": 4,
   "metadata": {},
   "outputs": [],
   "source": [
    "# Import pandas\n",
    "import pandas as pd"
   ]
  },
  {
   "cell_type": "code",
   "execution_count": 5,
   "metadata": {},
   "outputs": [
    {
     "data": {
      "text/html": [
       "<div>\n",
       "<style scoped>\n",
       "    .dataframe tbody tr th:only-of-type {\n",
       "        vertical-align: middle;\n",
       "    }\n",
       "\n",
       "    .dataframe tbody tr th {\n",
       "        vertical-align: top;\n",
       "    }\n",
       "\n",
       "    .dataframe thead th {\n",
       "        text-align: right;\n",
       "    }\n",
       "</style>\n",
       "<table border=\"1\" class=\"dataframe\">\n",
       "  <thead>\n",
       "    <tr style=\"text-align: right;\">\n",
       "      <th></th>\n",
       "      <th>id</th>\n",
       "      <th>synopsis</th>\n",
       "      <th>rating</th>\n",
       "      <th>genre</th>\n",
       "      <th>director</th>\n",
       "      <th>writer</th>\n",
       "      <th>theater_date</th>\n",
       "      <th>dvd_date</th>\n",
       "      <th>currency</th>\n",
       "      <th>box_office</th>\n",
       "      <th>runtime</th>\n",
       "      <th>studio</th>\n",
       "    </tr>\n",
       "  </thead>\n",
       "  <tbody>\n",
       "    <tr>\n",
       "      <th>0</th>\n",
       "      <td>1</td>\n",
       "      <td>This gritty, fast-paced, and innovative police...</td>\n",
       "      <td>R</td>\n",
       "      <td>Action and Adventure|Classics|Drama</td>\n",
       "      <td>William Friedkin</td>\n",
       "      <td>Ernest Tidyman</td>\n",
       "      <td>Oct 9, 1971</td>\n",
       "      <td>Sep 25, 2001</td>\n",
       "      <td>NaN</td>\n",
       "      <td>NaN</td>\n",
       "      <td>104 minutes</td>\n",
       "      <td>NaN</td>\n",
       "    </tr>\n",
       "    <tr>\n",
       "      <th>1</th>\n",
       "      <td>3</td>\n",
       "      <td>New York City, not-too-distant-future: Eric Pa...</td>\n",
       "      <td>R</td>\n",
       "      <td>Drama|Science Fiction and Fantasy</td>\n",
       "      <td>David Cronenberg</td>\n",
       "      <td>David Cronenberg|Don DeLillo</td>\n",
       "      <td>Aug 17, 2012</td>\n",
       "      <td>Jan 1, 2013</td>\n",
       "      <td>$</td>\n",
       "      <td>600,000</td>\n",
       "      <td>108 minutes</td>\n",
       "      <td>Entertainment One</td>\n",
       "    </tr>\n",
       "    <tr>\n",
       "      <th>2</th>\n",
       "      <td>5</td>\n",
       "      <td>Illeana Douglas delivers a superb performance ...</td>\n",
       "      <td>R</td>\n",
       "      <td>Drama|Musical and Performing Arts</td>\n",
       "      <td>Allison Anders</td>\n",
       "      <td>Allison Anders</td>\n",
       "      <td>Sep 13, 1996</td>\n",
       "      <td>Apr 18, 2000</td>\n",
       "      <td>NaN</td>\n",
       "      <td>NaN</td>\n",
       "      <td>116 minutes</td>\n",
       "      <td>NaN</td>\n",
       "    </tr>\n",
       "    <tr>\n",
       "      <th>3</th>\n",
       "      <td>6</td>\n",
       "      <td>Michael Douglas runs afoul of a treacherous su...</td>\n",
       "      <td>R</td>\n",
       "      <td>Drama|Mystery and Suspense</td>\n",
       "      <td>Barry Levinson</td>\n",
       "      <td>Paul Attanasio|Michael Crichton</td>\n",
       "      <td>Dec 9, 1994</td>\n",
       "      <td>Aug 27, 1997</td>\n",
       "      <td>NaN</td>\n",
       "      <td>NaN</td>\n",
       "      <td>128 minutes</td>\n",
       "      <td>NaN</td>\n",
       "    </tr>\n",
       "    <tr>\n",
       "      <th>4</th>\n",
       "      <td>7</td>\n",
       "      <td>NaN</td>\n",
       "      <td>NR</td>\n",
       "      <td>Drama|Romance</td>\n",
       "      <td>Rodney Bennett</td>\n",
       "      <td>Giles Cooper</td>\n",
       "      <td>NaN</td>\n",
       "      <td>NaN</td>\n",
       "      <td>NaN</td>\n",
       "      <td>NaN</td>\n",
       "      <td>200 minutes</td>\n",
       "      <td>NaN</td>\n",
       "    </tr>\n",
       "  </tbody>\n",
       "</table>\n",
       "</div>"
      ],
      "text/plain": [
       "   id                                           synopsis rating  \\\n",
       "0   1  This gritty, fast-paced, and innovative police...      R   \n",
       "1   3  New York City, not-too-distant-future: Eric Pa...      R   \n",
       "2   5  Illeana Douglas delivers a superb performance ...      R   \n",
       "3   6  Michael Douglas runs afoul of a treacherous su...      R   \n",
       "4   7                                                NaN     NR   \n",
       "\n",
       "                                 genre          director  \\\n",
       "0  Action and Adventure|Classics|Drama  William Friedkin   \n",
       "1    Drama|Science Fiction and Fantasy  David Cronenberg   \n",
       "2    Drama|Musical and Performing Arts    Allison Anders   \n",
       "3           Drama|Mystery and Suspense    Barry Levinson   \n",
       "4                        Drama|Romance    Rodney Bennett   \n",
       "\n",
       "                            writer  theater_date      dvd_date currency  \\\n",
       "0                   Ernest Tidyman   Oct 9, 1971  Sep 25, 2001      NaN   \n",
       "1     David Cronenberg|Don DeLillo  Aug 17, 2012   Jan 1, 2013        $   \n",
       "2                   Allison Anders  Sep 13, 1996  Apr 18, 2000      NaN   \n",
       "3  Paul Attanasio|Michael Crichton   Dec 9, 1994  Aug 27, 1997      NaN   \n",
       "4                     Giles Cooper           NaN           NaN      NaN   \n",
       "\n",
       "  box_office      runtime             studio  \n",
       "0        NaN  104 minutes                NaN  \n",
       "1    600,000  108 minutes  Entertainment One  \n",
       "2        NaN  116 minutes                NaN  \n",
       "3        NaN  128 minutes                NaN  \n",
       "4        NaN  200 minutes                NaN  "
      ]
     },
     "execution_count": 5,
     "metadata": {},
     "output_type": "execute_result"
    }
   ],
   "source": [
    "# Load movies data\n",
    "movies_df = pd.read_csv('data/rt.movie_info.tsv.gz', sep='\\t', compression='gzip')\n",
    "movies_df.head()"
   ]
  },
  {
   "cell_type": "code",
   "execution_count": 6,
   "metadata": {},
   "outputs": [
    {
     "data": {
      "text/html": [
       "<div>\n",
       "<style scoped>\n",
       "    .dataframe tbody tr th:only-of-type {\n",
       "        vertical-align: middle;\n",
       "    }\n",
       "\n",
       "    .dataframe tbody tr th {\n",
       "        vertical-align: top;\n",
       "    }\n",
       "\n",
       "    .dataframe thead th {\n",
       "        text-align: right;\n",
       "    }\n",
       "</style>\n",
       "<table border=\"1\" class=\"dataframe\">\n",
       "  <thead>\n",
       "    <tr style=\"text-align: right;\">\n",
       "      <th></th>\n",
       "      <th>id</th>\n",
       "      <th>review</th>\n",
       "      <th>rating</th>\n",
       "      <th>fresh</th>\n",
       "      <th>critic</th>\n",
       "      <th>top_critic</th>\n",
       "      <th>publisher</th>\n",
       "      <th>date</th>\n",
       "    </tr>\n",
       "  </thead>\n",
       "  <tbody>\n",
       "    <tr>\n",
       "      <th>0</th>\n",
       "      <td>3</td>\n",
       "      <td>A distinctly gallows take on contemporary fina...</td>\n",
       "      <td>3/5</td>\n",
       "      <td>fresh</td>\n",
       "      <td>PJ Nabarro</td>\n",
       "      <td>0</td>\n",
       "      <td>Patrick Nabarro</td>\n",
       "      <td>November 10, 2018</td>\n",
       "    </tr>\n",
       "    <tr>\n",
       "      <th>1</th>\n",
       "      <td>3</td>\n",
       "      <td>It's an allegory in search of a meaning that n...</td>\n",
       "      <td>NaN</td>\n",
       "      <td>rotten</td>\n",
       "      <td>Annalee Newitz</td>\n",
       "      <td>0</td>\n",
       "      <td>io9.com</td>\n",
       "      <td>May 23, 2018</td>\n",
       "    </tr>\n",
       "    <tr>\n",
       "      <th>2</th>\n",
       "      <td>3</td>\n",
       "      <td>... life lived in a bubble in financial dealin...</td>\n",
       "      <td>NaN</td>\n",
       "      <td>fresh</td>\n",
       "      <td>Sean Axmaker</td>\n",
       "      <td>0</td>\n",
       "      <td>Stream on Demand</td>\n",
       "      <td>January 4, 2018</td>\n",
       "    </tr>\n",
       "    <tr>\n",
       "      <th>3</th>\n",
       "      <td>3</td>\n",
       "      <td>Continuing along a line introduced in last yea...</td>\n",
       "      <td>NaN</td>\n",
       "      <td>fresh</td>\n",
       "      <td>Daniel Kasman</td>\n",
       "      <td>0</td>\n",
       "      <td>MUBI</td>\n",
       "      <td>November 16, 2017</td>\n",
       "    </tr>\n",
       "    <tr>\n",
       "      <th>4</th>\n",
       "      <td>3</td>\n",
       "      <td>... a perverse twist on neorealism...</td>\n",
       "      <td>NaN</td>\n",
       "      <td>fresh</td>\n",
       "      <td>NaN</td>\n",
       "      <td>0</td>\n",
       "      <td>Cinema Scope</td>\n",
       "      <td>October 12, 2017</td>\n",
       "    </tr>\n",
       "  </tbody>\n",
       "</table>\n",
       "</div>"
      ],
      "text/plain": [
       "   id                                             review rating   fresh  \\\n",
       "0   3  A distinctly gallows take on contemporary fina...    3/5   fresh   \n",
       "1   3  It's an allegory in search of a meaning that n...    NaN  rotten   \n",
       "2   3  ... life lived in a bubble in financial dealin...    NaN   fresh   \n",
       "3   3  Continuing along a line introduced in last yea...    NaN   fresh   \n",
       "4   3             ... a perverse twist on neorealism...     NaN   fresh   \n",
       "\n",
       "           critic  top_critic         publisher               date  \n",
       "0      PJ Nabarro           0   Patrick Nabarro  November 10, 2018  \n",
       "1  Annalee Newitz           0           io9.com       May 23, 2018  \n",
       "2    Sean Axmaker           0  Stream on Demand    January 4, 2018  \n",
       "3   Daniel Kasman           0              MUBI  November 16, 2017  \n",
       "4             NaN           0      Cinema Scope   October 12, 2017  "
      ]
     },
     "execution_count": 6,
     "metadata": {},
     "output_type": "execute_result"
    }
   ],
   "source": [
    "#Load reviews\n",
    "reviews_df = pd.read_csv('data/rt.reviews.tsv.gz', sep='\\t', compression='gzip', encoding='latin1')\n",
    "reviews_df.head()"
   ]
  },
  {
   "cell_type": "code",
   "execution_count": 7,
   "metadata": {},
   "outputs": [],
   "source": [
    "# Selecting relevant columns from the movie data\n",
    "movies_df = movies_df[['id', 'synopsis', 'rating', 'genre', 'director', 'writer', 'theater_date', 'box_office']]\n",
    "\n",
    "# Selecting relevant columns from the review data\n",
    "reviews_df = reviews_df[['id', 'review', 'rating', 'fresh', 'critic', 'publisher', 'date']]\n"
   ]
  },
  {
   "cell_type": "code",
   "execution_count": 8,
   "metadata": {},
   "outputs": [
    {
     "data": {
      "text/plain": [
       "((1560, 8), (54432, 7))"
      ]
     },
     "execution_count": 8,
     "metadata": {},
     "output_type": "execute_result"
    }
   ],
   "source": [
    "# Check the dimensions of the dataset (rows, columns)\n",
    "movies_df.shape , reviews_df.shape"
   ]
  },
  {
   "cell_type": "code",
   "execution_count": 9,
   "metadata": {},
   "outputs": [
    {
     "name": "stdout",
     "output_type": "stream",
     "text": [
      "<class 'pandas.core.frame.DataFrame'>\n",
      "RangeIndex: 1560 entries, 0 to 1559\n",
      "Data columns (total 8 columns):\n",
      " #   Column        Non-Null Count  Dtype \n",
      "---  ------        --------------  ----- \n",
      " 0   id            1560 non-null   int64 \n",
      " 1   synopsis      1498 non-null   object\n",
      " 2   rating        1557 non-null   object\n",
      " 3   genre         1552 non-null   object\n",
      " 4   director      1361 non-null   object\n",
      " 5   writer        1111 non-null   object\n",
      " 6   theater_date  1201 non-null   object\n",
      " 7   box_office    340 non-null    object\n",
      "dtypes: int64(1), object(7)\n",
      "memory usage: 97.6+ KB\n"
     ]
    }
   ],
   "source": [
    "# View a summary of the movies dataset columns\n",
    "movies_df.info()"
   ]
  },
  {
   "cell_type": "code",
   "execution_count": 10,
   "metadata": {},
   "outputs": [
    {
     "data": {
      "text/html": [
       "<div>\n",
       "<style scoped>\n",
       "    .dataframe tbody tr th:only-of-type {\n",
       "        vertical-align: middle;\n",
       "    }\n",
       "\n",
       "    .dataframe tbody tr th {\n",
       "        vertical-align: top;\n",
       "    }\n",
       "\n",
       "    .dataframe thead th {\n",
       "        text-align: right;\n",
       "    }\n",
       "</style>\n",
       "<table border=\"1\" class=\"dataframe\">\n",
       "  <thead>\n",
       "    <tr style=\"text-align: right;\">\n",
       "      <th></th>\n",
       "      <th>id</th>\n",
       "    </tr>\n",
       "  </thead>\n",
       "  <tbody>\n",
       "    <tr>\n",
       "      <th>count</th>\n",
       "      <td>1560.000000</td>\n",
       "    </tr>\n",
       "    <tr>\n",
       "      <th>mean</th>\n",
       "      <td>1007.303846</td>\n",
       "    </tr>\n",
       "    <tr>\n",
       "      <th>std</th>\n",
       "      <td>579.164527</td>\n",
       "    </tr>\n",
       "    <tr>\n",
       "      <th>min</th>\n",
       "      <td>1.000000</td>\n",
       "    </tr>\n",
       "    <tr>\n",
       "      <th>25%</th>\n",
       "      <td>504.750000</td>\n",
       "    </tr>\n",
       "    <tr>\n",
       "      <th>50%</th>\n",
       "      <td>1007.500000</td>\n",
       "    </tr>\n",
       "    <tr>\n",
       "      <th>75%</th>\n",
       "      <td>1503.250000</td>\n",
       "    </tr>\n",
       "    <tr>\n",
       "      <th>max</th>\n",
       "      <td>2000.000000</td>\n",
       "    </tr>\n",
       "  </tbody>\n",
       "</table>\n",
       "</div>"
      ],
      "text/plain": [
       "                id\n",
       "count  1560.000000\n",
       "mean   1007.303846\n",
       "std     579.164527\n",
       "min       1.000000\n",
       "25%     504.750000\n",
       "50%    1007.500000\n",
       "75%    1503.250000\n",
       "max    2000.000000"
      ]
     },
     "execution_count": 10,
     "metadata": {},
     "output_type": "execute_result"
    }
   ],
   "source": [
    "movies_df.describe()"
   ]
  },
  {
   "cell_type": "markdown",
   "metadata": {},
   "source": [
    "### **Data Exploration Conclusion**  \n",
    "\n",
    "The **movies dataset** contains 1,560 entries, each representing a movie. It includes several columns such as id, synopsis, rating, genre, director, writer, theater_date, and box_office. While the id column ranges from 1 to 2000, some columns have a considerable amount of missing data. For instance, director, writer, and box_office have a significant number of missing values, with only 1,361, 1,111, and 340 non-null entries, respectively. The synopsis and rating columns are relatively complete, with 1,498 and 1,557 non-null entries, respectively. This suggests that while there is enough data to describe most movies, there are gaps in the more specific details like the creators and financial performance. The movie id values have a mean of approximately 1,007, with a standard deviation of 579, indicating a wide range of movie IDs across the dataset."
   ]
  },
  {
   "cell_type": "code",
   "execution_count": 11,
   "metadata": {},
   "outputs": [
    {
     "name": "stdout",
     "output_type": "stream",
     "text": [
      "<class 'pandas.core.frame.DataFrame'>\n",
      "RangeIndex: 54432 entries, 0 to 54431\n",
      "Data columns (total 7 columns):\n",
      " #   Column     Non-Null Count  Dtype \n",
      "---  ------     --------------  ----- \n",
      " 0   id         54432 non-null  int64 \n",
      " 1   review     48869 non-null  object\n",
      " 2   rating     40915 non-null  object\n",
      " 3   fresh      54432 non-null  object\n",
      " 4   critic     51710 non-null  object\n",
      " 5   publisher  54123 non-null  object\n",
      " 6   date       54432 non-null  object\n",
      "dtypes: int64(1), object(6)\n",
      "memory usage: 2.9+ MB\n"
     ]
    }
   ],
   "source": [
    "# View a summary of the reviews dataset columns\n",
    "reviews_df.info()"
   ]
  },
  {
   "cell_type": "code",
   "execution_count": 12,
   "metadata": {},
   "outputs": [
    {
     "data": {
      "text/html": [
       "<div>\n",
       "<style scoped>\n",
       "    .dataframe tbody tr th:only-of-type {\n",
       "        vertical-align: middle;\n",
       "    }\n",
       "\n",
       "    .dataframe tbody tr th {\n",
       "        vertical-align: top;\n",
       "    }\n",
       "\n",
       "    .dataframe thead th {\n",
       "        text-align: right;\n",
       "    }\n",
       "</style>\n",
       "<table border=\"1\" class=\"dataframe\">\n",
       "  <thead>\n",
       "    <tr style=\"text-align: right;\">\n",
       "      <th></th>\n",
       "      <th>id</th>\n",
       "    </tr>\n",
       "  </thead>\n",
       "  <tbody>\n",
       "    <tr>\n",
       "      <th>count</th>\n",
       "      <td>54432.000000</td>\n",
       "    </tr>\n",
       "    <tr>\n",
       "      <th>mean</th>\n",
       "      <td>1045.706882</td>\n",
       "    </tr>\n",
       "    <tr>\n",
       "      <th>std</th>\n",
       "      <td>586.657046</td>\n",
       "    </tr>\n",
       "    <tr>\n",
       "      <th>min</th>\n",
       "      <td>3.000000</td>\n",
       "    </tr>\n",
       "    <tr>\n",
       "      <th>25%</th>\n",
       "      <td>542.000000</td>\n",
       "    </tr>\n",
       "    <tr>\n",
       "      <th>50%</th>\n",
       "      <td>1083.000000</td>\n",
       "    </tr>\n",
       "    <tr>\n",
       "      <th>75%</th>\n",
       "      <td>1541.000000</td>\n",
       "    </tr>\n",
       "    <tr>\n",
       "      <th>max</th>\n",
       "      <td>2000.000000</td>\n",
       "    </tr>\n",
       "  </tbody>\n",
       "</table>\n",
       "</div>"
      ],
      "text/plain": [
       "                 id\n",
       "count  54432.000000\n",
       "mean    1045.706882\n",
       "std      586.657046\n",
       "min        3.000000\n",
       "25%      542.000000\n",
       "50%     1083.000000\n",
       "75%     1541.000000\n",
       "max     2000.000000"
      ]
     },
     "execution_count": 12,
     "metadata": {},
     "output_type": "execute_result"
    }
   ],
   "source": [
    "reviews_df.describe()"
   ]
  },
  {
   "cell_type": "markdown",
   "metadata": {},
   "source": [
    "The **reviews dataset** is much larger, containing 54,432 entries. It provides a wealth of information about the reviews for these movies, including the id (which links to the movie dataset), review text, rating, fresh (whether the review is fresh or rotten), critic, publisher, and date. The id column in the reviews dataset matches the id in the movies dataset, making it possible to link the two datasets. However, there are missing values in columns like review and rating, with 48,869 and 40,915 non-null entries, respectively. The fresh and publisher columns are fully populated, providing reliable data on the sentiment of reviews and their sources. The id values in the reviews dataset range from 3 to 2000, with a mean of approximately 1,046, and a standard deviation of 587, indicating a broad distribution of reviews across movies.\n",
    "\n",
    "When examining both datasets, it becomes clear that while the movies dataset is relatively small and suffers from significant gaps in specific columns, the reviews dataset is much larger and provides more complete data in certain areas. The movie dataset contains crucial metadata about the movies, but often lacks detailed financial and creative information. The reviews dataset, although it has some missing review texts and ratings, still offers enough information to perform analysis, especially since the fresh column is fully populated. The id column is common in both datasets, which makes it easy to merge the two, but due to missing values in both, careful handling of these gaps is necessary when conducting further analysis."
   ]
  },
  {
   "cell_type": "code",
   "execution_count": 13,
   "metadata": {},
   "outputs": [
    {
     "data": {
      "text/html": [
       "<div>\n",
       "<style scoped>\n",
       "    .dataframe tbody tr th:only-of-type {\n",
       "        vertical-align: middle;\n",
       "    }\n",
       "\n",
       "    .dataframe tbody tr th {\n",
       "        vertical-align: top;\n",
       "    }\n",
       "\n",
       "    .dataframe thead th {\n",
       "        text-align: right;\n",
       "    }\n",
       "</style>\n",
       "<table border=\"1\" class=\"dataframe\">\n",
       "  <thead>\n",
       "    <tr style=\"text-align: right;\">\n",
       "      <th></th>\n",
       "      <th>id</th>\n",
       "      <th>synopsis</th>\n",
       "      <th>rating_x</th>\n",
       "      <th>genre</th>\n",
       "      <th>director</th>\n",
       "      <th>writer</th>\n",
       "      <th>theater_date</th>\n",
       "      <th>box_office</th>\n",
       "      <th>review</th>\n",
       "      <th>rating_y</th>\n",
       "      <th>fresh</th>\n",
       "      <th>critic</th>\n",
       "      <th>publisher</th>\n",
       "      <th>date</th>\n",
       "    </tr>\n",
       "  </thead>\n",
       "  <tbody>\n",
       "    <tr>\n",
       "      <th>0</th>\n",
       "      <td>1</td>\n",
       "      <td>This gritty, fast-paced, and innovative police...</td>\n",
       "      <td>R</td>\n",
       "      <td>Action and Adventure|Classics|Drama</td>\n",
       "      <td>William Friedkin</td>\n",
       "      <td>Ernest Tidyman</td>\n",
       "      <td>Oct 9, 1971</td>\n",
       "      <td>NaN</td>\n",
       "      <td>NaN</td>\n",
       "      <td>NaN</td>\n",
       "      <td>NaN</td>\n",
       "      <td>NaN</td>\n",
       "      <td>NaN</td>\n",
       "      <td>NaN</td>\n",
       "    </tr>\n",
       "    <tr>\n",
       "      <th>1</th>\n",
       "      <td>3</td>\n",
       "      <td>New York City, not-too-distant-future: Eric Pa...</td>\n",
       "      <td>R</td>\n",
       "      <td>Drama|Science Fiction and Fantasy</td>\n",
       "      <td>David Cronenberg</td>\n",
       "      <td>David Cronenberg|Don DeLillo</td>\n",
       "      <td>Aug 17, 2012</td>\n",
       "      <td>600,000</td>\n",
       "      <td>A distinctly gallows take on contemporary fina...</td>\n",
       "      <td>3/5</td>\n",
       "      <td>fresh</td>\n",
       "      <td>PJ Nabarro</td>\n",
       "      <td>Patrick Nabarro</td>\n",
       "      <td>November 10, 2018</td>\n",
       "    </tr>\n",
       "    <tr>\n",
       "      <th>2</th>\n",
       "      <td>3</td>\n",
       "      <td>New York City, not-too-distant-future: Eric Pa...</td>\n",
       "      <td>R</td>\n",
       "      <td>Drama|Science Fiction and Fantasy</td>\n",
       "      <td>David Cronenberg</td>\n",
       "      <td>David Cronenberg|Don DeLillo</td>\n",
       "      <td>Aug 17, 2012</td>\n",
       "      <td>600,000</td>\n",
       "      <td>It's an allegory in search of a meaning that n...</td>\n",
       "      <td>NaN</td>\n",
       "      <td>rotten</td>\n",
       "      <td>Annalee Newitz</td>\n",
       "      <td>io9.com</td>\n",
       "      <td>May 23, 2018</td>\n",
       "    </tr>\n",
       "    <tr>\n",
       "      <th>3</th>\n",
       "      <td>3</td>\n",
       "      <td>New York City, not-too-distant-future: Eric Pa...</td>\n",
       "      <td>R</td>\n",
       "      <td>Drama|Science Fiction and Fantasy</td>\n",
       "      <td>David Cronenberg</td>\n",
       "      <td>David Cronenberg|Don DeLillo</td>\n",
       "      <td>Aug 17, 2012</td>\n",
       "      <td>600,000</td>\n",
       "      <td>... life lived in a bubble in financial dealin...</td>\n",
       "      <td>NaN</td>\n",
       "      <td>fresh</td>\n",
       "      <td>Sean Axmaker</td>\n",
       "      <td>Stream on Demand</td>\n",
       "      <td>January 4, 2018</td>\n",
       "    </tr>\n",
       "    <tr>\n",
       "      <th>4</th>\n",
       "      <td>3</td>\n",
       "      <td>New York City, not-too-distant-future: Eric Pa...</td>\n",
       "      <td>R</td>\n",
       "      <td>Drama|Science Fiction and Fantasy</td>\n",
       "      <td>David Cronenberg</td>\n",
       "      <td>David Cronenberg|Don DeLillo</td>\n",
       "      <td>Aug 17, 2012</td>\n",
       "      <td>600,000</td>\n",
       "      <td>Continuing along a line introduced in last yea...</td>\n",
       "      <td>NaN</td>\n",
       "      <td>fresh</td>\n",
       "      <td>Daniel Kasman</td>\n",
       "      <td>MUBI</td>\n",
       "      <td>November 16, 2017</td>\n",
       "    </tr>\n",
       "  </tbody>\n",
       "</table>\n",
       "</div>"
      ],
      "text/plain": [
       "   id                                           synopsis rating_x  \\\n",
       "0   1  This gritty, fast-paced, and innovative police...        R   \n",
       "1   3  New York City, not-too-distant-future: Eric Pa...        R   \n",
       "2   3  New York City, not-too-distant-future: Eric Pa...        R   \n",
       "3   3  New York City, not-too-distant-future: Eric Pa...        R   \n",
       "4   3  New York City, not-too-distant-future: Eric Pa...        R   \n",
       "\n",
       "                                 genre          director  \\\n",
       "0  Action and Adventure|Classics|Drama  William Friedkin   \n",
       "1    Drama|Science Fiction and Fantasy  David Cronenberg   \n",
       "2    Drama|Science Fiction and Fantasy  David Cronenberg   \n",
       "3    Drama|Science Fiction and Fantasy  David Cronenberg   \n",
       "4    Drama|Science Fiction and Fantasy  David Cronenberg   \n",
       "\n",
       "                         writer  theater_date box_office  \\\n",
       "0                Ernest Tidyman   Oct 9, 1971        NaN   \n",
       "1  David Cronenberg|Don DeLillo  Aug 17, 2012    600,000   \n",
       "2  David Cronenberg|Don DeLillo  Aug 17, 2012    600,000   \n",
       "3  David Cronenberg|Don DeLillo  Aug 17, 2012    600,000   \n",
       "4  David Cronenberg|Don DeLillo  Aug 17, 2012    600,000   \n",
       "\n",
       "                                              review rating_y   fresh  \\\n",
       "0                                                NaN      NaN     NaN   \n",
       "1  A distinctly gallows take on contemporary fina...      3/5   fresh   \n",
       "2  It's an allegory in search of a meaning that n...      NaN  rotten   \n",
       "3  ... life lived in a bubble in financial dealin...      NaN   fresh   \n",
       "4  Continuing along a line introduced in last yea...      NaN   fresh   \n",
       "\n",
       "           critic         publisher               date  \n",
       "0             NaN               NaN                NaN  \n",
       "1      PJ Nabarro   Patrick Nabarro  November 10, 2018  \n",
       "2  Annalee Newitz           io9.com       May 23, 2018  \n",
       "3    Sean Axmaker  Stream on Demand    January 4, 2018  \n",
       "4   Daniel Kasman              MUBI  November 16, 2017  "
      ]
     },
     "execution_count": 13,
     "metadata": {},
     "output_type": "execute_result"
    }
   ],
   "source": [
    "# Merge the datasets on 'id' column\n",
    "merged_df = pd.merge(movies_df, reviews_df, on='id', how='outer')\n",
    "merged_df.head()"
   ]
  },
  {
   "cell_type": "code",
   "execution_count": 14,
   "metadata": {},
   "outputs": [
    {
     "data": {
      "text/plain": [
       "(54857, 14)"
      ]
     },
     "execution_count": 14,
     "metadata": {},
     "output_type": "execute_result"
    }
   ],
   "source": [
    "# Check the dimensions of the merged dataset (rows, columns)\n",
    "merged_df.shape"
   ]
  },
  {
   "cell_type": "code",
   "execution_count": 15,
   "metadata": {},
   "outputs": [
    {
     "name": "stdout",
     "output_type": "stream",
     "text": [
      "<class 'pandas.core.frame.DataFrame'>\n",
      "Int64Index: 54857 entries, 0 to 54856\n",
      "Data columns (total 14 columns):\n",
      " #   Column        Non-Null Count  Dtype \n",
      "---  ------        --------------  ----- \n",
      " 0   id            54857 non-null  int64 \n",
      " 1   synopsis      54680 non-null  object\n",
      " 2   rating_x      54769 non-null  object\n",
      " 3   genre         54764 non-null  object\n",
      " 4   director      49339 non-null  object\n",
      " 5   writer        45426 non-null  object\n",
      " 6   theater_date  53411 non-null  object\n",
      " 7   box_office    33351 non-null  object\n",
      " 8   review        48869 non-null  object\n",
      " 9   rating_y      40915 non-null  object\n",
      " 10  fresh         54432 non-null  object\n",
      " 11  critic        51710 non-null  object\n",
      " 12  publisher     54123 non-null  object\n",
      " 13  date          54432 non-null  object\n",
      "dtypes: int64(1), object(13)\n",
      "memory usage: 6.3+ MB\n"
     ]
    }
   ],
   "source": [
    "# View a summary of the merged dataset columns\n",
    "merged_df.info()"
   ]
  },
  {
   "cell_type": "code",
   "execution_count": 16,
   "metadata": {},
   "outputs": [
    {
     "data": {
      "text/html": [
       "<div>\n",
       "<style scoped>\n",
       "    .dataframe tbody tr th:only-of-type {\n",
       "        vertical-align: middle;\n",
       "    }\n",
       "\n",
       "    .dataframe tbody tr th {\n",
       "        vertical-align: top;\n",
       "    }\n",
       "\n",
       "    .dataframe thead th {\n",
       "        text-align: right;\n",
       "    }\n",
       "</style>\n",
       "<table border=\"1\" class=\"dataframe\">\n",
       "  <thead>\n",
       "    <tr style=\"text-align: right;\">\n",
       "      <th></th>\n",
       "      <th>id</th>\n",
       "    </tr>\n",
       "  </thead>\n",
       "  <tbody>\n",
       "    <tr>\n",
       "      <th>count</th>\n",
       "      <td>54857.000000</td>\n",
       "    </tr>\n",
       "    <tr>\n",
       "      <th>mean</th>\n",
       "      <td>1045.483749</td>\n",
       "    </tr>\n",
       "    <tr>\n",
       "      <th>std</th>\n",
       "      <td>586.631039</td>\n",
       "    </tr>\n",
       "    <tr>\n",
       "      <th>min</th>\n",
       "      <td>1.000000</td>\n",
       "    </tr>\n",
       "    <tr>\n",
       "      <th>25%</th>\n",
       "      <td>542.000000</td>\n",
       "    </tr>\n",
       "    <tr>\n",
       "      <th>50%</th>\n",
       "      <td>1083.000000</td>\n",
       "    </tr>\n",
       "    <tr>\n",
       "      <th>75%</th>\n",
       "      <td>1541.000000</td>\n",
       "    </tr>\n",
       "    <tr>\n",
       "      <th>max</th>\n",
       "      <td>2000.000000</td>\n",
       "    </tr>\n",
       "  </tbody>\n",
       "</table>\n",
       "</div>"
      ],
      "text/plain": [
       "                 id\n",
       "count  54857.000000\n",
       "mean    1045.483749\n",
       "std      586.631039\n",
       "min        1.000000\n",
       "25%      542.000000\n",
       "50%     1083.000000\n",
       "75%     1541.000000\n",
       "max     2000.000000"
      ]
     },
     "execution_count": 16,
     "metadata": {},
     "output_type": "execute_result"
    }
   ],
   "source": [
    "# View statistical information of the dataset\n",
    "merged_df.describe()"
   ]
  },
  {
   "cell_type": "code",
   "execution_count": 17,
   "metadata": {},
   "outputs": [],
   "source": [
    "# Save the merged dataset to a CSV file\n",
    "merged_df.to_csv('merged_movie_reviews.csv', index=False)\n"
   ]
  },
  {
   "cell_type": "markdown",
   "metadata": {},
   "source": [
    "## 【2】*Data Cleaning*  "
   ]
  },
  {
   "cell_type": "markdown",
   "metadata": {},
   "source": [
    "###  Why Cleaning?  \n",
    "- **Ensures Data Accuracy** → Missing values can distort trends and patterns.  \n",
    "- **Improves Visualization** → Charts and graphs require complete data for meaningful insights.   \n",
    "\n",
    "To ensure that final insights are reliable and data-driven, missing values need to be properly handle.  \n",
    "\n",
    "Checklist:  \n",
    "- Drop columns with excessive missing values.  \n",
    "- Fill or impute missing values where necessary.  \n",
    "- Filter and refine the dataset for meaningful analysis.  \n",
    "\n"
   ]
  },
  {
   "cell_type": "markdown",
   "metadata": {},
   "source": [
    "#### Handling Missing Values *Rows*\n",
    "\n"
   ]
  },
  {
   "cell_type": "code",
   "execution_count": 18,
   "metadata": {},
   "outputs": [
    {
     "data": {
      "text/plain": [
       "id                  0\n",
       "synopsis          177\n",
       "rating_x           88\n",
       "genre              93\n",
       "director         5518\n",
       "writer           9431\n",
       "theater_date     1446\n",
       "box_office      21506\n",
       "review           5988\n",
       "rating_y        13942\n",
       "fresh             425\n",
       "critic           3147\n",
       "publisher         734\n",
       "date              425\n",
       "dtype: int64"
      ]
     },
     "execution_count": 18,
     "metadata": {},
     "output_type": "execute_result"
    }
   ],
   "source": [
    "# Check for missing values in each column\n",
    "merged_df.isna().sum()"
   ]
  },
  {
   "cell_type": "code",
   "execution_count": 19,
   "metadata": {},
   "outputs": [
    {
     "data": {
      "text/plain": [
       "id               0.000000\n",
       "synopsis         0.322657\n",
       "rating_x         0.160417\n",
       "genre            0.169532\n",
       "director        10.058880\n",
       "writer          17.191972\n",
       "theater_date     2.635944\n",
       "box_office      39.203748\n",
       "review          10.915653\n",
       "rating_y        25.415170\n",
       "fresh            0.774742\n",
       "critic           5.736734\n",
       "publisher        1.338024\n",
       "date             0.774742\n",
       "dtype: float64"
      ]
     },
     "execution_count": 19,
     "metadata": {},
     "output_type": "execute_result"
    }
   ],
   "source": [
    "# Calculate the percentage of missing data in each column\n",
    "missing_percent = merged_df.isna().mean()*100\n",
    "missing_percent"
   ]
  },
  {
   "cell_type": "code",
   "execution_count": 20,
   "metadata": {},
   "outputs": [],
   "source": [
    "#Drop rows with missing values in essential columns\n",
    "merged_df.dropna(subset=['synopsis','rating_x','genre','director','writer','theater_date','box_office','review','rating_y','fresh','critic','publisher','date'], inplace=True)"
   ]
  },
  {
   "cell_type": "code",
   "execution_count": 21,
   "metadata": {},
   "outputs": [
    {
     "data": {
      "text/plain": [
       "id              0\n",
       "synopsis        0\n",
       "rating_x        0\n",
       "genre           0\n",
       "director        0\n",
       "writer          0\n",
       "theater_date    0\n",
       "box_office      0\n",
       "review          0\n",
       "rating_y        0\n",
       "fresh           0\n",
       "critic          0\n",
       "publisher       0\n",
       "date            0\n",
       "dtype: int64"
      ]
     },
     "execution_count": 21,
     "metadata": {},
     "output_type": "execute_result"
    }
   ],
   "source": [
    "#Recheck for missing values in each column\n",
    "merged_df.isna().sum()"
   ]
  },
  {
   "cell_type": "code",
   "execution_count": 22,
   "metadata": {},
   "outputs": [
    {
     "name": "stdout",
     "output_type": "stream",
     "text": [
      "Number of duplicate IDs: 0\n"
     ]
    }
   ],
   "source": [
    "# Check duplicates based only on 'id' column\n",
    "duplicates = merged_df.duplicated()\n",
    "print(f\"Number of duplicate IDs: {duplicates.sum()}\")\n"
   ]
  },
  {
   "cell_type": "code",
   "execution_count": 23,
   "metadata": {},
   "outputs": [
    {
     "name": "stdout",
     "output_type": "stream",
     "text": [
      "<class 'pandas.core.frame.DataFrame'>\n",
      "Int64Index: 18864 entries, 1 to 54309\n",
      "Data columns (total 14 columns):\n",
      " #   Column        Non-Null Count  Dtype \n",
      "---  ------        --------------  ----- \n",
      " 0   id            18864 non-null  int64 \n",
      " 1   synopsis      18864 non-null  object\n",
      " 2   rating_x      18864 non-null  object\n",
      " 3   genre         18864 non-null  object\n",
      " 4   director      18864 non-null  object\n",
      " 5   writer        18864 non-null  object\n",
      " 6   theater_date  18864 non-null  object\n",
      " 7   box_office    18864 non-null  object\n",
      " 8   review        18864 non-null  object\n",
      " 9   rating_y      18864 non-null  object\n",
      " 10  fresh         18864 non-null  object\n",
      " 11  critic        18864 non-null  object\n",
      " 12  publisher     18864 non-null  object\n",
      " 13  date          18864 non-null  object\n",
      "dtypes: int64(1), object(13)\n",
      "memory usage: 2.2+ MB\n"
     ]
    }
   ],
   "source": [
    "# View a summary of the cleaned merged dataset columns\n",
    "merged_df.info()"
   ]
  },
  {
   "cell_type": "markdown",
   "metadata": {},
   "source": [
    "## 【3】*Data Visualization & Analysis*  "
   ]
  },
  {
   "cell_type": "markdown",
   "metadata": {},
   "source": [
    "## How Visualizations Align with Business Goals\n",
    "\n",
    "This analysis uses Rotten Tomatoes data to extract patterns in movie performance — especially box office revenue and critical reception — to guide decisions for a new movie studio.\n",
    "\n",
    "Each visualization below targets a key business question, such as which genres perform best, whether critic reviews matter, and how factors like runtime or rating relate to financial success.\n"
   ]
  },
  {
   "cell_type": "markdown",
   "metadata": {},
   "source": [
    "### 1. **Distribution of Movie Ratings**\n",
    "- Why? See how ratings (like 'R', 'PG-13', etc.) are distributed.\n",
    "\n",
    "- Type: Bar Chart\n",
    "\n",
    "- Useful For Hypothesis Testing: Compare success (box office, reviews) across ratings."
   ]
  },
  {
   "cell_type": "code",
   "execution_count": null,
   "metadata": {},
   "outputs": [
    {
     "data": {
      "image/png": "[encoded data removed]",
      "text/plain": [
       "<Figure size 432x288 with 1 Axes>"
      ]
     },
     "metadata": {
      "needs_background": "light"
     },
     "output_type": "display_data"
    }
   ],
   "source": [
    "import seaborn as sns\n",
    "import matplotlib.pyplot as plt\n",
    "\n",
    "#Plot\n",
    "sns.countplot(data=merged_df, x='rating_x', order=merged_df['rating_x'].value_counts().index)\n",
    "plt.xticks(rotation=45)\n",
    "plt.title('Distribution of Movie Ratings')\n",
    "plt.show()\n"
   ]
  },
  {
   "cell_type": "markdown",
   "metadata": {},
   "source": [
    "## Anova Test\n",
    "This is to test whether average box office revenue has a significant difference in regards to movie ratings."
   ]
  },
  {
   "cell_type": "code",
   "execution_count": 34,
   "metadata": {},
   "outputs": [
    {
     "name": "stdout",
     "output_type": "stream",
     "text": [
      "F-statistic: 607.843\n",
      "P-value: 0.00000\n",
      "✅ We reject the null hypothesis: At least one rating category has a different average revenue.\n"
     ]
    }
   ],
   "source": [
    "import scipy.stats as stats\n",
    "\n",
    "# Copy and clean the data\n",
    "df_anova = merged_df.copy()\n",
    "\n",
    "# Clean box_office column\n",
    "df_anova['box_office'] = df_anova['box_office'].replace('[\\$,]', '', regex=True)\n",
    "df_anova['box_office'] = pd.to_numeric(df_anova['box_office'], errors='coerce')\n",
    "\n",
    "# Drop rows with missing box_office or rating_x\n",
    "df_anova = df_anova.dropna(subset=['box_office', 'rating_x'])\n",
    "\n",
    "# Filter to common ratings only (optional, to reduce noise)\n",
    "common_ratings = ['G', 'PG', 'PG-13', 'R', 'NC-17']\n",
    "df_anova = df_anova[df_anova['rating_x'].isin(common_ratings)]\n",
    "\n",
    "# --- Run ANOVA ---\n",
    "groups = [group['box_office'].dropna() for name, group in df_anova.groupby('rating_x')]\n",
    "f_stat, p_val = stats.f_oneway(*groups)\n",
    "\n",
    "print(f\"F-statistic: {f_stat:.3f}\")\n",
    "print(f\"P-value: {p_val:.5f}\")\n",
    "\n",
    "if p_val < 0.05:\n",
    "    print(\"✅ We reject the null hypothesis: At least one rating category has a different average revenue.\")\n",
    "else:\n",
    "    print(\"❌ We fail to reject the null hypothesis: No significant difference across rating categories.\")\n"
   ]
  },
  {
   "cell_type": "markdown",
   "metadata": {},
   "source": [
    "### 2. **Box Office Revenue vs Freshness**\n",
    "- Type: Box plot\n",
    "\n",
    "- Useful For Hypothesis Testing:Movies with a ‘Fresh’ rating earn more revenue than those with a ‘Rotten’ rating. "
   ]
  },
  {
   "cell_type": "code",
   "execution_count": 33,
   "metadata": {},
   "outputs": [
    {
     "data": {
      "image/png": "[encoded data removed]",
      "text/plain": [
       "<Figure size 720x432 with 1 Axes>"
      ]
     },
     "metadata": {
      "needs_background": "light"
     },
     "output_type": "display_data"
    }
   ],
   "source": [
    "# Make a copy to avoid altering original\n",
    "df = merged_df.copy()\n",
    "\n",
    "# Clean 'box_office' column \n",
    "# Remove currency symbols and commas, convert to numeric\n",
    "df['box_office'] = df['box_office'].replace('[\\$,]', '', regex=True)\n",
    "df['box_office'] = pd.to_numeric(df['box_office'], errors='coerce')\n",
    "\n",
    "# Drop rows with missing values in 'box_office' or 'fresh'\n",
    "df_clean = df.dropna(subset=['box_office', 'fresh'])\n",
    "\n",
    "# Simplify 'fresh' into binary (Fresh vs Rotten)\n",
    "df_clean['fresh_binary'] = df_clean['fresh'].map({'fresh': 'Fresh', 'rotten': 'Rotten'})\n",
    "\n",
    "# Plotting \n",
    "plt.figure(figsize=(10, 6))\n",
    "sns.boxplot(data=df_clean, x='fresh_binary', y='box_office', palette='Set2')\n",
    "plt.title('Box Office Revenue vs Freshness')\n",
    "plt.xlabel('Critic Freshness')\n",
    "plt.ylabel('Box Office Revenue (USD)')\n",
    "plt.yscale('log')  # Optional: log scale to handle skew\n",
    "plt.grid(True, linestyle='--', alpha=0.5)\n",
    "plt.tight_layout()\n",
    "plt.show()\n",
    "\n",
    "\n",
    "\n"
   ]
  },
  {
   "cell_type": "markdown",
   "metadata": {},
   "source": [
    "## 🧪 Hypothesis:\n",
    "- Null Hypothesis (H₀): There is no significant difference in box office revenue between \"Fresh\" and \"Rotten\" movies.\n",
    "\n",
    "- Alternative Hypothesis (H₁): \"Fresh\" movies earn significantly more than \"Rotten\" movies."
   ]
  },
  {
   "cell_type": "code",
   "execution_count": 29,
   "metadata": {},
   "outputs": [
    {
     "name": "stdout",
     "output_type": "stream",
     "text": [
      "T-statistic: 7.388\n",
      "P-value: 0.00000\n",
      "✅ We reject the null hypothesis: Fresh movies earn significantly more.\n"
     ]
    }
   ],
   "source": [
    "from scipy.stats import ttest_ind\n",
    "\n",
    "# Filter data again for safety\n",
    "df_ttest = df_clean[df_clean['fresh_binary'].isin(['Fresh', 'Rotten'])]\n",
    "\n",
    "# Split into two groups\n",
    "fresh_revenue = df_ttest[df_ttest['fresh_binary'] == 'Fresh']['box_office']\n",
    "rotten_revenue = df_ttest[df_ttest['fresh_binary'] == 'Rotten']['box_office']\n",
    "\n",
    "# Perform independent t-test (Welch’s t-test by default)\n",
    "t_stat, p_value = ttest_ind(fresh_revenue, rotten_revenue, equal_var=False)\n",
    "\n",
    "# Print results\n",
    "print(f\"T-statistic: {t_stat:.3f}\")\n",
    "print(f\"P-value: {p_value:.5f}\")\n",
    "\n",
    "# Interpretation\n",
    "if p_value < 0.05:\n",
    "    print(\"✅ We reject the null hypothesis: Fresh movies earn significantly more.\")\n",
    "else:\n",
    "    print(\"❌ We fail to reject the null hypothesis: No significant revenue difference.\")\n"
   ]
  },
  {
   "cell_type": "markdown",
   "metadata": {},
   "source": [
    "### 3. Genre vs Freshness Analysis\n",
    "- Why? See if certain genres get better (\"fresh\") ratings more often.\n",
    "\n",
    "- Type: Grouped Bar Chart or Proportion Chart"
   ]
  },
  {
   "cell_type": "code",
   "execution_count": null,
   "metadata": {},
   "outputs": [
    {
     "data": {
      "image/png": "[encoded data removed]",
      "text/plain": [
       "<Figure size 864x432 with 1 Axes>"
      ]
     },
     "metadata": {
      "needs_background": "light"
     },
     "output_type": "display_data"
    }
   ],
   "source": [
    "# Explode genres if multiple genres are combined with '|'\n",
    "merged_df['genre_exploded'] = merged_df['genre'].str.split('|')\n",
    "\n",
    "# Expand rows for each genre\n",
    "genre_df = merged_df.explode('genre_exploded')\n",
    "\n",
    "# Plot\n",
    "plt.figure(figsize=(12,6))\n",
    "sns.countplot(data=genre_df, x='genre_exploded', hue='fresh', order=genre_df['genre_exploded'].value_counts().index)\n",
    "plt.xticks(rotation=90)\n",
    "plt.title('Freshness by Genre')\n",
    "plt.show()\n"
   ]
  },
  {
   "cell_type": "markdown",
   "metadata": {},
   "source": [
    "### 🧪 Hypothesis Statement (for statistical testing):\n",
    "Null Hypothesis (H₀): Freshness (fresh vs. rotten) is independent of movie genre—there’s no association.\n",
    "\n",
    "Alternative Hypothesis (H₁): Freshness is dependent on movie genre—some genres tend to get more fresh reviews than others.\n",
    "\n",
    "This is a chi-square test for independence, since both genre and fresh are categorical variables.\n",
    "\n"
   ]
  },
  {
   "cell_type": "code",
   "execution_count": 35,
   "metadata": {},
   "outputs": [
    {
     "name": "stdout",
     "output_type": "stream",
     "text": [
      "Chi-Square Statistic: 565.22\n",
      "Degrees of Freedom: 16\n",
      "P-value: 0.00000\n",
      "✅ We reject the null hypothesis: Freshness is dependent on genre.\n"
     ]
    }
   ],
   "source": [
    "import scipy.stats as stats\n",
    "\n",
    "# Create a contingency table\n",
    "contingency_table = pd.crosstab(genre_df['genre_exploded'], genre_df['fresh'])\n",
    "\n",
    "# Perform the chi-square test\n",
    "chi2_stat, p_val, dof, expected = stats.chi2_contingency(contingency_table)\n",
    "\n",
    "print(f\"Chi-Square Statistic: {chi2_stat:.2f}\")\n",
    "print(f\"Degrees of Freedom: {dof}\")\n",
    "print(f\"P-value: {p_val:.5f}\")\n",
    "\n",
    "# Conclusion\n",
    "if p_val < 0.05:\n",
    "    print(\"✅ We reject the null hypothesis: Freshness is dependent on genre.\")\n",
    "else:\n",
    "    print(\"❌ We fail to reject the null hypothesis: No significant association between genre and freshness.\")\n"
   ]
  },
  {
   "cell_type": "markdown",
   "metadata": {},
   "source": [
    "### **✅ Conclusion**\n",
    "The analysis provides strong statistical evidence to guide strategic decisions for the new movie studio. First, the chi-square test confirms that movie freshness is significantly associated with genre. This suggests that certain genres are more likely to receive positive (fresh) ratings, which can be leveraged to target critically acclaimed film production.\n",
    "\n",
    "Second, the t-test indicates that fresh movies earn significantly more at the box office compared to rotten ones. This insight supports investing in higher-quality productions that are more likely to be well-received by critics.\n",
    "\n",
    "Finally, we found that box office revenue significantly varies across rating categories e.g. PG, R, highlighting that audience suitability influences commercial success. This can inform targeted content for specific demographics.\n",
    "\n",
    "In summary, focusing on genres with a higher likelihood of receiving fresh ratings, aiming for critical acclaim, and strategically choosing film ratings are all actionable strategies the new studio can adopt to maximize box office performance and competitive advantage"
   ]
  },
  {
   "cell_type": "markdown",
   "metadata": {},
   "source": []
  }
 ],
 "metadata": {
  "kernelspec": {
   "display_name": "learn-env",
   "language": "python",
   "name": "python3"
  },
  "language_info": {
   "codemirror_mode": {
    "name": "ipython",
    "version": 3
   },
   "file_extension": ".py",
   "mimetype": "text/x-python",
   "name": "python",
   "nbconvert_exporter": "python",
   "pygments_lexer": "ipython3",
   "version": "3.8.5"
  }
 },
 "nbformat": 4,
 "nbformat_minor": 2
}
